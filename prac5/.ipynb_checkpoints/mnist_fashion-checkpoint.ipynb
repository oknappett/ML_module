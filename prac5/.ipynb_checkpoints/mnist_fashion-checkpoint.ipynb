{
 "cells": [
  {
   "cell_type": "code",
   "execution_count": 44,
   "id": "42342bf0",
   "metadata": {},
   "outputs": [],
   "source": [
    "#imports\n",
    "import tensorflow as tf\n",
    "from tensorflow import keras"
   ]
  },
  {
   "cell_type": "code",
   "execution_count": 45,
   "id": "4329b9a9",
   "metadata": {
    "scrolled": true
   },
   "outputs": [
    {
     "name": "stdout",
     "output_type": "stream",
     "text": [
      "Size of:\n",
      "training set: (60000, 28, 28)\n",
      "testing set: (10000, 28, 28)\n",
      "Labels: [9 0 0 ... 3 0 5]\n",
      "Label shape: (60000,)\n"
     ]
    }
   ],
   "source": [
    "#mnist dataset\n",
    "from tensorflow.keras.datasets import fashion_mnist\n",
    "\n",
    "(image_train, label_train), (image_test, label_test) = fashion_mnist.load_data()\n",
    "print(f\"Size of:\\ntraining set: {image_train.shape}\\ntesting set: {image_test.shape}\")\n",
    "print(f\"Labels: {label_train}\\nLabel shape: {label_train.shape}\")"
   ]
  },
  {
   "cell_type": "code",
   "execution_count": 46,
   "id": "cc7a93e3",
   "metadata": {},
   "outputs": [],
   "source": [
    "#plotting each image\n",
    "import matplotlib.pyplot as plt\n",
    "def plot_image(image, label_true, label_pred = None):\n",
    "    plt.imshow(image, cmap='gray')\n",
    "    \n",
    "    if label_pred is None:\n",
    "        xlab = f\"True: {label_true}\"\n",
    "    else:\n",
    "        xlab = f\"True: {label_true}, Pred: {label_pred}\"\n",
    "        \n",
    "    plt.xlabel(xlab)\n",
    "    \n",
    "    plt.xticks([])\n",
    "    plt.yticks([])\n",
    "    \n",
    "    plt.show"
   ]
  },
  {
   "cell_type": "code",
   "execution_count": 47,
   "id": "ff5b6ff1",
   "metadata": {
    "scrolled": true
   },
   "outputs": [
    {
     "data": {
      "image/png": "[encoded data removed]",
      "text/plain": [
       "<Figure size 432x288 with 1 Axes>"
      ]
     },
     "metadata": {},
     "output_type": "display_data"
    }
   ],
   "source": [
    "plot_image(image_train[0], label_train[0])"
   ]
  },
  {
   "cell_type": "code",
   "execution_count": 48,
   "id": "a1b6b3b2",
   "metadata": {},
   "outputs": [
    {
     "name": "stdout",
     "output_type": "stream",
     "text": [
      "Size of:\n",
      "- Training-set:\t\t(60000, 784)\n",
      "- Test-set:\t\t(10000, 784)\n"
     ]
    }
   ],
   "source": [
    "#reshaping the images\n",
    "X_train = image_train.reshape(image_train.shape[0], -1).astype('float32')/255\n",
    "X_test = image_test.reshape(image_test.shape[0], -1).astype('float32')/255\n",
    "\n",
    "print(\"Size of:\")\n",
    "print(\"- Training-set:\\t\\t{}\".format(X_train.shape))\n",
    "print(\"- Test-set:\\t\\t{}\".format(X_test.shape))"
   ]
  },
  {
   "cell_type": "code",
   "execution_count": 60,
   "id": "e4b69acb",
   "metadata": {
    "scrolled": true
   },
   "outputs": [
    {
     "name": "stdout",
     "output_type": "stream",
     "text": [
      "(60000, 784), (10000, 784)\n"
     ]
    }
   ],
   "source": [
    "#PCA dimensionality reduction\n",
    "from sklearn.decomposition import PCA\n",
    "pca = PCA(n_components=784)\n",
    "pca.fit(X_train)\n",
    "\n",
    "X_train_pca = pca.transform(X_train)\n",
    "X_test_pca = pca.transform(X_test)\n",
    "\n",
    "print(f\"{X_train.shape}, {X_test.shape}\")"
   ]
  },
  {
   "cell_type": "code",
   "execution_count": 61,
   "id": "c2c1d47c",
   "metadata": {},
   "outputs": [
    {
     "name": "stdout",
     "output_type": "stream",
     "text": [
      "[0. 0. 0. 0. 0. 0. 0. 0. 0. 1.] 9\n"
     ]
    }
   ],
   "source": [
    "#one hot encoding:\n",
    "from keras.utils import to_categorical\n",
    "\n",
    "y_train = to_categorical(label_train)\n",
    "y_test = to_categorical(label_test)\n",
    "\n",
    "print(y_train[0], label_train[0])"
   ]
  },
  {
   "cell_type": "code",
   "execution_count": 79,
   "id": "756757b5",
   "metadata": {
    "scrolled": true
   },
   "outputs": [
    {
     "name": "stdout",
     "output_type": "stream",
     "text": [
      "Model: \"sequential_7\"\n",
      "_________________________________________________________________\n",
      " Layer (type)                Output Shape              Param #   \n",
      "=================================================================\n",
      " dense_32 (Dense)            (None, 30)                23550     \n",
      "                                                                 \n",
      " dense_33 (Dense)            (None, 30)                930       \n",
      "                                                                 \n",
      " dense_34 (Dense)            (None, 30)                930       \n",
      "                                                                 \n",
      " dense_35 (Dense)            (None, 30)                930       \n",
      "                                                                 \n",
      " dense_36 (Dense)            (None, 30)                930       \n",
      "                                                                 \n",
      " dense_37 (Dense)            (None, 30)                930       \n",
      "                                                                 \n",
      " dense_38 (Dense)            (None, 10)                310       \n",
      "                                                                 \n",
      "=================================================================\n",
      "Total params: 28,510\n",
      "Trainable params: 28,510\n",
      "Non-trainable params: 0\n",
      "_________________________________________________________________\n"
     ]
    }
   ],
   "source": [
    "#creating keras sequential model \n",
    "from keras.models import Sequential\n",
    "from keras import layers\n",
    "\n",
    "model = Sequential([\n",
    "    keras.Input(shape=(X_train_pca[0].shape)),\n",
    "    layers.Dense(30, activation='relu'),\n",
    "    layers.Dense(30, activation='relu'),\n",
    "    layers.Dense(30, activation='relu'),\n",
    "    layers.Dense(30, activation='relu'),\n",
    "    layers.Dense(30, activation='relu'),\n",
    "    layers.Dense(30, activation='relu'),\n",
    "    layers.Dense(10, activation='softmax')\n",
    "])\n",
    "\n",
    "model.summary()"
   ]
  },
  {
   "cell_type": "code",
   "execution_count": 83,
   "id": "5171c36b",
   "metadata": {},
   "outputs": [],
   "source": [
    "op =keras.optimizers.SGD(learning_rate=0.1)\n",
    "model.compile(optimizer=op, loss='categorical_crossentropy', metrics=['accuracy'])"
   ]
  },
  {
   "cell_type": "code",
   "execution_count": 84,
   "id": "cbff7b73",
   "metadata": {
    "scrolled": false
   },
   "outputs": [
    {
     "name": "stdout",
     "output_type": "stream",
     "text": [
      "Epoch 1/100\n",
      "54/54 [==============================] - 1s 7ms/step - loss: 1.1715 - accuracy: 0.5588 - val_loss: 0.9294 - val_accuracy: 0.6285\n",
      "Epoch 2/100\n",
      "54/54 [==============================] - 0s 4ms/step - loss: 0.8354 - accuracy: 0.6725 - val_loss: 0.7032 - val_accuracy: 0.7347\n",
      "Epoch 3/100\n",
      "54/54 [==============================] - 0s 5ms/step - loss: 0.7023 - accuracy: 0.7384 - val_loss: 0.6553 - val_accuracy: 0.7373\n",
      "Epoch 4/100\n",
      "54/54 [==============================] - 0s 5ms/step - loss: 0.6247 - accuracy: 0.7728 - val_loss: 0.5599 - val_accuracy: 0.8027\n",
      "Epoch 5/100\n",
      "54/54 [==============================] - 0s 4ms/step - loss: 0.5677 - accuracy: 0.7958 - val_loss: 0.5721 - val_accuracy: 0.7895\n",
      "Epoch 6/100\n",
      "54/54 [==============================] - 0s 4ms/step - loss: 0.5341 - accuracy: 0.8071 - val_loss: 0.5201 - val_accuracy: 0.8152\n",
      "Epoch 7/100\n",
      "54/54 [==============================] - 0s 5ms/step - loss: 0.4997 - accuracy: 0.8219 - val_loss: 0.4879 - val_accuracy: 0.8222\n",
      "Epoch 8/100\n",
      "54/54 [==============================] - 0s 5ms/step - loss: 0.4719 - accuracy: 0.8321 - val_loss: 0.4821 - val_accuracy: 0.8293\n",
      "Epoch 9/100\n",
      "54/54 [==============================] - 0s 4ms/step - loss: 0.4554 - accuracy: 0.8360 - val_loss: 0.4456 - val_accuracy: 0.8420\n",
      "Epoch 10/100\n",
      "54/54 [==============================] - 0s 5ms/step - loss: 0.4411 - accuracy: 0.8400 - val_loss: 0.4251 - val_accuracy: 0.8458\n",
      "Epoch 11/100\n",
      "54/54 [==============================] - 0s 5ms/step - loss: 0.4221 - accuracy: 0.8480 - val_loss: 0.4289 - val_accuracy: 0.8437\n",
      "Epoch 12/100\n",
      "54/54 [==============================] - 0s 5ms/step - loss: 0.4190 - accuracy: 0.8475 - val_loss: 0.4417 - val_accuracy: 0.8393\n",
      "Epoch 13/100\n",
      "54/54 [==============================] - 0s 4ms/step - loss: 0.4004 - accuracy: 0.8552 - val_loss: 0.4088 - val_accuracy: 0.8467\n",
      "Epoch 14/100\n",
      "54/54 [==============================] - 0s 5ms/step - loss: 0.3992 - accuracy: 0.8558 - val_loss: 0.4630 - val_accuracy: 0.8303\n",
      "Epoch 15/100\n",
      "54/54 [==============================] - 0s 4ms/step - loss: 0.3831 - accuracy: 0.8634 - val_loss: 0.3923 - val_accuracy: 0.8567\n",
      "Epoch 16/100\n",
      "54/54 [==============================] - 0s 4ms/step - loss: 0.3801 - accuracy: 0.8630 - val_loss: 0.4110 - val_accuracy: 0.8473\n",
      "Epoch 17/100\n",
      "54/54 [==============================] - 0s 4ms/step - loss: 0.3740 - accuracy: 0.8652 - val_loss: 0.3954 - val_accuracy: 0.8520\n",
      "Epoch 18/100\n",
      "54/54 [==============================] - 0s 4ms/step - loss: 0.3654 - accuracy: 0.8679 - val_loss: 0.4039 - val_accuracy: 0.8533\n",
      "Epoch 19/100\n",
      "54/54 [==============================] - 0s 4ms/step - loss: 0.3669 - accuracy: 0.8687 - val_loss: 0.3909 - val_accuracy: 0.8575\n",
      "Epoch 20/100\n",
      "54/54 [==============================] - 0s 4ms/step - loss: 0.3564 - accuracy: 0.8712 - val_loss: 0.3900 - val_accuracy: 0.8582\n",
      "Epoch 21/100\n",
      "54/54 [==============================] - 0s 5ms/step - loss: 0.3466 - accuracy: 0.8753 - val_loss: 0.4110 - val_accuracy: 0.8507\n",
      "Epoch 22/100\n",
      "54/54 [==============================] - 0s 5ms/step - loss: 0.3399 - accuracy: 0.8776 - val_loss: 0.3742 - val_accuracy: 0.8655\n",
      "Epoch 23/100\n",
      "54/54 [==============================] - 0s 4ms/step - loss: 0.3492 - accuracy: 0.8735 - val_loss: 0.3779 - val_accuracy: 0.8608\n",
      "Epoch 24/100\n",
      "54/54 [==============================] - 0s 4ms/step - loss: 0.3399 - accuracy: 0.8776 - val_loss: 0.3952 - val_accuracy: 0.8570\n",
      "Epoch 25/100\n",
      "54/54 [==============================] - 0s 4ms/step - loss: 0.3342 - accuracy: 0.8802 - val_loss: 0.3677 - val_accuracy: 0.8663\n",
      "Epoch 26/100\n",
      "54/54 [==============================] - 0s 4ms/step - loss: 0.3328 - accuracy: 0.8791 - val_loss: 0.3938 - val_accuracy: 0.8625\n",
      "Epoch 27/100\n",
      "54/54 [==============================] - 0s 4ms/step - loss: 0.3285 - accuracy: 0.8821 - val_loss: 0.3816 - val_accuracy: 0.8587\n",
      "Epoch 28/100\n",
      "54/54 [==============================] - 0s 4ms/step - loss: 0.3320 - accuracy: 0.8799 - val_loss: 0.3667 - val_accuracy: 0.8643\n",
      "Epoch 29/100\n",
      "54/54 [==============================] - 0s 5ms/step - loss: 0.3174 - accuracy: 0.8859 - val_loss: 0.3827 - val_accuracy: 0.8585\n",
      "Epoch 30/100\n",
      "54/54 [==============================] - 0s 4ms/step - loss: 0.3226 - accuracy: 0.8830 - val_loss: 0.3679 - val_accuracy: 0.8657\n",
      "Epoch 31/100\n",
      "54/54 [==============================] - 0s 5ms/step - loss: 0.3143 - accuracy: 0.8865 - val_loss: 0.4015 - val_accuracy: 0.8540\n",
      "Epoch 32/100\n",
      "54/54 [==============================] - 0s 4ms/step - loss: 0.3204 - accuracy: 0.8840 - val_loss: 0.3651 - val_accuracy: 0.8653\n",
      "Epoch 33/100\n",
      "54/54 [==============================] - 0s 4ms/step - loss: 0.3065 - accuracy: 0.8890 - val_loss: 0.3705 - val_accuracy: 0.8678\n",
      "Epoch 34/100\n",
      "54/54 [==============================] - 0s 5ms/step - loss: 0.3068 - accuracy: 0.8887 - val_loss: 0.3728 - val_accuracy: 0.8678\n",
      "Epoch 35/100\n",
      "54/54 [==============================] - 0s 5ms/step - loss: 0.3219 - accuracy: 0.8835 - val_loss: 0.3705 - val_accuracy: 0.8688\n",
      "Epoch 36/100\n",
      "54/54 [==============================] - 0s 4ms/step - loss: 0.3052 - accuracy: 0.8898 - val_loss: 0.3610 - val_accuracy: 0.8688\n",
      "Epoch 37/100\n",
      "54/54 [==============================] - 0s 4ms/step - loss: 0.2961 - accuracy: 0.8938 - val_loss: 0.3702 - val_accuracy: 0.8667\n",
      "Epoch 38/100\n",
      "54/54 [==============================] - 0s 4ms/step - loss: 0.2956 - accuracy: 0.8934 - val_loss: 0.3622 - val_accuracy: 0.8693\n",
      "Epoch 39/100\n",
      "54/54 [==============================] - 0s 4ms/step - loss: 0.2952 - accuracy: 0.8946 - val_loss: 0.3833 - val_accuracy: 0.8607\n",
      "Epoch 40/100\n",
      "54/54 [==============================] - 0s 4ms/step - loss: 0.2964 - accuracy: 0.8926 - val_loss: 0.3791 - val_accuracy: 0.8608\n",
      "Epoch 41/100\n",
      "54/54 [==============================] - 0s 4ms/step - loss: 0.2907 - accuracy: 0.8949 - val_loss: 0.3707 - val_accuracy: 0.8662\n",
      "Epoch 42/100\n",
      "54/54 [==============================] - 0s 4ms/step - loss: 0.2873 - accuracy: 0.8969 - val_loss: 0.3621 - val_accuracy: 0.8703\n",
      "Epoch 43/100\n",
      "54/54 [==============================] - 0s 5ms/step - loss: 0.3077 - accuracy: 0.8898 - val_loss: 0.3542 - val_accuracy: 0.8730\n",
      "Epoch 44/100\n",
      "54/54 [==============================] - 0s 5ms/step - loss: 0.2848 - accuracy: 0.8982 - val_loss: 0.3540 - val_accuracy: 0.8720\n",
      "Epoch 45/100\n",
      "54/54 [==============================] - 0s 4ms/step - loss: 0.2842 - accuracy: 0.8966 - val_loss: 0.3647 - val_accuracy: 0.8715\n",
      "Epoch 46/100\n",
      "54/54 [==============================] - 0s 4ms/step - loss: 0.2797 - accuracy: 0.8994 - val_loss: 0.3680 - val_accuracy: 0.8677\n",
      "Epoch 47/100\n",
      "54/54 [==============================] - 0s 4ms/step - loss: 0.2832 - accuracy: 0.8985 - val_loss: 0.3583 - val_accuracy: 0.8712\n",
      "Epoch 48/100\n",
      "54/54 [==============================] - 0s 4ms/step - loss: 0.2738 - accuracy: 0.9007 - val_loss: 0.3863 - val_accuracy: 0.8593\n",
      "Epoch 49/100\n",
      "54/54 [==============================] - 0s 4ms/step - loss: 0.2739 - accuracy: 0.9017 - val_loss: 0.3609 - val_accuracy: 0.8710\n",
      "Epoch 50/100\n",
      "54/54 [==============================] - 0s 5ms/step - loss: 0.2775 - accuracy: 0.8994 - val_loss: 0.3734 - val_accuracy: 0.8648\n",
      "Epoch 51/100\n",
      "54/54 [==============================] - 0s 4ms/step - loss: 0.2737 - accuracy: 0.9016 - val_loss: 0.3673 - val_accuracy: 0.8702\n",
      "Epoch 52/100\n",
      "54/54 [==============================] - 0s 4ms/step - loss: 0.2736 - accuracy: 0.9006 - val_loss: 0.3682 - val_accuracy: 0.8713\n",
      "Epoch 53/100\n",
      "54/54 [==============================] - 0s 5ms/step - loss: 0.2723 - accuracy: 0.9015 - val_loss: 0.3577 - val_accuracy: 0.8732\n",
      "Epoch 54/100\n",
      "54/54 [==============================] - 0s 4ms/step - loss: 0.2704 - accuracy: 0.9024 - val_loss: 0.3537 - val_accuracy: 0.8740\n",
      "Epoch 55/100\n",
      "54/54 [==============================] - 0s 4ms/step - loss: 0.2667 - accuracy: 0.9042 - val_loss: 0.3607 - val_accuracy: 0.8732\n",
      "Epoch 56/100\n",
      "54/54 [==============================] - 0s 4ms/step - loss: 0.2859 - accuracy: 0.8983 - val_loss: 0.3531 - val_accuracy: 0.8760\n",
      "Epoch 57/100\n",
      "54/54 [==============================] - 0s 5ms/step - loss: 0.2589 - accuracy: 0.9067 - val_loss: 0.3697 - val_accuracy: 0.8677\n",
      "Epoch 58/100\n",
      "54/54 [==============================] - 0s 4ms/step - loss: 0.2624 - accuracy: 0.9048 - val_loss: 0.3582 - val_accuracy: 0.8760\n"
     ]
    },
    {
     "name": "stdout",
     "output_type": "stream",
     "text": [
      "Epoch 59/100\n",
      "54/54 [==============================] - 0s 4ms/step - loss: 0.2630 - accuracy: 0.9055 - val_loss: 0.3832 - val_accuracy: 0.8652\n",
      "Epoch 60/100\n",
      "54/54 [==============================] - 0s 4ms/step - loss: 0.2623 - accuracy: 0.9053 - val_loss: 0.3534 - val_accuracy: 0.8785\n",
      "Epoch 61/100\n",
      "54/54 [==============================] - 0s 4ms/step - loss: 0.2689 - accuracy: 0.9051 - val_loss: 0.5420 - val_accuracy: 0.8172\n",
      "Epoch 62/100\n",
      "54/54 [==============================] - 0s 5ms/step - loss: 0.2638 - accuracy: 0.9056 - val_loss: 0.3798 - val_accuracy: 0.8638\n",
      "Epoch 63/100\n",
      "54/54 [==============================] - 0s 4ms/step - loss: 0.2567 - accuracy: 0.9073 - val_loss: 0.3662 - val_accuracy: 0.8730\n",
      "Epoch 64/100\n",
      "54/54 [==============================] - 0s 4ms/step - loss: 0.2518 - accuracy: 0.9091 - val_loss: 0.3554 - val_accuracy: 0.8752\n",
      "Epoch 65/100\n",
      "54/54 [==============================] - 0s 4ms/step - loss: 0.2527 - accuracy: 0.9091 - val_loss: 0.3615 - val_accuracy: 0.8760\n",
      "Epoch 66/100\n",
      "54/54 [==============================] - 0s 4ms/step - loss: 0.2474 - accuracy: 0.9118 - val_loss: 0.3564 - val_accuracy: 0.8752\n",
      "Epoch 67/100\n",
      "54/54 [==============================] - 0s 4ms/step - loss: 0.2469 - accuracy: 0.9115 - val_loss: 0.3670 - val_accuracy: 0.8718\n",
      "Epoch 68/100\n",
      "54/54 [==============================] - 0s 4ms/step - loss: 0.2603 - accuracy: 0.9064 - val_loss: 0.3675 - val_accuracy: 0.8740\n",
      "Epoch 69/100\n",
      "54/54 [==============================] - 0s 5ms/step - loss: 0.2445 - accuracy: 0.9117 - val_loss: 0.3785 - val_accuracy: 0.8658\n",
      "Epoch 70/100\n",
      "54/54 [==============================] - 0s 5ms/step - loss: 0.2527 - accuracy: 0.9086 - val_loss: 0.3648 - val_accuracy: 0.8775\n",
      "Epoch 71/100\n",
      "54/54 [==============================] - 0s 4ms/step - loss: 0.2437 - accuracy: 0.9137 - val_loss: 0.3665 - val_accuracy: 0.8740\n",
      "Epoch 72/100\n",
      "54/54 [==============================] - 0s 4ms/step - loss: 0.2417 - accuracy: 0.9126 - val_loss: 0.3855 - val_accuracy: 0.8692\n",
      "Epoch 73/100\n",
      "54/54 [==============================] - 0s 6ms/step - loss: 0.2440 - accuracy: 0.9117 - val_loss: 0.3714 - val_accuracy: 0.8755\n",
      "Epoch 74/100\n",
      "54/54 [==============================] - 0s 5ms/step - loss: 0.2426 - accuracy: 0.9132 - val_loss: 0.4017 - val_accuracy: 0.8643\n",
      "Epoch 75/100\n",
      "54/54 [==============================] - 0s 5ms/step - loss: 0.2506 - accuracy: 0.9111 - val_loss: 0.3705 - val_accuracy: 0.8710\n",
      "Epoch 76/100\n",
      "54/54 [==============================] - 0s 4ms/step - loss: 0.2382 - accuracy: 0.9135 - val_loss: 0.3704 - val_accuracy: 0.8738\n",
      "Epoch 77/100\n",
      "54/54 [==============================] - 0s 4ms/step - loss: 0.2354 - accuracy: 0.9162 - val_loss: 0.3702 - val_accuracy: 0.8705\n",
      "Epoch 78/100\n",
      "54/54 [==============================] - 0s 4ms/step - loss: 0.2335 - accuracy: 0.9151 - val_loss: 0.3637 - val_accuracy: 0.8760\n",
      "Epoch 79/100\n",
      "54/54 [==============================] - 0s 4ms/step - loss: 0.2339 - accuracy: 0.9165 - val_loss: 0.3966 - val_accuracy: 0.8662\n",
      "Epoch 80/100\n",
      "54/54 [==============================] - 0s 4ms/step - loss: 0.2326 - accuracy: 0.9158 - val_loss: 0.3912 - val_accuracy: 0.8683\n",
      "Epoch 81/100\n",
      "54/54 [==============================] - 0s 4ms/step - loss: 0.2390 - accuracy: 0.9134 - val_loss: 0.3748 - val_accuracy: 0.8710\n",
      "Epoch 82/100\n",
      "54/54 [==============================] - 0s 5ms/step - loss: 0.2314 - accuracy: 0.9176 - val_loss: 0.3840 - val_accuracy: 0.8692\n",
      "Epoch 83/100\n",
      "54/54 [==============================] - 0s 5ms/step - loss: 0.2353 - accuracy: 0.9150 - val_loss: 0.3650 - val_accuracy: 0.8768\n",
      "Epoch 84/100\n",
      "54/54 [==============================] - 0s 5ms/step - loss: 0.2283 - accuracy: 0.9172 - val_loss: 0.3783 - val_accuracy: 0.8722\n",
      "Epoch 85/100\n",
      "54/54 [==============================] - 0s 5ms/step - loss: 0.2281 - accuracy: 0.9182 - val_loss: 0.4011 - val_accuracy: 0.8647\n",
      "Epoch 86/100\n",
      "54/54 [==============================] - 0s 4ms/step - loss: 0.2287 - accuracy: 0.9178 - val_loss: 0.3978 - val_accuracy: 0.8687\n",
      "Epoch 87/100\n",
      "54/54 [==============================] - 0s 5ms/step - loss: 0.2277 - accuracy: 0.9186 - val_loss: 0.3773 - val_accuracy: 0.8708\n",
      "Epoch 88/100\n",
      "54/54 [==============================] - 0s 4ms/step - loss: 0.2266 - accuracy: 0.9185 - val_loss: 0.3675 - val_accuracy: 0.8762\n",
      "Epoch 89/100\n",
      "54/54 [==============================] - 0s 5ms/step - loss: 0.2200 - accuracy: 0.9213 - val_loss: 0.3858 - val_accuracy: 0.8715\n",
      "Epoch 90/100\n",
      "54/54 [==============================] - 0s 4ms/step - loss: 0.5379 - accuracy: 0.8523 - val_loss: 0.3791 - val_accuracy: 0.8687\n",
      "Epoch 91/100\n",
      "54/54 [==============================] - 0s 4ms/step - loss: 0.2577 - accuracy: 0.9094 - val_loss: 0.3688 - val_accuracy: 0.8713\n",
      "Epoch 92/100\n",
      "54/54 [==============================] - 0s 4ms/step - loss: 0.2314 - accuracy: 0.9171 - val_loss: 0.3746 - val_accuracy: 0.8740\n",
      "Epoch 93/100\n",
      "54/54 [==============================] - 0s 4ms/step - loss: 0.2243 - accuracy: 0.9201 - val_loss: 0.3697 - val_accuracy: 0.8745\n",
      "Epoch 94/100\n",
      "54/54 [==============================] - 0s 4ms/step - loss: 0.2211 - accuracy: 0.9209 - val_loss: 0.3680 - val_accuracy: 0.8757\n",
      "Epoch 95/100\n",
      "54/54 [==============================] - 0s 5ms/step - loss: 0.2208 - accuracy: 0.9200 - val_loss: 0.3713 - val_accuracy: 0.8742\n",
      "Epoch 96/100\n",
      "54/54 [==============================] - 0s 4ms/step - loss: 0.2198 - accuracy: 0.9211 - val_loss: 0.3808 - val_accuracy: 0.8687\n",
      "Epoch 97/100\n",
      "54/54 [==============================] - 0s 4ms/step - loss: 0.2159 - accuracy: 0.9231 - val_loss: 0.3844 - val_accuracy: 0.8702\n",
      "Epoch 98/100\n",
      "54/54 [==============================] - 0s 4ms/step - loss: 0.2138 - accuracy: 0.9244 - val_loss: 0.3736 - val_accuracy: 0.8745\n",
      "Epoch 99/100\n",
      "54/54 [==============================] - 0s 4ms/step - loss: 0.2298 - accuracy: 0.9185 - val_loss: 0.3735 - val_accuracy: 0.8735\n",
      "Epoch 100/100\n",
      "54/54 [==============================] - 0s 4ms/step - loss: 0.2098 - accuracy: 0.9251 - val_loss: 0.3802 - val_accuracy: 0.8735\n"
     ]
    }
   ],
   "source": [
    "hist = model.fit(X_train_pca, y_train, validation_split = 0.1, epochs = 100, batch_size = 1000)"
   ]
  },
  {
   "cell_type": "code",
   "execution_count": 85,
   "id": "9b4de661",
   "metadata": {
    "scrolled": true
   },
   "outputs": [
    {
     "data": {
      "image/png": "[encoded data removed]",
      "text/plain": [
       "<Figure size 432x288 with 1 Axes>"
      ]
     },
     "metadata": {
      "needs_background": "light"
     },
     "output_type": "display_data"
    }
   ],
   "source": [
    "hist = hist.history\n",
    "train_accuracy = hist['accuracy']\n",
    "val_accuracy = hist['val_accuracy']\n",
    "epochs = range(1, len(val_accuracy)+1)\n",
    "plt.plot(epochs, train_accuracy, 'bo', label='train accuracy')\n",
    "plt.plot(epochs, val_accuracy, 'b', label='validation accuracy')\n",
    "plt.title('Training and validation accuracy')\n",
    "plt.xlabel('Epochs')\n",
    "plt.ylabel('Accuracy')\n",
    "plt.legend(loc='best')\n",
    "plt.show()"
   ]
  },
  {
   "cell_type": "code",
   "execution_count": 86,
   "id": "4dd95ccf",
   "metadata": {},
   "outputs": [
    {
     "name": "stdout",
     "output_type": "stream",
     "text": [
      "313/313 [==============================] - 0s 867us/step - loss: 0.4087 - accuracy: 0.8680\n",
      "test loss, test acc: [0.40867528319358826, 0.8679999709129333]\n",
      "313/313 [==============================] - 0s 919us/step - loss: 0.4087 - accuracy: 0.8680\n",
      "Accuracy: 86.80\n"
     ]
    }
   ],
   "source": [
    "results = model.evaluate(X_test_pca, y_test)\n",
    "print(\"test loss, test acc:\", results)\n",
    "\n",
    "_, accuracy = model.evaluate(X_test_pca, y_test)\n",
    "print('Accuracy: %.2f' % (accuracy*100))"
   ]
  }
 ],
 "metadata": {
  "kernelspec": {
   "display_name": "Python 3 (ipykernel)",
   "language": "python",
   "name": "python3"
  },
  "language_info": {
   "codemirror_mode": {
    "name": "ipython",
    "version": 3
   },
   "file_extension": ".py",
   "mimetype": "text/x-python",
   "name": "python",
   "nbconvert_exporter": "python",
   "pygments_lexer": "ipython3",
   "version": "3.9.12"
  }
 },
 "nbformat": 4,
 "nbformat_minor": 5
}
