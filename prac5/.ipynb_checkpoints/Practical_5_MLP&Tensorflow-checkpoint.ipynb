{
 "cells": [
  {
   "cell_type": "markdown",
   "metadata": {
    "id": "pC_My_TCs0Lz"
   },
   "source": [
    "# A first look at artificial neural networks\n",
    "\n",
    "## Artificial Neural Networks\n",
    "\n",
    "Artificial Neural Networks (ANNs) are computational processing systems that are heavily inspired by the way biological nervous systems function. The basic structure of an ANN can be visually conceptualised like:\n",
    "\n",
    "<a title=\"Glosser.ca, CC BY-SA 3.0 &lt;https://creativecommons.org/licenses/by-sa/3.0&gt;, via Wikimedia Commons\" href=\"https://commons.wikimedia.org/wiki/File:Colored_neural_network.svg\"><img width=\"256\" alt=\"Colored neural network\" src=\"https://upload.wikimedia.org/wikipedia/commons/thumb/4/46/Colored_neural_network.svg/256px-Colored_neural_network.svg.png\"></a>\n",
    "\n",
    "**Figure 1:** A simple three layered fully connected feedforward neural network (FNN), aka Multi-layer perceptrons (MLPs),comprisedof a input layer, a hidden layer and an output layer.\n",
    "\n"
   ]
  },
  {
   "cell_type": "markdown",
   "metadata": {
    "id": "sjhFVOzTs0L9"
   },
   "source": [
    "## Neural network modelling frameworks\n",
    "\n",
    "#### Tensorflow and Keras \n",
    "Keras (https://keras.io) is a highlevel and easy-to-use API built on top of Tensorflow (https://www.tensorflow.org) for developing and evaluating deep learning models. It was developed with a focus on enabling fast experimentation. \n",
    "\n",
    "In this worksheet, you will learn how to create a neural network using Tensorflow Keras API. \n",
    "\n",
    "Neural network models are trained by gradient descent. As we perform computations, Tensorflow memorises the computation graph that we build up. When it comes to compute the gradient, tensorflow can trace back over the computation graph (using the backpropagation algorithm) and work out all the required gradients (handled in TensorFlow via the [GradientTape](https://www.tensorflow.org/api_docs/python/tf/GradientTape) object). \n",
    "\n",
    "When we build models with Keras, we don't usually have to worry about low level computation. High-level deep learning concepts translate to Keras APIs:\n",
    "\n",
    "- **Layers**, which are combined into a model A loss function, which defines the feedback signal used for learning\n",
    "- An **optimizer**, which determines how learning proceeds Metrics to evaluate model performance, such as accuracy\n",
    "- A training loop that performs **mini-batch** stochastic gradient descent\n",
    "\n",
    "Colab has got Tensorflow installed already. It is recommended to run this notebooke using Colab (https://colab.research.google.com/), or on your own computer after proper libraries including Tensorflow has been installed. In case you use Anaconda or miniconda and haven't got installed Tensorflow yet, you can do it following the instruction here:\n",
    "https://docs.anaconda.com/anaconda/user-guide/tasks/tensorflow/\n",
    "\n",
    "If you are not sure if you have got a suitable GPU, you can start with installing Tensorflow for CPU only.\n",
    "\n",
    "If you have trouble installing Tensorflow in your computer, or your computer does not have sufficient computational power, it would be easier to switch to Colab, or Kaggle kernel, or use some virtual machine in the cloud, where better computational resources (for RAM, CPU, GPU) are available. "
   ]
  },
  {
   "cell_type": "code",
   "execution_count": 1,
   "metadata": {},
   "outputs": [
    {
     "name": "stdout",
     "output_type": "stream",
     "text": [
      "Requirement already satisfied: tensorflow in /home/ollie/anaconda3/lib/python3.9/site-packages (2.11.0)\n",
      "Requirement already satisfied: six>=1.12.0 in /home/ollie/anaconda3/lib/python3.9/site-packages (from tensorflow) (1.16.0)\n",
      "Requirement already satisfied: packaging in /home/ollie/anaconda3/lib/python3.9/site-packages (from tensorflow) (21.3)\n",
      "Requirement already satisfied: typing-extensions>=3.6.6 in /home/ollie/anaconda3/lib/python3.9/site-packages (from tensorflow) (4.1.1)\n",
      "Requirement already satisfied: wrapt>=1.11.0 in /home/ollie/anaconda3/lib/python3.9/site-packages (from tensorflow) (1.12.1)\n",
      "Requirement already satisfied: tensorboard<2.12,>=2.11 in /home/ollie/anaconda3/lib/python3.9/site-packages (from tensorflow) (2.11.2)\n",
      "Requirement already satisfied: libclang>=13.0.0 in /home/ollie/anaconda3/lib/python3.9/site-packages (from tensorflow) (15.0.6.1)\n",
      "Requirement already satisfied: grpcio<2.0,>=1.24.3 in /home/ollie/anaconda3/lib/python3.9/site-packages (from tensorflow) (1.42.0)\n",
      "Requirement already satisfied: h5py>=2.9.0 in /home/ollie/anaconda3/lib/python3.9/site-packages (from tensorflow) (3.6.0)\n",
      "Requirement already satisfied: tensorflow-estimator<2.12,>=2.11.0 in /home/ollie/anaconda3/lib/python3.9/site-packages (from tensorflow) (2.11.0)\n",
      "Requirement already satisfied: numpy>=1.20 in /home/ollie/anaconda3/lib/python3.9/site-packages (from tensorflow) (1.22.4)\n",
      "Requirement already satisfied: gast<=0.4.0,>=0.2.1 in /home/ollie/anaconda3/lib/python3.9/site-packages (from tensorflow) (0.4.0)\n",
      "Requirement already satisfied: keras<2.12,>=2.11.0 in /home/ollie/anaconda3/lib/python3.9/site-packages (from tensorflow) (2.11.0)\n",
      "Requirement already satisfied: google-pasta>=0.1.1 in /home/ollie/anaconda3/lib/python3.9/site-packages (from tensorflow) (0.2.0)\n",
      "Requirement already satisfied: termcolor>=1.1.0 in /home/ollie/anaconda3/lib/python3.9/site-packages (from tensorflow) (2.2.0)\n",
      "Requirement already satisfied: opt-einsum>=2.3.2 in /home/ollie/anaconda3/lib/python3.9/site-packages (from tensorflow) (3.3.0)\n",
      "Requirement already satisfied: astunparse>=1.6.0 in /home/ollie/anaconda3/lib/python3.9/site-packages (from tensorflow) (1.6.3)\n",
      "Requirement already satisfied: tensorflow-io-gcs-filesystem>=0.23.1 in /home/ollie/anaconda3/lib/python3.9/site-packages (from tensorflow) (0.31.0)\n",
      "Requirement already satisfied: setuptools in /home/ollie/anaconda3/lib/python3.9/site-packages (from tensorflow) (61.2.0)\n",
      "Requirement already satisfied: protobuf<3.20,>=3.9.2 in /home/ollie/anaconda3/lib/python3.9/site-packages (from tensorflow) (3.19.1)\n",
      "Requirement already satisfied: absl-py>=1.0.0 in /home/ollie/anaconda3/lib/python3.9/site-packages (from tensorflow) (1.4.0)\n",
      "Requirement already satisfied: flatbuffers>=2.0 in /home/ollie/anaconda3/lib/python3.9/site-packages (from tensorflow) (23.1.21)\n",
      "Requirement already satisfied: wheel<1.0,>=0.23.0 in /home/ollie/anaconda3/lib/python3.9/site-packages (from astunparse>=1.6.0->tensorflow) (0.37.1)\n",
      "Requirement already satisfied: google-auth-oauthlib<0.5,>=0.4.1 in /home/ollie/anaconda3/lib/python3.9/site-packages (from tensorboard<2.12,>=2.11->tensorflow) (0.4.6)\n",
      "Requirement already satisfied: tensorboard-data-server<0.7.0,>=0.6.0 in /home/ollie/anaconda3/lib/python3.9/site-packages (from tensorboard<2.12,>=2.11->tensorflow) (0.6.1)\n",
      "Requirement already satisfied: werkzeug>=1.0.1 in /home/ollie/anaconda3/lib/python3.9/site-packages (from tensorboard<2.12,>=2.11->tensorflow) (2.0.3)\n",
      "Requirement already satisfied: markdown>=2.6.8 in /home/ollie/anaconda3/lib/python3.9/site-packages (from tensorboard<2.12,>=2.11->tensorflow) (3.3.4)\n",
      "Requirement already satisfied: requests<3,>=2.21.0 in /home/ollie/anaconda3/lib/python3.9/site-packages (from tensorboard<2.12,>=2.11->tensorflow) (2.27.1)\n",
      "Requirement already satisfied: tensorboard-plugin-wit>=1.6.0 in /home/ollie/anaconda3/lib/python3.9/site-packages (from tensorboard<2.12,>=2.11->tensorflow) (1.8.1)\n",
      "Requirement already satisfied: google-auth<3,>=1.6.3 in /home/ollie/anaconda3/lib/python3.9/site-packages (from tensorboard<2.12,>=2.11->tensorflow) (1.33.0)\n",
      "Requirement already satisfied: cachetools<5.0,>=2.0.0 in /home/ollie/anaconda3/lib/python3.9/site-packages (from google-auth<3,>=1.6.3->tensorboard<2.12,>=2.11->tensorflow) (4.2.2)\n",
      "Requirement already satisfied: rsa<5,>=3.1.4 in /home/ollie/anaconda3/lib/python3.9/site-packages (from google-auth<3,>=1.6.3->tensorboard<2.12,>=2.11->tensorflow) (4.7.2)\n",
      "Requirement already satisfied: pyasn1-modules>=0.2.1 in /home/ollie/anaconda3/lib/python3.9/site-packages (from google-auth<3,>=1.6.3->tensorboard<2.12,>=2.11->tensorflow) (0.2.8)\n",
      "Requirement already satisfied: requests-oauthlib>=0.7.0 in /home/ollie/anaconda3/lib/python3.9/site-packages (from google-auth-oauthlib<0.5,>=0.4.1->tensorboard<2.12,>=2.11->tensorflow) (1.3.1)\n",
      "Requirement already satisfied: pyasn1<0.5.0,>=0.4.6 in /home/ollie/anaconda3/lib/python3.9/site-packages (from pyasn1-modules>=0.2.1->google-auth<3,>=1.6.3->tensorboard<2.12,>=2.11->tensorflow) (0.4.8)\n",
      "Requirement already satisfied: charset-normalizer~=2.0.0 in /home/ollie/anaconda3/lib/python3.9/site-packages (from requests<3,>=2.21.0->tensorboard<2.12,>=2.11->tensorflow) (2.0.4)\n",
      "Requirement already satisfied: certifi>=2017.4.17 in /home/ollie/anaconda3/lib/python3.9/site-packages (from requests<3,>=2.21.0->tensorboard<2.12,>=2.11->tensorflow) (2021.10.8)\n",
      "Requirement already satisfied: idna<4,>=2.5 in /home/ollie/anaconda3/lib/python3.9/site-packages (from requests<3,>=2.21.0->tensorboard<2.12,>=2.11->tensorflow) (3.3)\n",
      "Requirement already satisfied: urllib3<1.27,>=1.21.1 in /home/ollie/anaconda3/lib/python3.9/site-packages (from requests<3,>=2.21.0->tensorboard<2.12,>=2.11->tensorflow) (1.26.9)\n",
      "Requirement already satisfied: oauthlib>=3.0.0 in /home/ollie/anaconda3/lib/python3.9/site-packages (from requests-oauthlib>=0.7.0->google-auth-oauthlib<0.5,>=0.4.1->tensorboard<2.12,>=2.11->tensorflow) (3.2.2)\n",
      "Requirement already satisfied: pyparsing!=3.0.5,>=2.0.2 in /home/ollie/anaconda3/lib/python3.9/site-packages (from packaging->tensorflow) (3.0.4)\n"
     ]
    }
   ],
   "source": [
    "!pip install tensorflow"
   ]
  },
  {
   "cell_type": "code",
   "execution_count": 2,
   "metadata": {
    "id": "J4B06ZDAs0L9"
   },
   "outputs": [
    {
     "name": "stderr",
     "output_type": "stream",
     "text": [
      "2023-03-03 15:50:58.663546: I tensorflow/core/platform/cpu_feature_guard.cc:193] This TensorFlow binary is optimized with oneAPI Deep Neural Network Library (oneDNN) to use the following CPU instructions in performance-critical operations:  AVX2 FMA\n",
      "To enable them in other operations, rebuild TensorFlow with the appropriate compiler flags.\n",
      "2023-03-03 15:50:59.466953: W tensorflow/compiler/xla/stream_executor/platform/default/dso_loader.cc:64] Could not load dynamic library 'libnvinfer.so.7'; dlerror: libnvinfer.so.7: cannot open shared object file: No such file or directory\n",
      "2023-03-03 15:50:59.467011: W tensorflow/compiler/xla/stream_executor/platform/default/dso_loader.cc:64] Could not load dynamic library 'libnvinfer_plugin.so.7'; dlerror: libnvinfer_plugin.so.7: cannot open shared object file: No such file or directory\n",
      "2023-03-03 15:50:59.467017: W tensorflow/compiler/tf2tensorrt/utils/py_utils.cc:38] TF-TRT Warning: Cannot dlopen some TensorRT libraries. If you would like to use Nvidia GPU with TensorRT, please make sure the missing libraries mentioned above are installed properly.\n"
     ]
    },
    {
     "name": "stdout",
     "output_type": "stream",
     "text": [
      "2.11.0\n"
     ]
    }
   ],
   "source": [
    "# Import tensorflow, check version\n",
    "import tensorflow as tf\n",
    "from tensorflow import keras\n",
    "print(tf.__version__)"
   ]
  },
  {
   "cell_type": "markdown",
   "metadata": {
    "id": "t27Ccl11IyIU"
   },
   "source": [
    "### Tensor\n",
    "In general, all current machine-learning systems use tensors as their basic data structure — usually for numerical data. \n",
    "\n",
    "Tensors are a generalization of matrices to an arbitrary number of dimensions (note that a dimension is often called an axis in a tensor). NumPy arrays can be called tensors.\n",
    "\n",
    "* Scalar (rank-0 tensor).\n",
    "* Vectors (rank-1 tensor).\n",
    "* Matrices: rank-2 tensors.\n",
    "* Rank-3 tensors and higher-rank tensors (e.g. array x below are Rank-3 tensors)"
   ]
  },
  {
   "cell_type": "code",
   "execution_count": 3,
   "metadata": {
    "id": "uMuSjBg2LO7m"
   },
   "outputs": [
    {
     "name": "stdout",
     "output_type": "stream",
     "text": [
      "3\n",
      "(3, 3, 5)\n"
     ]
    }
   ],
   "source": [
    "import numpy as np\n",
    "x = np.array([[[5, 78, 2, 34, 0],\n",
    "                   [6, 79, 3, 35, 1],\n",
    "                   [7, 80, 4, 36, 2]],\n",
    "                  [[5, 78, 2, 34, 0],\n",
    "                   [6, 79, 3, 35, 1],\n",
    "                   [7, 80, 4, 36, 2]],\n",
    "                  [[5, 78, 2, 34, 0],\n",
    "                   [6, 79, 3, 35, 1],\n",
    "                   [7, 80, 4, 36, 2]]])\n",
    "print(x.ndim)\n",
    "print(x.shape)"
   ]
  },
  {
   "cell_type": "code",
   "execution_count": 4,
   "metadata": {
    "id": "6n9R6Hhnho6r"
   },
   "outputs": [
    {
     "name": "stdout",
     "output_type": "stream",
     "text": [
      "tf.Tensor(\n",
      "[[1.]\n",
      " [1.]], shape=(2, 1), dtype=float32)\n",
      "tf.Tensor(\n",
      "[[0.]\n",
      " [0.]], shape=(2, 1), dtype=float32)\n",
      "tf.Tensor(\n",
      "[[-0.21153156]\n",
      " [-1.6871091 ]\n",
      " [ 1.1703635 ]], shape=(3, 1), dtype=float32)\n",
      "tf.Tensor(\n",
      "[[-0.96136284]\n",
      " [-0.5134251 ]\n",
      " [ 0.12881899]], shape=(3, 1), dtype=float32)\n",
      "0\n"
     ]
    },
    {
     "name": "stderr",
     "output_type": "stream",
     "text": [
      "2023-03-03 15:51:05.507165: E tensorflow/compiler/xla/stream_executor/cuda/cuda_driver.cc:267] failed call to cuInit: CUDA_ERROR_NO_DEVICE: no CUDA-capable device is detected\n",
      "2023-03-03 15:51:05.507203: I tensorflow/compiler/xla/stream_executor/cuda/cuda_diagnostics.cc:156] kernel driver does not appear to be running on this host (OllieLinux): /proc/driver/nvidia/version does not exist\n",
      "2023-03-03 15:51:05.508326: I tensorflow/core/platform/cpu_feature_guard.cc:193] This TensorFlow binary is optimized with oneAPI Deep Neural Network Library (oneDNN) to use the following CPU instructions in performance-critical operations:  AVX2 FMA\n",
      "To enable them in other operations, rebuild TensorFlow with the appropriate compiler flags.\n"
     ]
    }
   ],
   "source": [
    "# Constant tensors (Not assignable!!)\n",
    "# All ones/zero tensors\n",
    "x = tf.ones(shape=(2, 1))\n",
    "print(x)\n",
    "x = tf.zeros(shape=(2, 1))\n",
    "print(x)\n",
    "\n",
    "# Random tensors\n",
    "x = tf.random.normal(shape=(3, 1), mean=0., stddev=1.) \n",
    "print(x)\n",
    "\n",
    "x = tf.random.uniform(shape=(3, 1), minval=-1., maxval=1.) \n",
    "print(x)\n",
    "\n",
    "x = 0 # Scalar\n",
    "print(x)"
   ]
  },
  {
   "cell_type": "code",
   "execution_count": 5,
   "metadata": {
    "id": "mMmqo54dhsDV"
   },
   "outputs": [],
   "source": [
    "# Unlike numpy array, tensor constant is not assignable.\n",
    "# see e.g. error raised when trying to assign a value to tensor constant\n",
    "# import numpy as np\n",
    "# x = np.ones(shape=(2, 2))\n",
    "# x[0, 0] = 0.\n",
    "\n",
    "# x = tf.ones(shape=(2,2))\n",
    "# x[0, 0] = 0."
   ]
  },
  {
   "cell_type": "code",
   "execution_count": 6,
   "metadata": {
    "id": "vkaaoC0Ohswi"
   },
   "outputs": [
    {
     "name": "stdout",
     "output_type": "stream",
     "text": [
      "<tf.Variable 'Variable:0' shape=(3, 1) dtype=float32, numpy=\n",
      "array([[-0.6096634],\n",
      "       [ 0.8666934],\n",
      "       [-0.272167 ]], dtype=float32)>\n",
      "<tf.Variable 'Variable:0' shape=(3, 1) dtype=float32, numpy=\n",
      "array([[1.],\n",
      "       [1.],\n",
      "       [1.]], dtype=float32)>\n",
      "<tf.Variable 'Variable:0' shape=(3, 1) dtype=float32, numpy=\n",
      "array([[0.],\n",
      "       [1.],\n",
      "       [1.]], dtype=float32)>\n"
     ]
    }
   ],
   "source": [
    "# To modify tensors, tensor Variabble is used in tensorflow\n",
    "v = tf.Variable(initial_value=tf.random.normal(shape=(3, 1)))\n",
    "print(v)\n",
    "\n",
    "# Assign values to a tensor variable\n",
    "v.assign(tf.ones((3, 1)))\n",
    "print(v)\n",
    "\n",
    "# Modify element with index [0,0] in tensor variable v to 0\n",
    "# Your code here\n",
    "v[0,0].assign(0)\n",
    "print(v)"
   ]
  },
  {
   "cell_type": "markdown",
   "metadata": {
    "id": "90Jl1oeVs0L-"
   },
   "source": [
    "## MNIST"
   ]
  },
  {
   "cell_type": "markdown",
   "metadata": {
    "id": "kDewRWb3s0L-"
   },
   "source": [
    " The MNIST database of handwritten digits, available from this page, has a training set of 60,000 examples, and a test set of 10,000 examples. It is a subset of a larger set available from NIST. The digits have been size-normalized and centered in a fixed-size image. The MNIST data-set is about 12 MB and will be downloaded automatically if it is not located in the given path."
   ]
  },
  {
   "cell_type": "code",
   "execution_count": 7,
   "metadata": {
    "id": "Wd9z5PCXs0L_"
   },
   "outputs": [
    {
     "name": "stdout",
     "output_type": "stream",
     "text": [
      "Size of:\n",
      "- Training-set:\t\t(60000, 28, 28)\n",
      "- Test-set:\t\t(10000, 28, 28)\n"
     ]
    }
   ],
   "source": [
    "from tensorflow.keras.datasets import mnist\n",
    "\n",
    "(image_train, label_train), (image_test, label_test) = mnist.load_data()\n",
    "\n",
    "print(\"Size of:\")\n",
    "print(\"- Training-set:\\t\\t{}\".format(image_train.shape))\n",
    "print(\"- Test-set:\\t\\t{}\".format(image_test.shape))"
   ]
  },
  {
   "cell_type": "code",
   "execution_count": 8,
   "metadata": {
    "id": "DX9dkWEhzuGG"
   },
   "outputs": [
    {
     "name": "stdout",
     "output_type": "stream",
     "text": [
      "Label_train: [5 0 4 ... 5 6 8]\n",
      "shape: (60000,)\n"
     ]
    }
   ],
   "source": [
    "# Your code: \n",
    "# print label_train, print its shape\n",
    "print(\"Label_train: %s\\nshape: %s\"%(label_train, label_train.shape))"
   ]
  },
  {
   "cell_type": "markdown",
   "metadata": {
    "id": "OmjT6wLWs0L_"
   },
   "source": [
    "The data-set is split into 3 mutually exclusive sub-sets. We will only use the training and test-sets in this tutorial.\n",
    "\n",
    "Define a simple function to have a look at the images."
   ]
  },
  {
   "cell_type": "markdown",
   "metadata": {
    "id": "3v9QakdAs0MA"
   },
   "source": [
    "## Getting to know our data"
   ]
  },
  {
   "cell_type": "markdown",
   "metadata": {
    "id": "4J3w9Otps0MA"
   },
   "source": [
    "The following method is plots 9 images from the dataset in a 3x3 grid."
   ]
  },
  {
   "cell_type": "code",
   "execution_count": 9,
   "metadata": {
    "id": "cayq2d-hs0MA"
   },
   "outputs": [],
   "source": [
    "import matplotlib.pyplot as plt\n",
    "\n",
    "def plot_images(images, cls_true, cls_pred=None):\n",
    "    assert len(images) == len(cls_true) == 9\n",
    "    \n",
    "    # Create figure with 3x3 sub-plots.\n",
    "    fig, axes = plt.subplots(3, 3)\n",
    "    fig.subplots_adjust(hspace=0.3, wspace=0.3)\n",
    "\n",
    "    for i, ax in enumerate(axes.flat):\n",
    "        # Plot image.\n",
    "        #ax.imshow(images[i].reshape(img_shape), cmap='binary')\n",
    "        ax.imshow(images[i], cmap='binary')\n",
    "\n",
    "        # Show true and predicted classes.\n",
    "        if cls_pred is None:\n",
    "            xlabel = \"True: {0}\".format(cls_true[i])\n",
    "        else:\n",
    "            xlabel = \"True: {0}, Pred: {1}\".format(cls_true[i], cls_pred[i])\n",
    "\n",
    "        ax.set_xlabel(xlabel)\n",
    "        \n",
    "        # Remove ticks from the plot.\n",
    "        ax.set_xticks([])\n",
    "        ax.set_yticks([])\n",
    "        \n",
    "    # Ensure the plot is shown correctly with multiple plots\n",
    "    # in a single Notebook cell.\n",
    "    plt.show()"
   ]
  },
  {
   "cell_type": "markdown",
   "metadata": {
    "id": "LXNBketEs0MB"
   },
   "source": [
    "Plot a few images to see if data is correct"
   ]
  },
  {
   "cell_type": "code",
   "execution_count": 10,
   "metadata": {},
   "outputs": [
    {
     "data": {
      "image/png": "[encoded data removed]",
      "text/plain": [
       "<Figure size 432x288 with 9 Axes>"
      ]
     },
     "metadata": {},
     "output_type": "display_data"
    }
   ],
   "source": [
    "plot_images(image_train[0:9], label_train[0:9])"
   ]
  },
  {
   "cell_type": "code",
   "execution_count": 11,
   "metadata": {
    "id": "VeRYW7las0MC"
   },
   "outputs": [
    {
     "data": {
      "image/png": "[encoded data removed]",
      "text/plain": [
       "<Figure size 432x288 with 9 Axes>"
      ]
     },
     "metadata": {},
     "output_type": "display_data"
    }
   ],
   "source": [
    "# We know that MNIST images are 28 pixels in each dimension.\n",
    "img_size = 28\n",
    "\n",
    "# Images are stored in one-dimensional arrays of this length. (might want to use this later for input_size...)\n",
    "img_size_flat = img_size * img_size\n",
    "\n",
    "# Tuple with height and width of images used to reshape arrays.\n",
    "img_shape = (img_size, img_size)\n",
    "\n",
    "# Number of classes, one class for each of 10 digits.\n",
    "num_classes = 10\n",
    "\n",
    "# Get the first images from the test-set.\n",
    "images = image_train[0:9]\n",
    "\n",
    "# Get the true classes for those images.\n",
    "cls_true = label_train[0:9]\n",
    "\n",
    "# Plot the images and labels using our helper-function above.\n",
    "plot_images(images=images, cls_true=cls_true)"
   ]
  },
  {
   "cell_type": "markdown",
   "metadata": {
    "id": "yN4Zjheps0MC"
   },
   "source": [
    "For this first network, we'll flatten everything into a 784-dimensional feature vector."
   ]
  },
  {
   "cell_type": "code",
   "execution_count": 12,
   "metadata": {
    "id": "OHohqH6GbAnS"
   },
   "outputs": [
    {
     "name": "stdout",
     "output_type": "stream",
     "text": [
      "(14, 14)\n"
     ]
    },
    {
     "data": {
      "text/plain": [
       "array([[254, 254, 254, 254, 171,   0,   0,   0,   0,   0,   0,   0,   0,\n",
       "          0],\n",
       "       [ 89,  93, 240, 254, 171,   0,   0,   0,   0,   0,   0,   0,   0,\n",
       "          0],\n",
       "       [  0,   1, 128, 254, 219,  31,   0,   0,   0,   0,   0,   0,   0,\n",
       "          0],\n",
       "       [  0,   7, 254, 254, 214,  28,   0,   0,   0,   0,   0,   0,   0,\n",
       "          0],\n",
       "       [  0, 138, 254, 254, 116,   0,   0,   0,   0,   0,   0,   0,   0,\n",
       "          0],\n",
       "       [ 25, 240, 254, 254,  34,   0,   0,   0,   0,   0,   0,   0,   0,\n",
       "          0],\n",
       "       [206, 254, 254, 139,   8,   0,   0,   0,   0,   0,   0,   0,   0,\n",
       "          0],\n",
       "       [254, 253, 213,  11,   0,   0,   0,   0,   0,   0,   0,   0,   0,\n",
       "          0],\n",
       "       [254, 236,   0,   0,   0,   0,   0,   0,   0,   0,   0,   0,   0,\n",
       "          0],\n",
       "       [239,  50,   0,   0,   0,   0,   0,   0,   0,   0,   0,   0,   0,\n",
       "          0],\n",
       "       [  0,   0,   0,   0,   0,   0,   0,   0,   0,   0,   0,   0,   0,\n",
       "          0],\n",
       "       [  0,   0,   0,   0,   0,   0,   0,   0,   0,   0,   0,   0,   0,\n",
       "          0],\n",
       "       [  0,   0,   0,   0,   0,   0,   0,   0,   0,   0,   0,   0,   0,\n",
       "          0],\n",
       "       [  0,   0,   0,   0,   0,   0,   0,   0,   0,   0,   0,   0,   0,\n",
       "          0]], dtype=uint8)"
      ]
     },
     "execution_count": 12,
     "metadata": {},
     "output_type": "execute_result"
    }
   ],
   "source": [
    "# In general, you may select between any two indices along each tensor axis. \n",
    "# For instance, in order to select 14 × 14 pixels in the bottom-right corner for image with index 10, you do this:\n",
    "my_slice = image_train[10, 14:, 14:]\n",
    "print(my_slice.shape)\n",
    "my_slice"
   ]
  },
  {
   "cell_type": "markdown",
   "metadata": {
    "id": "PhGG9IsneAcM"
   },
   "source": [
    "The images we get were stored in an array of shape (60000, 28, 28) of type uint8 with values in the [0, 255] interval. We transform it into a float32 array of shape (60000, 28 * 28) with values between 0 and 1."
   ]
  },
  {
   "cell_type": "code",
   "execution_count": 13,
   "metadata": {
    "id": "wSQnMZ7Js0MD"
   },
   "outputs": [
    {
     "name": "stdout",
     "output_type": "stream",
     "text": [
      "Size of:\n",
      "- Training-set:\t\t(60000, 784)\n",
      "- Test-set:\t\t(10000, 784)\n"
     ]
    }
   ],
   "source": [
    "# Prepare data, flatten the input and rescale\n",
    "X_train = image_train.reshape((60000, 28*28)) # or #X_train = image_train.reshape(X_train.shape[0], -1)\n",
    "X_train = X_train.astype('float32')/255 \n",
    "X_test = image_test.reshape((10000, 28*28)) # or #X_test = image_test.reshape(X_test.shape[0], -1)\n",
    "X_test = X_test.astype('float32')/255\n",
    "\n",
    "print(\"Size of:\")\n",
    "print(\"- Training-set:\\t\\t{}\".format(X_train.shape))\n",
    "print(\"- Test-set:\\t\\t{}\".format(X_test.shape))"
   ]
  },
  {
   "cell_type": "markdown",
   "metadata": {
    "id": "XaNQwQt9s0MD"
   },
   "source": [
    "#### To build a fully connected feedforward network (aka Multilayer Perceptron (MLP))\n",
    "The first model we'll use is a simple fully connected feedforward network. This is called a Dense layer in Keras. -\n",
    "#### Dimensionality reduction with PCA\n",
    "Since fully connected layers are a bit heavy on image data (and you're probably running this on your laptop), we'll reduce the dimensionality of the data by [PCA (principal component analysis)](https://scikit-learn.org/stable/modules/generated/sklearn.decomposition.PCA.html). PCA decompose a multivariate dataset in a set of successive orthogonal components that explain a maximum amount of the variance. We will discuss topic on dimensionalilty reduction in a few weeks. "
   ]
  },
  {
   "cell_type": "code",
   "execution_count": 14,
   "metadata": {
    "id": "dyyCAPaUs0MD"
   },
   "outputs": [
    {
     "name": "stdout",
     "output_type": "stream",
     "text": [
      "(60000, 60)\n",
      "(10000, 60)\n"
     ]
    }
   ],
   "source": [
    "from sklearn.decomposition import PCA\n",
    "\n",
    "pca = PCA(n_components=60) # reduce to 60 dimensions\n",
    "pca.fit(X_train)\n",
    "\n",
    "X_train = pca.transform(X_train)\n",
    "X_test = pca.transform(X_test)\n",
    "\n",
    "print(X_train.shape) \n",
    "print(X_test.shape) # NB: none of this is Keras yet. We're just using sklearn on some numpy arrays"
   ]
  },
  {
   "cell_type": "markdown",
   "metadata": {
    "id": "qTAMootds0ME"
   },
   "source": [
    "The training labels are encoded as integers. We need these as one-hot vectors instead, so we can match them to the ten outputs of the neural network."
   ]
  },
  {
   "cell_type": "code",
   "execution_count": 15,
   "metadata": {
    "id": "Q_nB-FCns0ME"
   },
   "outputs": [
    {
     "name": "stdout",
     "output_type": "stream",
     "text": [
      "(60000,) (10000,)\n",
      "(60000, 10) (10000, 10)\n"
     ]
    }
   ],
   "source": [
    "from keras.utils import to_categorical\n",
    "\n",
    "print(label_train.shape, label_test.shape)\n",
    "\n",
    "y_train = to_categorical(label_train)\n",
    "y_test = to_categorical(label_test)\n",
    "\n",
    "print(y_train.shape, y_test.shape)"
   ]
  },
  {
   "cell_type": "markdown",
   "metadata": {
    "id": "tMyFcP_OxUrd"
   },
   "source": [
    "### Question: \n",
    "Look at the one-hot coding given by y_train[0], which digit does it represent?"
   ]
  },
  {
   "cell_type": "code",
   "execution_count": 16,
   "metadata": {
    "id": "scpTWCx6s0ME"
   },
   "outputs": [
    {
     "name": "stdout",
     "output_type": "stream",
     "text": [
      "[0. 0. 0. 0. 0. 1. 0. 0. 0. 0.]\n",
      "5\n"
     ]
    }
   ],
   "source": [
    "print(y_train[0]) # print the one-hot vector for the first example\n",
    "print(label_train[0])"
   ]
  },
  {
   "cell_type": "code",
   "execution_count": 17,
   "metadata": {},
   "outputs": [
    {
     "name": "stdout",
     "output_type": "stream",
     "text": [
      "(60,)\n"
     ]
    }
   ],
   "source": [
    "print(X_train[0].shape)"
   ]
  },
  {
   "cell_type": "markdown",
   "metadata": {
    "id": "SjTdngnUs0ME"
   },
   "source": [
    "## Keras Model\n",
    "\n",
    "The core data structure of Keras is a model, a way to organize layers. The simplest type of model is the ```Sequential``` model, a linear stack of **layers**. Before we start take some time to read the ```Sequential``` documentation:\n",
    "\n",
    "https://keras.io/getting-started/sequential-model-guide/\n",
    "\n",
    "Note: Keras has two APIs for this: the **Sequential** API and the **Model** API. The sequential API (the simplest) assumes that your model is a simple sequence of operations, usually neural network layers. The input is passed through the first layer, the result of that is passed through the second and so on. \n",
    "\n",
    "This is useful for simple NN models where you are only interested in the input and output. If your model gets more complex, you may want to use the Model API (we'll use in the next practicals)."
   ]
  },
  {
   "cell_type": "markdown",
   "metadata": {
    "id": "XtoobyAIibrs"
   },
   "source": [
    "Now, creating a Sequential model. \n",
    "\n",
    "We can create a Sequential model incrementally via the add() method."
   ]
  },
  {
   "cell_type": "code",
   "execution_count": 18,
   "metadata": {
    "id": "sGh7bopps0MF"
   },
   "outputs": [
    {
     "name": "stdout",
     "output_type": "stream",
     "text": [
      "Model: \"sequential\"\n",
      "_________________________________________________________________\n",
      " Layer (type)                Output Shape              Param #   \n",
      "=================================================================\n",
      " dense (Dense)               (None, 32)                1952      \n",
      "                                                                 \n",
      " dense_1 (Dense)             (None, 10)                330       \n",
      "                                                                 \n",
      "=================================================================\n",
      "Total params: 2,282\n",
      "Trainable params: 2,282\n",
      "Non-trainable params: 0\n",
      "_________________________________________________________________\n"
     ]
    }
   ],
   "source": [
    "from keras.models import Sequential\n",
    "from keras import layers\n",
    "\n",
    "model = Sequential() # or specify model name: model = Sequential(name=\"my_first_model\")\n",
    "model.add(keras.Input(60)) # Input layer, input shape setup here should match with the input data when fitting or making prediction.\n",
    "model.add(layers.Dense(32, activation='relu'))#, input_shape=(60,))) # first dense layer, 32 hidden units,\n",
    "model.add(layers.Dense(10, activation='softmax'))# second dense layer, output class probabilities with softmax activation\n",
    "model.summary()"
   ]
  },
  {
   "cell_type": "code",
   "execution_count": 19,
   "metadata": {
    "id": "KrDASu5JMZ4A"
   },
   "outputs": [
    {
     "data": {
      "text/plain": [
       "[<tf.Variable 'dense/kernel:0' shape=(60, 32) dtype=float32, numpy=\n",
       " array([[ 0.20881769,  0.09072125, -0.06507817, ..., -0.09906368,\n",
       "         -0.113114  ,  0.10155618],\n",
       "        [-0.23451124,  0.24618277,  0.22948945, ...,  0.1797086 ,\n",
       "          0.10131982, -0.08288367],\n",
       "        [-0.11692914, -0.14027655,  0.19611719, ...,  0.12252367,\n",
       "          0.20628026, -0.22437228],\n",
       "        ...,\n",
       "        [ 0.0678207 , -0.1178288 ,  0.11118299, ..., -0.06035696,\n",
       "         -0.2191182 , -0.18600787],\n",
       "        [ 0.19253054, -0.08434282,  0.01440394, ..., -0.02093367,\n",
       "         -0.09095266, -0.02655606],\n",
       "        [-0.19372799,  0.06834662,  0.08740085, ..., -0.23192234,\n",
       "          0.15305042, -0.14887801]], dtype=float32)>,\n",
       " <tf.Variable 'dense/bias:0' shape=(32,) dtype=float32, numpy=\n",
       " array([0., 0., 0., 0., 0., 0., 0., 0., 0., 0., 0., 0., 0., 0., 0., 0., 0.,\n",
       "        0., 0., 0., 0., 0., 0., 0., 0., 0., 0., 0., 0., 0., 0., 0.],\n",
       "       dtype=float32)>,\n",
       " <tf.Variable 'dense_1/kernel:0' shape=(32, 10) dtype=float32, numpy=\n",
       " array([[ 0.1319662 ,  0.00439981, -0.27920988,  0.13243774, -0.01627526,\n",
       "         -0.00651836, -0.29393268, -0.15888649, -0.09834933, -0.32701856],\n",
       "        [-0.28717595, -0.2706453 ,  0.21160582,  0.0826298 ,  0.3327947 ,\n",
       "          0.22941169,  0.15726379, -0.04279771, -0.3598608 ,  0.16319439],\n",
       "        [ 0.22938809, -0.02548236,  0.08110464,  0.30635908, -0.07768527,\n",
       "          0.14441559,  0.12091464,  0.09349021,  0.22978756,  0.03808695],\n",
       "        [-0.07723561, -0.21848962,  0.28712592,  0.3123568 ,  0.20692053,\n",
       "         -0.23736404,  0.26979932,  0.13155511, -0.00410926,  0.2953914 ],\n",
       "        [-0.30095667, -0.34536275,  0.02599564, -0.24039699,  0.3187674 ,\n",
       "          0.09552085,  0.01836833,  0.01000991,  0.19638255, -0.05413169],\n",
       "        [ 0.3654361 ,  0.25780275,  0.04266751,  0.13113031,  0.20061031,\n",
       "          0.09115511, -0.04989275,  0.14303926, -0.11276332, -0.26920447],\n",
       "        [ 0.30836496,  0.27347985,  0.16031751,  0.31516746, -0.04588467,\n",
       "          0.04931772, -0.34615403, -0.11185792, -0.16890606,  0.16119704],\n",
       "        [ 0.21554336, -0.2667817 , -0.28881034,  0.10467279, -0.09707394,\n",
       "         -0.20072748,  0.2658501 , -0.15129757,  0.00735617,  0.2768006 ],\n",
       "        [ 0.28189048,  0.29833308,  0.09408462,  0.32435057,  0.2370753 ,\n",
       "          0.00623342,  0.0567176 , -0.27447605, -0.12767723, -0.15049393],\n",
       "        [-0.10722634,  0.3778675 ,  0.0848977 ,  0.32932708, -0.12454334,\n",
       "         -0.13134862,  0.0705623 ,  0.06581196, -0.08981764, -0.07395366],\n",
       "        [-0.25773236,  0.3655698 ,  0.28574476, -0.05434066,  0.26601443,\n",
       "          0.14712998, -0.22296971, -0.19518071,  0.19534776, -0.0142459 ],\n",
       "        [-0.06957826,  0.21046832,  0.2921606 ,  0.06231725, -0.22143589,\n",
       "         -0.08694237, -0.25648418, -0.31601351,  0.21860543, -0.00439513],\n",
       "        [ 0.2610453 , -0.00613198, -0.0442071 , -0.00214642,  0.21760139,\n",
       "          0.34000018, -0.12195617, -0.12097752, -0.29819334, -0.28368294],\n",
       "        [ 0.28353938, -0.01833662,  0.27816954,  0.13926485, -0.19556315,\n",
       "          0.03253403,  0.03765601,  0.07497039, -0.08027983,  0.15667346],\n",
       "        [ 0.28712037, -0.17894104,  0.2877731 ,  0.24990699, -0.26979518,\n",
       "         -0.17025065, -0.37733114, -0.11665368, -0.26166564, -0.21124223],\n",
       "        [-0.17698377, -0.08846575,  0.15568802, -0.32188946,  0.02694285,\n",
       "          0.12036684, -0.08298188, -0.2638509 ,  0.1039117 , -0.03827149],\n",
       "        [ 0.01755252, -0.2794816 ,  0.12445828, -0.22514984,  0.35612062,\n",
       "         -0.10279375, -0.25716338,  0.23929092,  0.12642565,  0.12633082],\n",
       "        [-0.36064777, -0.20625108,  0.23517475, -0.3040482 , -0.27880582,\n",
       "         -0.3484713 , -0.31156224,  0.16227493,  0.31492195,  0.22817388],\n",
       "        [ 0.32778373,  0.10245338,  0.02696058,  0.30495098, -0.35306054,\n",
       "         -0.31999978, -0.08974457, -0.3288348 ,  0.33874616,  0.08588335],\n",
       "        [-0.07843772, -0.30419752, -0.18413313, -0.03478292,  0.2251418 ,\n",
       "          0.24166992,  0.0256553 ,  0.32771125, -0.2168965 ,  0.242362  ],\n",
       "        [-0.2560737 , -0.17788284,  0.09861976,  0.07766896, -0.13024473,\n",
       "          0.0387544 ,  0.06275883, -0.12826206, -0.07003388,  0.03256872],\n",
       "        [-0.31490177, -0.21529743,  0.24092099,  0.00879493,  0.05929333,\n",
       "          0.20569953,  0.36483982, -0.12058455, -0.3291084 , -0.1019901 ],\n",
       "        [-0.11909875, -0.32540742,  0.21225753,  0.19862494, -0.2582562 ,\n",
       "          0.3629696 , -0.31213295, -0.24833673,  0.27158305, -0.22161567],\n",
       "        [ 0.356531  , -0.1534238 ,  0.06743005,  0.07321885, -0.34347594,\n",
       "         -0.0330174 ,  0.24159172,  0.3231925 ,  0.08059007, -0.08260268],\n",
       "        [-0.0832842 , -0.30905467,  0.03464937, -0.00701535,  0.28299835,\n",
       "         -0.02437323, -0.13875408,  0.12640563,  0.00896993, -0.05207214],\n",
       "        [-0.08430466, -0.26876643,  0.02451986,  0.01418632, -0.2769474 ,\n",
       "         -0.06184649,  0.09629473, -0.12295553, -0.08079579, -0.1802294 ],\n",
       "        [ 0.25888517,  0.06382704, -0.31034526,  0.05621675,  0.3298451 ,\n",
       "         -0.08273605, -0.02449417,  0.06794903, -0.35812098, -0.20978436],\n",
       "        [-0.12682295, -0.06230599,  0.31208846,  0.08422184,  0.32023725,\n",
       "          0.36487475, -0.20053391, -0.19048361, -0.17966484, -0.27995926],\n",
       "        [-0.17417645,  0.20291671, -0.15269531,  0.09949505, -0.27470213,\n",
       "          0.31387594,  0.36268088,  0.26631162, -0.35239667, -0.32411924],\n",
       "        [ 0.20315102, -0.32382584, -0.31213176,  0.19239566, -0.3024678 ,\n",
       "          0.2808797 ,  0.24072275,  0.0652338 ,  0.3309004 , -0.07203811],\n",
       "        [ 0.22161469, -0.14923432,  0.21735367,  0.03469488, -0.0776912 ,\n",
       "         -0.01639405,  0.32994035, -0.07199341,  0.01277101,  0.25885203],\n",
       "        [ 0.15868393,  0.35418978,  0.21755812,  0.18924841, -0.05626747,\n",
       "         -0.01041752, -0.30529034,  0.00445569, -0.02558655, -0.09509668]],\n",
       "       dtype=float32)>,\n",
       " <tf.Variable 'dense_1/bias:0' shape=(10,) dtype=float32, numpy=array([0., 0., 0., 0., 0., 0., 0., 0., 0., 0.], dtype=float32)>]"
      ]
     },
     "execution_count": 19,
     "metadata": {},
     "output_type": "execute_result"
    }
   ],
   "source": [
    "# Check model weights\n",
    "model.weights"
   ]
  },
  {
   "cell_type": "markdown",
   "metadata": {
    "id": "euz9tRwQjCfe"
   },
   "source": [
    "You can also create a Sequential model by passing a list of layers to the Sequential constructor:"
   ]
  },
  {
   "cell_type": "code",
   "execution_count": 20,
   "metadata": {
    "id": "AaBwBcsUjDv4"
   },
   "outputs": [
    {
     "name": "stdout",
     "output_type": "stream",
     "text": [
      "Model: \"sequential_1\"\n",
      "_________________________________________________________________\n",
      " Layer (type)                Output Shape              Param #   \n",
      "=================================================================\n",
      " dense_2 (Dense)             (None, 32)                1952      \n",
      "                                                                 \n",
      " dense_3 (Dense)             (None, 10)                330       \n",
      "                                                                 \n",
      "=================================================================\n",
      "Total params: 2,282\n",
      "Trainable params: 2,282\n",
      "Non-trainable params: 0\n",
      "_________________________________________________________________\n"
     ]
    },
    {
     "data": {
      "text/plain": [
       "[<keras.layers.core.dense.Dense at 0x7f1d11d650a0>,\n",
       " <keras.layers.core.dense.Dense at 0x7f1d11d65490>]"
      ]
     },
     "execution_count": 20,
     "metadata": {},
     "output_type": "execute_result"
    }
   ],
   "source": [
    "model = Sequential(    \n",
    "    [\n",
    "     keras.Input(shape=(60)),   \n",
    "     layers.Dense(32, activation='relu'),\n",
    "     layers.Dense(10, activation='softmax')\n",
    "    ]\n",
    ")\n",
    "\n",
    "model.summary()\n",
    "\n",
    "# Get the list of layers in the model\n",
    "model.layers"
   ]
  },
  {
   "cell_type": "markdown",
   "metadata": {
    "id": "1uSOhe10jqr0"
   },
   "source": [
    "**Question**: \n",
    "1. how many hidden layers does this model have?\n",
    "- 1 hidden, 1 output\n",
    "2. how to compute the total number of parameters or weights? \n",
    "- model.summary()\n",
    "(Remeber to add the parameters for bias)\n",
    "\n",
    "\n",
    "Once create the model, you can start training and validating the model. https://keras.io/guides/training_with_built_in_methods/"
   ]
  },
  {
   "cell_type": "code",
   "execution_count": 21,
   "metadata": {
    "id": "hEl2wlGss0MF"
   },
   "outputs": [],
   "source": [
    "optimizer = keras.optimizers.SGD(learning_rate=0.01)\n",
    "#optimizer = keras.optimizers.Adam(learning_rate=0.001)\n",
    "model.compile(optimizer=optimizer, loss='categorical_crossentropy', metrics=['accuracy'])"
   ]
  },
  {
   "cell_type": "markdown",
   "metadata": {
    "id": "R5_pmbSms0MG"
   },
   "source": [
    "## Training\n",
    "\n",
    "We've also told the compiler that we'd like it to compute accuracy for us during training (since categorical cross-entropy loss is a bit hard to interpret).\n",
    "\n",
    "We're now ready to start training using the fit() method:\n",
    "- The **batch size** to use within each epoch of mini-batch gradient descent: the number of training examples considered to compute the gradients for one weight update step.\n",
    "- The number of **epochs** to train for: how many times the training loop should iterate over the data passed. "
   ]
  },
  {
   "cell_type": "markdown",
   "metadata": {
    "id": "LrbqJ2C8bt18"
   },
   "source": []
  },
  {
   "cell_type": "code",
   "execution_count": 22,
   "metadata": {
    "id": "KCLOxVQ4s0MH"
   },
   "outputs": [
    {
     "name": "stdout",
     "output_type": "stream",
     "text": [
      "Epoch 1/5\n",
      "60/60 [==============================] - 0s 1ms/step - loss: 2.4953 - accuracy: 0.0966\n",
      "Epoch 2/5\n",
      "60/60 [==============================] - 0s 1ms/step - loss: 2.0463 - accuracy: 0.2807\n",
      "Epoch 3/5\n",
      "60/60 [==============================] - 0s 1ms/step - loss: 1.7343 - accuracy: 0.4448\n",
      "Epoch 4/5\n",
      "60/60 [==============================] - 0s 1ms/step - loss: 1.5068 - accuracy: 0.5484\n",
      "Epoch 5/5\n",
      "60/60 [==============================] - 0s 1ms/step - loss: 1.3333 - accuracy: 0.6216\n"
     ]
    }
   ],
   "source": [
    "# Train the model, iterating on the data in batches of 32 samples\n",
    "history = model.fit(X_train, y_train, epochs=5, batch_size=1000);"
   ]
  },
  {
   "cell_type": "markdown",
   "metadata": {
    "id": "Cj4fU6J0gNz4"
   },
   "source": [
    "## Validating##\n",
    "A deep learning model should never be evaluated on its training data alone - it’s standard practice to use a validation set to monitor the accuracy (or other performance metric) of the model during training. Here, we randomly set apart 10% of training samples from the original training data for validation using validation_split argument in fit() method. Usually, we create a validation set separately, and set \"validation_data\" in fit(). For more details on keras model training api, check https://keras.io/api/models/model_training_apis/"
   ]
  },
  {
   "cell_type": "markdown",
   "metadata": {
    "id": "-cphMmVcc4P-"
   },
   "source": [
    "The call to fit() returns a **History** object. This object contains a history field, which is a dict mapping keys such as \"loss\" or specific metric names to the list of their per-epoch values."
   ]
  },
  {
   "cell_type": "code",
   "execution_count": 23,
   "metadata": {
    "id": "WHS9LVFrhPxp"
   },
   "outputs": [
    {
     "name": "stdout",
     "output_type": "stream",
     "text": [
      "Epoch 1/5\n",
      "54/54 [==============================] - 0s 4ms/step - loss: 1.2102 - accuracy: 0.6649 - val_loss: 1.0709 - val_accuracy: 0.7323\n",
      "Epoch 2/5\n",
      "54/54 [==============================] - 0s 2ms/step - loss: 1.1089 - accuracy: 0.6986 - val_loss: 0.9758 - val_accuracy: 0.7537\n",
      "Epoch 3/5\n",
      "54/54 [==============================] - 0s 2ms/step - loss: 1.0244 - accuracy: 0.7239 - val_loss: 0.8967 - val_accuracy: 0.7742\n",
      "Epoch 4/5\n",
      "54/54 [==============================] - 0s 2ms/step - loss: 0.9536 - accuracy: 0.7428 - val_loss: 0.8305 - val_accuracy: 0.7928\n",
      "Epoch 5/5\n",
      "54/54 [==============================] - 0s 2ms/step - loss: 0.8939 - accuracy: 0.7575 - val_loss: 0.7749 - val_accuracy: 0.8058\n"
     ]
    }
   ],
   "source": [
    "history = model.fit(X_train, y_train, validation_split=0.1, epochs=5, batch_size=1000);"
   ]
  },
  {
   "cell_type": "code",
   "execution_count": 24,
   "metadata": {
    "id": "5JfQdrvJkDFk"
   },
   "outputs": [
    {
     "name": "stdout",
     "output_type": "stream",
     "text": [
      "Epoch 1/8\n",
      "54/54 [==============================] - 0s 2ms/step - loss: 0.8432 - accuracy: 0.7696 - val_loss: 0.7279 - val_accuracy: 0.8157\n",
      "Epoch 2/8\n",
      "54/54 [==============================] - 0s 2ms/step - loss: 0.7997 - accuracy: 0.7796 - val_loss: 0.6876 - val_accuracy: 0.8262\n",
      "Epoch 3/8\n",
      "54/54 [==============================] - 0s 2ms/step - loss: 0.7622 - accuracy: 0.7885 - val_loss: 0.6530 - val_accuracy: 0.8338\n",
      "Epoch 4/8\n",
      "54/54 [==============================] - 0s 2ms/step - loss: 0.7295 - accuracy: 0.7958 - val_loss: 0.6228 - val_accuracy: 0.8393\n",
      "Epoch 5/8\n",
      "54/54 [==============================] - 0s 2ms/step - loss: 0.7007 - accuracy: 0.8022 - val_loss: 0.5963 - val_accuracy: 0.8445\n",
      "Epoch 6/8\n",
      "54/54 [==============================] - 0s 2ms/step - loss: 0.6752 - accuracy: 0.8084 - val_loss: 0.5729 - val_accuracy: 0.8502\n",
      "Epoch 7/8\n",
      "54/54 [==============================] - 0s 2ms/step - loss: 0.6525 - accuracy: 0.8141 - val_loss: 0.5520 - val_accuracy: 0.8537\n",
      "Epoch 8/8\n",
      "54/54 [==============================] - 0s 2ms/step - loss: 0.6321 - accuracy: 0.8195 - val_loss: 0.5333 - val_accuracy: 0.8568\n"
     ]
    }
   ],
   "source": [
    "# Consider increase the number of epochs if the model loss or traininng performance is not good enough or not converged\n",
    "# \n",
    "history = model.fit(X_train, y_train, validation_split=0.1, epochs=8, batch_size=1000)"
   ]
  },
  {
   "cell_type": "code",
   "execution_count": 25,
   "metadata": {
    "id": "HFtkwMFnmOBp"
   },
   "outputs": [
    {
     "data": {
      "text/plain": [
       "dict_keys(['loss', 'accuracy', 'val_loss', 'val_accuracy'])"
      ]
     },
     "execution_count": 25,
     "metadata": {},
     "output_type": "execute_result"
    }
   ],
   "source": [
    "history.history.keys()"
   ]
  },
  {
   "cell_type": "code",
   "execution_count": 26,
   "metadata": {
    "id": "ikp6yjC6c6Wz"
   },
   "outputs": [
    {
     "data": {
      "text/plain": [
       "{'loss': [0.8431584239006042,\n",
       "  0.7997147440910339,\n",
       "  0.7621779441833496,\n",
       "  0.7294641733169556,\n",
       "  0.7006983757019043,\n",
       "  0.6752168536186218,\n",
       "  0.6524888873100281,\n",
       "  0.6320803761482239],\n",
       " 'accuracy': [0.7696296572685242,\n",
       "  0.7795555591583252,\n",
       "  0.7884629368782043,\n",
       "  0.7958148121833801,\n",
       "  0.8022222518920898,\n",
       "  0.8084444403648376,\n",
       "  0.8141111135482788,\n",
       "  0.8195000290870667],\n",
       " 'val_loss': [0.7278587222099304,\n",
       "  0.6876435279846191,\n",
       "  0.6529992818832397,\n",
       "  0.6228359341621399,\n",
       "  0.5963333249092102,\n",
       "  0.5729027390480042,\n",
       "  0.5520192980766296,\n",
       "  0.5332874655723572],\n",
       " 'val_accuracy': [0.815666675567627,\n",
       "  0.8261666893959045,\n",
       "  0.8338333368301392,\n",
       "  0.8393333554267883,\n",
       "  0.8445000052452087,\n",
       "  0.8501666784286499,\n",
       "  0.8536666631698608,\n",
       "  0.8568333387374878]}"
      ]
     },
     "execution_count": 26,
     "metadata": {},
     "output_type": "execute_result"
    }
   ],
   "source": [
    "history.history"
   ]
  },
  {
   "cell_type": "code",
   "execution_count": 27,
   "metadata": {
    "id": "OQiTm4UOkcUC"
   },
   "outputs": [
    {
     "data": {
      "image/png": "[encoded data removed]",
      "text/plain": [
       "<Figure size 432x288 with 1 Axes>"
      ]
     },
     "metadata": {
      "needs_background": "light"
     },
     "output_type": "display_data"
    }
   ],
   "source": [
    "# Plotting the training and validation loss\n",
    "import matplotlib.pyplot as plt\n",
    "history_dict = history.history\n",
    "loss_values = history_dict[\"loss\"]\n",
    "val_loss_values = history_dict[\"val_loss\"]\n",
    "epochs = range(1, len(loss_values) + 1)\n",
    "plt.plot(epochs, loss_values, \"bo\", label=\"Training loss\")\n",
    "plt.plot(epochs, val_loss_values, \"b\", label=\"Validation loss\")\n",
    "plt.title(\"Training and validation loss\")\n",
    "plt.xlabel(\"Epochs\")\n",
    "plt.ylabel(\"Loss\")\n",
    "plt.legend()\n",
    "plt.show()"
   ]
  },
  {
   "cell_type": "code",
   "execution_count": 28,
   "metadata": {
    "id": "4viP9LZTm2NZ"
   },
   "outputs": [
    {
     "data": {
      "image/png": "[encoded data removed]",
      "text/plain": [
       "<Figure size 432x288 with 1 Axes>"
      ]
     },
     "metadata": {
      "needs_background": "light"
     },
     "output_type": "display_data"
    }
   ],
   "source": [
    "# Plotting the training and validation accuracy\n",
    "# Your code here:\n",
    "hist = history.history\n",
    "train_accuracy = hist['accuracy']\n",
    "val_accuracy = hist['val_accuracy']\n",
    "epochs = range(1, len(val_accuracy)+1)\n",
    "plt.plot(epochs, train_accuracy, 'bo', label='train accuracy')\n",
    "plt.plot(epochs, val_accuracy, 'b', label='validation accuracy')\n",
    "plt.title('Training and validation accuracy')\n",
    "plt.xlabel('Epochs')\n",
    "plt.ylabel('Accuracy')\n",
    "plt.legend(loc='best')\n",
    "plt.show()"
   ]
  },
  {
   "cell_type": "code",
   "execution_count": 29,
   "metadata": {
    "id": "UWqDHBapkRxu"
   },
   "outputs": [
    {
     "name": "stdout",
     "output_type": "stream",
     "text": [
      "313/313 [==============================] - 0s 771us/step - loss: 0.5871 - accuracy: 0.8374\n",
      "test loss, test acc: [0.5871362090110779, 0.8374000191688538]\n",
      "313/313 [==============================] - 0s 737us/step - loss: 0.5871 - accuracy: 0.8374\n",
      "Accuracy: 83.74\n"
     ]
    }
   ],
   "source": [
    "# After the model training is complete\n",
    "# evaluate the model \n",
    "results = model.evaluate(X_test, y_test)\n",
    "print(\"test loss, test acc:\", results)\n",
    "\n",
    "_, accuracy = model.evaluate(X_test, y_test)\n",
    "print('Accuracy: %.2f' % (accuracy*100))"
   ]
  },
  {
   "cell_type": "markdown",
   "metadata": {
    "id": "3WgFgXDgd__W"
   },
   "source": [
    "##Inference##\n",
    "To make predictions using a trained model "
   ]
  },
  {
   "cell_type": "code",
   "execution_count": 30,
   "metadata": {
    "id": "VwaE0ysss0MH"
   },
   "outputs": [
    {
     "name": "stdout",
     "output_type": "stream",
     "text": [
      "313/313 [==============================] - 0s 651us/step\n",
      "[6.6710071e-04 5.0989614e-04 1.7825481e-03 2.0097846e-03 2.6078350e-03\n",
      " 1.3313435e-03 3.1278250e-04 9.4230682e-01 6.8669172e-04 4.7785252e-02]\n",
      "\n",
      "Confusion matrix: \n",
      "[[ 918    0    4    1    0   14   25    5   12    1]\n",
      " [   0 1094   12   11    0    2    8    0    7    1]\n",
      " [  20   30  810   44   20    1   37   27   41    2]\n",
      " [   6    5   42  824    1   49    3   21   44   15]\n",
      " [   0   12    5    5  852    1   35    4    8   60]\n",
      " [  25   12   11   92   41  628   45   10   14   14]\n",
      " [  36    7   17    0   20   25  852    0    1    0]\n",
      " [   4   32   22    1   14    2    1  897    8   47]\n",
      " [  18   21   19   93   29   32   22    7  697   36]\n",
      " [  10   11   12    9   85   12    9   51    8  802]]\n",
      "\n",
      "Classification report: \n",
      "              precision    recall  f1-score   support\n",
      "\n",
      "           0       0.89      0.94      0.91       980\n",
      "           1       0.89      0.96      0.93      1135\n",
      "           2       0.85      0.78      0.82      1032\n",
      "           3       0.76      0.82      0.79      1010\n",
      "           4       0.80      0.87      0.83       982\n",
      "           5       0.82      0.70      0.76       892\n",
      "           6       0.82      0.89      0.85       958\n",
      "           7       0.88      0.87      0.88      1028\n",
      "           8       0.83      0.72      0.77       974\n",
      "           9       0.82      0.79      0.81      1009\n",
      "\n",
      "    accuracy                           0.84     10000\n",
      "   macro avg       0.84      0.83      0.83     10000\n",
      "weighted avg       0.84      0.84      0.84     10000\n",
      "\n"
     ]
    }
   ],
   "source": [
    "# To make predictions and get the confusion matrix\n",
    "# model.predict will generate probability for all 10 digits, \n",
    "#    so we use argmax to pick the class with the highest probability\n",
    "from sklearn import metrics\n",
    "y_pred = model.predict(X_test)\n",
    "print(y_pred[0]) # print the prediction for first image\n",
    "\n",
    "print('\\nConfusion matrix: ')\n",
    "matrix = metrics.confusion_matrix(y_test.argmax(axis=1), y_pred.argmax(axis=1))\n",
    "print(matrix)\n",
    "\n",
    "print('\\nClassification report: ')\n",
    "print(metrics.classification_report(y_test.argmax(axis=1), y_pred.argmax(axis=1)))"
   ]
  },
  {
   "cell_type": "markdown",
   "metadata": {
    "id": "rBdSC5gDs0MI"
   },
   "source": [
    "### Tasks\n",
    "\n",
    "As you now have a model to play with (in no particular order):\n",
    "\n",
    "1. Change the `learning-rate` for the optimiser.\n",
    "2. Change the ```batch_size``` to e.g. 1 or 1000 (and see how learning rate deals with larger/smaller batch sizes).\n",
    "3. Change the optimiser: from SGD to Adam\n",
    "4. Add complexity to the model, being mindful of how \"powerful\" your computers are.\n",
    "\n",
    "7. Try and find a sweet-spot between the size and performance of the model, take into account things like the number of iterations/epochs required to train the model in these assumptions.\n",
    "\n",
    "6. Do you get the exact same results if you run the Notebook multiple times without changing any parameters? Why or why not?\n",
    "\n",
    "5. Do you think these changes will have the same effect (if any) on other classifiers?\n",
    "\n",
    "8. Investigate **effect of dimensionality reduction** (with PCA, e.g. you may try to build the model without PCA and compare ...)\n",
    "\n",
    "9. Try out some **other ML classifiers** that have been discussed in the class, e.g. kNN (with scikit-learn) "
   ]
  },
  {
   "cell_type": "code",
   "execution_count": 31,
   "metadata": {
    "id": "La9Ah0Qms0MI"
   },
   "outputs": [
    {
     "name": "stdout",
     "output_type": "stream",
     "text": [
      "Model: \"sequential_2\"\n",
      "_________________________________________________________________\n",
      " Layer (type)                Output Shape              Param #   \n",
      "=================================================================\n",
      " dense_4 (Dense)             (None, 10)                610       \n",
      "                                                                 \n",
      " dense_5 (Dense)             (None, 10)                110       \n",
      "                                                                 \n",
      " dense_6 (Dense)             (None, 10)                110       \n",
      "                                                                 \n",
      " dense_7 (Dense)             (None, 10)                110       \n",
      "                                                                 \n",
      "=================================================================\n",
      "Total params: 940\n",
      "Trainable params: 940\n",
      "Non-trainable params: 0\n",
      "_________________________________________________________________\n"
     ]
    },
    {
     "data": {
      "text/plain": [
       "[<keras.layers.core.dense.Dense at 0x7f1d11318be0>,\n",
       " <keras.layers.core.dense.Dense at 0x7f1d11318610>,\n",
       " <keras.layers.core.dense.Dense at 0x7f1d11b428b0>,\n",
       " <keras.layers.core.dense.Dense at 0x7f1d11b42190>]"
      ]
     },
     "execution_count": 31,
     "metadata": {},
     "output_type": "execute_result"
    }
   ],
   "source": [
    "# Your code\n",
    "#\n",
    "#\n",
    "import tensorflow as tf\n",
    "from tensorflow import keras\n",
    "from keras.models import Sequential\n",
    "from keras import layers\n",
    "\n",
    "#create sequential model\n",
    "model2 = Sequential(    \n",
    "    [\n",
    "         keras.Input(shape=(60)),   \n",
    "         layers.Dense(10, activation='relu'),\n",
    "         layers.Dense(10, activation='relu'),\n",
    "         layers.Dense(10, activation='relu'),\n",
    "         layers.Dense(10, activation='softmax'),\n",
    "    ]\n",
    ")\n",
    "\n",
    "model2.summary()\n",
    "\n",
    "# Get the list of layers in the model\n",
    "model2.layers"
   ]
  },
  {
   "cell_type": "code",
   "execution_count": 32,
   "metadata": {},
   "outputs": [],
   "source": [
    "optimizer = keras.optimizers.Adam(learning_rate=0.001)\n",
    "model2.compile(optimizer=optimizer, loss='categorical_crossentropy', metrics=['accuracy'])"
   ]
  },
  {
   "cell_type": "code",
   "execution_count": 33,
   "metadata": {
    "scrolled": true
   },
   "outputs": [
    {
     "name": "stdout",
     "output_type": "stream",
     "text": [
      "Epoch 1/15\n",
      "54/54 [==============================] - 1s 4ms/step - loss: 2.2601 - accuracy: 0.1312 - val_loss: 2.1668 - val_accuracy: 0.2035\n",
      "Epoch 2/15\n",
      "54/54 [==============================] - 0s 2ms/step - loss: 2.0360 - accuracy: 0.2866 - val_loss: 1.8403 - val_accuracy: 0.3823\n",
      "Epoch 3/15\n",
      "54/54 [==============================] - 0s 2ms/step - loss: 1.6637 - accuracy: 0.4327 - val_loss: 1.4367 - val_accuracy: 0.4992\n",
      "Epoch 4/15\n",
      "54/54 [==============================] - 0s 2ms/step - loss: 1.3177 - accuracy: 0.5527 - val_loss: 1.1245 - val_accuracy: 0.6322\n",
      "Epoch 5/15\n",
      "54/54 [==============================] - 0s 2ms/step - loss: 1.0658 - accuracy: 0.6586 - val_loss: 0.9061 - val_accuracy: 0.7108\n",
      "Epoch 6/15\n",
      "54/54 [==============================] - 0s 2ms/step - loss: 0.8779 - accuracy: 0.7337 - val_loss: 0.7232 - val_accuracy: 0.7920\n",
      "Epoch 7/15\n",
      "54/54 [==============================] - 0s 2ms/step - loss: 0.7155 - accuracy: 0.7949 - val_loss: 0.5674 - val_accuracy: 0.8467\n",
      "Epoch 8/15\n",
      "54/54 [==============================] - 0s 2ms/step - loss: 0.5899 - accuracy: 0.8350 - val_loss: 0.4651 - val_accuracy: 0.8765\n",
      "Epoch 9/15\n",
      "54/54 [==============================] - 0s 2ms/step - loss: 0.5101 - accuracy: 0.8565 - val_loss: 0.4100 - val_accuracy: 0.8890\n",
      "Epoch 10/15\n",
      "54/54 [==============================] - 0s 2ms/step - loss: 0.4627 - accuracy: 0.8681 - val_loss: 0.3757 - val_accuracy: 0.8950\n",
      "Epoch 11/15\n",
      "54/54 [==============================] - 0s 2ms/step - loss: 0.4316 - accuracy: 0.8765 - val_loss: 0.3552 - val_accuracy: 0.9002\n",
      "Epoch 12/15\n",
      "54/54 [==============================] - 0s 2ms/step - loss: 0.4091 - accuracy: 0.8821 - val_loss: 0.3390 - val_accuracy: 0.9048\n",
      "Epoch 13/15\n",
      "54/54 [==============================] - 0s 2ms/step - loss: 0.3916 - accuracy: 0.8873 - val_loss: 0.3248 - val_accuracy: 0.9080\n",
      "Epoch 14/15\n",
      "54/54 [==============================] - 0s 2ms/step - loss: 0.3771 - accuracy: 0.8913 - val_loss: 0.3132 - val_accuracy: 0.9115\n",
      "Epoch 15/15\n",
      "54/54 [==============================] - 0s 2ms/step - loss: 0.3641 - accuracy: 0.8949 - val_loss: 0.3042 - val_accuracy: 0.9155\n"
     ]
    }
   ],
   "source": [
    "history2 = model2.fit(X_train, y_train, validation_split=0.1, epochs=15, batch_size=1000)"
   ]
  },
  {
   "cell_type": "code",
   "execution_count": 34,
   "metadata": {
    "scrolled": true
   },
   "outputs": [
    {
     "data": {
      "text/plain": [
       "{'loss': [2.260085344314575,\n",
       "  2.036048650741577,\n",
       "  1.6637216806411743,\n",
       "  1.3177404403686523,\n",
       "  1.0657740831375122,\n",
       "  0.8778704404830933,\n",
       "  0.7154660820960999,\n",
       "  0.5898524522781372,\n",
       "  0.5100567936897278,\n",
       "  0.4627271294593811,\n",
       "  0.4316282272338867,\n",
       "  0.4091094136238098,\n",
       "  0.39163869619369507,\n",
       "  0.3770710825920105,\n",
       "  0.36413148045539856],\n",
       " 'accuracy': [0.13116666674613953,\n",
       "  0.2865740656852722,\n",
       "  0.4326851963996887,\n",
       "  0.552740752696991,\n",
       "  0.6586111187934875,\n",
       "  0.7336851954460144,\n",
       "  0.7948703765869141,\n",
       "  0.835018515586853,\n",
       "  0.8564814925193787,\n",
       "  0.868148148059845,\n",
       "  0.8765000104904175,\n",
       "  0.8820925951004028,\n",
       "  0.8872592449188232,\n",
       "  0.8913333415985107,\n",
       "  0.8948518633842468],\n",
       " 'val_loss': [2.1667723655700684,\n",
       "  1.8402549028396606,\n",
       "  1.4366986751556396,\n",
       "  1.1244797706604004,\n",
       "  0.9061063528060913,\n",
       "  0.7232430577278137,\n",
       "  0.5674376487731934,\n",
       "  0.4650726318359375,\n",
       "  0.40997135639190674,\n",
       "  0.3756747543811798,\n",
       "  0.3552473187446594,\n",
       "  0.3390476703643799,\n",
       "  0.32484546303749084,\n",
       "  0.31315359473228455,\n",
       "  0.3042386770248413],\n",
       " 'val_accuracy': [0.20350000262260437,\n",
       "  0.38233333826065063,\n",
       "  0.49916666746139526,\n",
       "  0.6321666836738586,\n",
       "  0.7108333110809326,\n",
       "  0.7919999957084656,\n",
       "  0.846666693687439,\n",
       "  0.8765000104904175,\n",
       "  0.8889999985694885,\n",
       "  0.8949999809265137,\n",
       "  0.9001666903495789,\n",
       "  0.9048333168029785,\n",
       "  0.9079999923706055,\n",
       "  0.9114999771118164,\n",
       "  0.9154999852180481]}"
      ]
     },
     "execution_count": 34,
     "metadata": {},
     "output_type": "execute_result"
    }
   ],
   "source": [
    "history2.history"
   ]
  },
  {
   "cell_type": "code",
   "execution_count": 35,
   "metadata": {
    "scrolled": true
   },
   "outputs": [
    {
     "data": {
      "image/png": "[encoded data removed]",
      "text/plain": [
       "<Figure size 432x288 with 1 Axes>"
      ]
     },
     "metadata": {
      "needs_background": "light"
     },
     "output_type": "display_data"
    }
   ],
   "source": [
    "hist = history2.history\n",
    "train_accuracy = hist['accuracy']\n",
    "val_accuracy = hist['val_accuracy']\n",
    "epochs = range(1, len(val_accuracy)+1)\n",
    "plt.plot(epochs, train_accuracy, 'bo', label='train accuracy')\n",
    "plt.plot(epochs, val_accuracy, 'b', label='validation accuracy')\n",
    "plt.title('Training and validation accuracy')\n",
    "plt.xlabel('Epochs')\n",
    "plt.ylabel('Accuracy')\n",
    "plt.legend(loc='best')\n",
    "plt.show()"
   ]
  },
  {
   "cell_type": "code",
   "execution_count": 36,
   "metadata": {
    "scrolled": true
   },
   "outputs": [
    {
     "name": "stdout",
     "output_type": "stream",
     "text": [
      "313/313 [==============================] - 0s 790us/step - loss: 0.3404 - accuracy: 0.9026\n",
      "test loss, test acc: [0.340443879365921, 0.9025999903678894]\n",
      "313/313 [==============================] - 0s 830us/step - loss: 0.3404 - accuracy: 0.9026\n",
      "Accuracy: 90.26\n"
     ]
    }
   ],
   "source": [
    "#evaluation of model\n",
    "results2 = model2.evaluate(X_test, y_test)\n",
    "print(\"test loss, test acc:\", results2)\n",
    "\n",
    "_, accuracy2 = model2.evaluate(X_test, y_test)\n",
    "print('Accuracy: %.2f' % (accuracy2*100))"
   ]
  },
  {
   "cell_type": "code",
   "execution_count": 37,
   "metadata": {},
   "outputs": [
    {
     "name": "stdout",
     "output_type": "stream",
     "text": [
      "Size of:\n",
      "- Training-set:\t\t(60000, 60)\n",
      "- Test-set:\t\t(10000, 60)\n"
     ]
    }
   ],
   "source": [
    "#without PCA \n",
    "X_train_noPCA = image_train.reshape((60000, 28*28)) # or #X_train = image_train.reshape(X_train.shape[0], -1)\n",
    "X_train_noPCA = X_train.astype('float32')/255 \n",
    "X_test_noPCA = image_test.reshape((10000, 28*28)) # or #X_test = image_test.reshape(X_test.shape[0], -1)\n",
    "X_test_noPCA = X_test.astype('float32')/255\n",
    "\n",
    "print(\"Size of:\")\n",
    "print(\"- Training-set:\\t\\t{}\".format(X_train_noPCA.shape))\n",
    "print(\"- Test-set:\\t\\t{}\".format(X_test_noPCA.shape))"
   ]
  },
  {
   "cell_type": "code",
   "execution_count": 38,
   "metadata": {},
   "outputs": [],
   "source": [
    "model_noPCA = Sequential([\n",
    "     keras.Input(shape=(60)),   \n",
    "     layers.Dense(32, activation='relu'),\n",
    "     layers.Dense(10, activation='softmax')\n",
    "])"
   ]
  },
  {
   "cell_type": "code",
   "execution_count": 39,
   "metadata": {},
   "outputs": [
    {
     "name": "stdout",
     "output_type": "stream",
     "text": [
      "Epoch 1/100\n",
      "11/11 [==============================] - 1s 16ms/step - loss: 2.3010 - accuracy: 0.1585 - val_loss: 2.2995 - val_accuracy: 0.1538\n",
      "Epoch 2/100\n",
      "11/11 [==============================] - 0s 6ms/step - loss: 2.2990 - accuracy: 0.1564 - val_loss: 2.2981 - val_accuracy: 0.1357\n",
      "Epoch 3/100\n",
      "11/11 [==============================] - 0s 5ms/step - loss: 2.2976 - accuracy: 0.1295 - val_loss: 2.2967 - val_accuracy: 0.1067\n",
      "Epoch 4/100\n",
      "11/11 [==============================] - 0s 5ms/step - loss: 2.2962 - accuracy: 0.1135 - val_loss: 2.2955 - val_accuracy: 0.1050\n",
      "Epoch 5/100\n",
      "11/11 [==============================] - 0s 6ms/step - loss: 2.2948 - accuracy: 0.1132 - val_loss: 2.2942 - val_accuracy: 0.1050\n",
      "Epoch 6/100\n",
      "11/11 [==============================] - 0s 5ms/step - loss: 2.2934 - accuracy: 0.1132 - val_loss: 2.2928 - val_accuracy: 0.1050\n",
      "Epoch 7/100\n",
      "11/11 [==============================] - 0s 6ms/step - loss: 2.2919 - accuracy: 0.1132 - val_loss: 2.2913 - val_accuracy: 0.1050\n",
      "Epoch 8/100\n",
      "11/11 [==============================] - 0s 6ms/step - loss: 2.2904 - accuracy: 0.1132 - val_loss: 2.2897 - val_accuracy: 0.1050\n",
      "Epoch 9/100\n",
      "11/11 [==============================] - 0s 5ms/step - loss: 2.2887 - accuracy: 0.1132 - val_loss: 2.2878 - val_accuracy: 0.1050\n",
      "Epoch 10/100\n",
      "11/11 [==============================] - 0s 6ms/step - loss: 2.2868 - accuracy: 0.1132 - val_loss: 2.2858 - val_accuracy: 0.1050\n",
      "Epoch 11/100\n",
      "11/11 [==============================] - 0s 6ms/step - loss: 2.2847 - accuracy: 0.1132 - val_loss: 2.2835 - val_accuracy: 0.1052\n",
      "Epoch 12/100\n",
      "11/11 [==============================] - 0s 5ms/step - loss: 2.2824 - accuracy: 0.1132 - val_loss: 2.2811 - val_accuracy: 0.1052\n",
      "Epoch 13/100\n",
      "11/11 [==============================] - 0s 6ms/step - loss: 2.2799 - accuracy: 0.1134 - val_loss: 2.2784 - val_accuracy: 0.1058\n",
      "Epoch 14/100\n",
      "11/11 [==============================] - 0s 6ms/step - loss: 2.2772 - accuracy: 0.1140 - val_loss: 2.2755 - val_accuracy: 0.1075\n",
      "Epoch 15/100\n",
      "11/11 [==============================] - 0s 5ms/step - loss: 2.2743 - accuracy: 0.1147 - val_loss: 2.2724 - val_accuracy: 0.1090\n",
      "Epoch 16/100\n",
      "11/11 [==============================] - 0s 5ms/step - loss: 2.2711 - accuracy: 0.1187 - val_loss: 2.2689 - val_accuracy: 0.1132\n",
      "Epoch 17/100\n",
      "11/11 [==============================] - 0s 6ms/step - loss: 2.2678 - accuracy: 0.1274 - val_loss: 2.2653 - val_accuracy: 0.1187\n",
      "Epoch 18/100\n",
      "11/11 [==============================] - 0s 5ms/step - loss: 2.2642 - accuracy: 0.1304 - val_loss: 2.2616 - val_accuracy: 0.1247\n",
      "Epoch 19/100\n",
      "11/11 [==============================] - 0s 5ms/step - loss: 2.2604 - accuracy: 0.1411 - val_loss: 2.2576 - val_accuracy: 0.1407\n",
      "Epoch 20/100\n",
      "11/11 [==============================] - 0s 6ms/step - loss: 2.2565 - accuracy: 0.1641 - val_loss: 2.2534 - val_accuracy: 0.1670\n",
      "Epoch 21/100\n",
      "11/11 [==============================] - 0s 5ms/step - loss: 2.2523 - accuracy: 0.1693 - val_loss: 2.2491 - val_accuracy: 0.1705\n",
      "Epoch 22/100\n",
      "11/11 [==============================] - 0s 5ms/step - loss: 2.2480 - accuracy: 0.1931 - val_loss: 2.2444 - val_accuracy: 0.2203\n",
      "Epoch 23/100\n",
      "11/11 [==============================] - 0s 5ms/step - loss: 2.2434 - accuracy: 0.2394 - val_loss: 2.2396 - val_accuracy: 0.2300\n",
      "Epoch 24/100\n",
      "11/11 [==============================] - 0s 5ms/step - loss: 2.2386 - accuracy: 0.2171 - val_loss: 2.2346 - val_accuracy: 0.2408\n",
      "Epoch 25/100\n",
      "11/11 [==============================] - 0s 5ms/step - loss: 2.2337 - accuracy: 0.2645 - val_loss: 2.2292 - val_accuracy: 0.3007\n",
      "Epoch 26/100\n",
      "11/11 [==============================] - 0s 5ms/step - loss: 2.2284 - accuracy: 0.3194 - val_loss: 2.2238 - val_accuracy: 0.3343\n",
      "Epoch 27/100\n",
      "11/11 [==============================] - 0s 6ms/step - loss: 2.2230 - accuracy: 0.3082 - val_loss: 2.2182 - val_accuracy: 0.3238\n",
      "Epoch 28/100\n",
      "11/11 [==============================] - 0s 5ms/step - loss: 2.2174 - accuracy: 0.3335 - val_loss: 2.2123 - val_accuracy: 0.3618\n",
      "Epoch 29/100\n",
      "11/11 [==============================] - 0s 6ms/step - loss: 2.2116 - accuracy: 0.3710 - val_loss: 2.2061 - val_accuracy: 0.4115\n",
      "Epoch 30/100\n",
      "11/11 [==============================] - 0s 5ms/step - loss: 2.2055 - accuracy: 0.3996 - val_loss: 2.1998 - val_accuracy: 0.4165\n",
      "Epoch 31/100\n",
      "11/11 [==============================] - 0s 5ms/step - loss: 2.1993 - accuracy: 0.4153 - val_loss: 2.1933 - val_accuracy: 0.4612\n",
      "Epoch 32/100\n",
      "11/11 [==============================] - 0s 5ms/step - loss: 2.1929 - accuracy: 0.4457 - val_loss: 2.1864 - val_accuracy: 0.4953\n",
      "Epoch 33/100\n",
      "11/11 [==============================] - 0s 5ms/step - loss: 2.1862 - accuracy: 0.4812 - val_loss: 2.1796 - val_accuracy: 0.5308\n",
      "Epoch 34/100\n",
      "11/11 [==============================] - 0s 6ms/step - loss: 2.1793 - accuracy: 0.4993 - val_loss: 2.1724 - val_accuracy: 0.5270\n",
      "Epoch 35/100\n",
      "11/11 [==============================] - 0s 6ms/step - loss: 2.1723 - accuracy: 0.5289 - val_loss: 2.1650 - val_accuracy: 0.5697\n",
      "Epoch 36/100\n",
      "11/11 [==============================] - 0s 6ms/step - loss: 2.1650 - accuracy: 0.5526 - val_loss: 2.1574 - val_accuracy: 0.5953\n",
      "Epoch 37/100\n",
      "11/11 [==============================] - 0s 5ms/step - loss: 2.1576 - accuracy: 0.5542 - val_loss: 2.1497 - val_accuracy: 0.5962\n",
      "Epoch 38/100\n",
      "11/11 [==============================] - 0s 6ms/step - loss: 2.1499 - accuracy: 0.6160 - val_loss: 2.1416 - val_accuracy: 0.6415\n",
      "Epoch 39/100\n",
      "11/11 [==============================] - 0s 6ms/step - loss: 2.1421 - accuracy: 0.5834 - val_loss: 2.1336 - val_accuracy: 0.6065\n",
      "Epoch 40/100\n",
      "11/11 [==============================] - 0s 5ms/step - loss: 2.1340 - accuracy: 0.6037 - val_loss: 2.1252 - val_accuracy: 0.6642\n",
      "Epoch 41/100\n",
      "11/11 [==============================] - 0s 6ms/step - loss: 2.1259 - accuracy: 0.6366 - val_loss: 2.1165 - val_accuracy: 0.6695\n",
      "Epoch 42/100\n",
      "11/11 [==============================] - 0s 6ms/step - loss: 2.1174 - accuracy: 0.6574 - val_loss: 2.1080 - val_accuracy: 0.6973\n",
      "Epoch 43/100\n",
      "11/11 [==============================] - 0s 6ms/step - loss: 2.1088 - accuracy: 0.6620 - val_loss: 2.0990 - val_accuracy: 0.6780\n",
      "Epoch 44/100\n",
      "11/11 [==============================] - 0s 5ms/step - loss: 2.1001 - accuracy: 0.6647 - val_loss: 2.0898 - val_accuracy: 0.7047\n",
      "Epoch 45/100\n",
      "11/11 [==============================] - 0s 5ms/step - loss: 2.0912 - accuracy: 0.6784 - val_loss: 2.0807 - val_accuracy: 0.7047\n",
      "Epoch 46/100\n",
      "11/11 [==============================] - 0s 5ms/step - loss: 2.0821 - accuracy: 0.6830 - val_loss: 2.0710 - val_accuracy: 0.7228\n",
      "Epoch 47/100\n",
      "11/11 [==============================] - 0s 5ms/step - loss: 2.0728 - accuracy: 0.6996 - val_loss: 2.0616 - val_accuracy: 0.7355\n",
      "Epoch 48/100\n",
      "11/11 [==============================] - 0s 5ms/step - loss: 2.0635 - accuracy: 0.7113 - val_loss: 2.0517 - val_accuracy: 0.7417\n",
      "Epoch 49/100\n",
      "11/11 [==============================] - 0s 5ms/step - loss: 2.0539 - accuracy: 0.7012 - val_loss: 2.0419 - val_accuracy: 0.7388\n",
      "Epoch 50/100\n",
      "11/11 [==============================] - 0s 5ms/step - loss: 2.0442 - accuracy: 0.7217 - val_loss: 2.0317 - val_accuracy: 0.7530\n",
      "Epoch 51/100\n",
      "11/11 [==============================] - 0s 5ms/step - loss: 2.0343 - accuracy: 0.7177 - val_loss: 2.0214 - val_accuracy: 0.7573\n",
      "Epoch 52/100\n",
      "11/11 [==============================] - 0s 5ms/step - loss: 2.0243 - accuracy: 0.7293 - val_loss: 2.0110 - val_accuracy: 0.7702\n",
      "Epoch 53/100\n",
      "11/11 [==============================] - 0s 5ms/step - loss: 2.0141 - accuracy: 0.7407 - val_loss: 2.0006 - val_accuracy: 0.7657\n",
      "Epoch 54/100\n",
      "11/11 [==============================] - 0s 5ms/step - loss: 2.0038 - accuracy: 0.7294 - val_loss: 1.9899 - val_accuracy: 0.7683\n",
      "Epoch 55/100\n",
      "11/11 [==============================] - 0s 5ms/step - loss: 1.9934 - accuracy: 0.7455 - val_loss: 1.9788 - val_accuracy: 0.7822\n",
      "Epoch 56/100\n",
      "11/11 [==============================] - 0s 5ms/step - loss: 1.9829 - accuracy: 0.7449 - val_loss: 1.9681 - val_accuracy: 0.7787\n",
      "Epoch 57/100\n",
      "11/11 [==============================] - 0s 5ms/step - loss: 1.9722 - accuracy: 0.7538 - val_loss: 1.9571 - val_accuracy: 0.7885\n",
      "Epoch 58/100\n",
      "11/11 [==============================] - 0s 5ms/step - loss: 1.9614 - accuracy: 0.7549 - val_loss: 1.9459 - val_accuracy: 0.7833\n"
     ]
    },
    {
     "name": "stdout",
     "output_type": "stream",
     "text": [
      "Epoch 59/100\n",
      "11/11 [==============================] - 0s 5ms/step - loss: 1.9505 - accuracy: 0.7551 - val_loss: 1.9347 - val_accuracy: 0.7932\n",
      "Epoch 60/100\n",
      "11/11 [==============================] - 0s 5ms/step - loss: 1.9395 - accuracy: 0.7561 - val_loss: 1.9231 - val_accuracy: 0.7947\n",
      "Epoch 61/100\n",
      "11/11 [==============================] - 0s 5ms/step - loss: 1.9284 - accuracy: 0.7622 - val_loss: 1.9116 - val_accuracy: 0.7933\n",
      "Epoch 62/100\n",
      "11/11 [==============================] - 0s 5ms/step - loss: 1.9171 - accuracy: 0.7631 - val_loss: 1.9000 - val_accuracy: 0.8002\n",
      "Epoch 63/100\n",
      "11/11 [==============================] - 0s 5ms/step - loss: 1.9059 - accuracy: 0.7684 - val_loss: 1.8881 - val_accuracy: 0.8050\n",
      "Epoch 64/100\n",
      "11/11 [==============================] - 0s 5ms/step - loss: 1.8945 - accuracy: 0.7687 - val_loss: 1.8765 - val_accuracy: 0.8085\n",
      "Epoch 65/100\n",
      "11/11 [==============================] - 0s 5ms/step - loss: 1.8829 - accuracy: 0.7718 - val_loss: 1.8644 - val_accuracy: 0.8060\n",
      "Epoch 66/100\n",
      "11/11 [==============================] - 0s 5ms/step - loss: 1.8714 - accuracy: 0.7688 - val_loss: 1.8525 - val_accuracy: 0.8127\n",
      "Epoch 67/100\n",
      "11/11 [==============================] - 0s 5ms/step - loss: 1.8598 - accuracy: 0.7799 - val_loss: 1.8404 - val_accuracy: 0.8110\n",
      "Epoch 68/100\n",
      "11/11 [==============================] - 0s 5ms/step - loss: 1.8481 - accuracy: 0.7758 - val_loss: 1.8281 - val_accuracy: 0.8132\n",
      "Epoch 69/100\n",
      "11/11 [==============================] - 0s 5ms/step - loss: 1.8362 - accuracy: 0.7810 - val_loss: 1.8163 - val_accuracy: 0.8167\n",
      "Epoch 70/100\n",
      "11/11 [==============================] - 0s 5ms/step - loss: 1.8244 - accuracy: 0.7806 - val_loss: 1.8038 - val_accuracy: 0.8132\n",
      "Epoch 71/100\n",
      "11/11 [==============================] - 0s 5ms/step - loss: 1.8125 - accuracy: 0.7798 - val_loss: 1.7914 - val_accuracy: 0.8193\n",
      "Epoch 72/100\n",
      "11/11 [==============================] - 0s 5ms/step - loss: 1.8006 - accuracy: 0.7921 - val_loss: 1.7789 - val_accuracy: 0.8225\n",
      "Epoch 73/100\n",
      "11/11 [==============================] - 0s 5ms/step - loss: 1.7886 - accuracy: 0.7809 - val_loss: 1.7667 - val_accuracy: 0.8187\n",
      "Epoch 74/100\n",
      "11/11 [==============================] - 0s 5ms/step - loss: 1.7765 - accuracy: 0.7871 - val_loss: 1.7541 - val_accuracy: 0.8272\n",
      "Epoch 75/100\n",
      "11/11 [==============================] - 0s 5ms/step - loss: 1.7645 - accuracy: 0.7952 - val_loss: 1.7416 - val_accuracy: 0.8213\n",
      "Epoch 76/100\n",
      "11/11 [==============================] - 0s 5ms/step - loss: 1.7524 - accuracy: 0.7875 - val_loss: 1.7290 - val_accuracy: 0.8288\n",
      "Epoch 77/100\n",
      "11/11 [==============================] - 0s 5ms/step - loss: 1.7401 - accuracy: 0.7963 - val_loss: 1.7163 - val_accuracy: 0.8282\n",
      "Epoch 78/100\n",
      "11/11 [==============================] - 0s 5ms/step - loss: 1.7279 - accuracy: 0.7936 - val_loss: 1.7039 - val_accuracy: 0.8278\n",
      "Epoch 79/100\n",
      "11/11 [==============================] - 0s 5ms/step - loss: 1.7158 - accuracy: 0.7962 - val_loss: 1.6911 - val_accuracy: 0.8310\n",
      "Epoch 80/100\n",
      "11/11 [==============================] - 0s 5ms/step - loss: 1.7036 - accuracy: 0.7978 - val_loss: 1.6785 - val_accuracy: 0.8313\n",
      "Epoch 81/100\n",
      "11/11 [==============================] - 0s 5ms/step - loss: 1.6913 - accuracy: 0.7986 - val_loss: 1.6656 - val_accuracy: 0.8318\n",
      "Epoch 82/100\n",
      "11/11 [==============================] - 0s 5ms/step - loss: 1.6791 - accuracy: 0.8016 - val_loss: 1.6532 - val_accuracy: 0.8337\n",
      "Epoch 83/100\n",
      "11/11 [==============================] - 0s 5ms/step - loss: 1.6669 - accuracy: 0.8040 - val_loss: 1.6404 - val_accuracy: 0.8355\n",
      "Epoch 84/100\n",
      "11/11 [==============================] - 0s 5ms/step - loss: 1.6547 - accuracy: 0.8019 - val_loss: 1.6278 - val_accuracy: 0.8358\n",
      "Epoch 85/100\n",
      "11/11 [==============================] - 0s 5ms/step - loss: 1.6424 - accuracy: 0.8047 - val_loss: 1.6151 - val_accuracy: 0.8360\n",
      "Epoch 86/100\n",
      "11/11 [==============================] - 0s 5ms/step - loss: 1.6303 - accuracy: 0.8044 - val_loss: 1.6024 - val_accuracy: 0.8390\n",
      "Epoch 87/100\n",
      "11/11 [==============================] - 0s 5ms/step - loss: 1.6181 - accuracy: 0.8093 - val_loss: 1.5898 - val_accuracy: 0.8357\n",
      "Epoch 88/100\n",
      "11/11 [==============================] - 0s 5ms/step - loss: 1.6059 - accuracy: 0.8053 - val_loss: 1.5772 - val_accuracy: 0.8422\n",
      "Epoch 89/100\n",
      "11/11 [==============================] - 0s 5ms/step - loss: 1.5937 - accuracy: 0.8099 - val_loss: 1.5644 - val_accuracy: 0.8427\n",
      "Epoch 90/100\n",
      "11/11 [==============================] - 0s 5ms/step - loss: 1.5816 - accuracy: 0.8093 - val_loss: 1.5519 - val_accuracy: 0.8432\n",
      "Epoch 91/100\n",
      "11/11 [==============================] - 0s 5ms/step - loss: 1.5695 - accuracy: 0.8110 - val_loss: 1.5394 - val_accuracy: 0.8418\n",
      "Epoch 92/100\n",
      "11/11 [==============================] - 0s 5ms/step - loss: 1.5574 - accuracy: 0.8132 - val_loss: 1.5269 - val_accuracy: 0.8455\n",
      "Epoch 93/100\n",
      "11/11 [==============================] - 0s 5ms/step - loss: 1.5453 - accuracy: 0.8130 - val_loss: 1.5143 - val_accuracy: 0.8450\n",
      "Epoch 94/100\n",
      "11/11 [==============================] - 0s 5ms/step - loss: 1.5334 - accuracy: 0.8144 - val_loss: 1.5018 - val_accuracy: 0.8472\n",
      "Epoch 95/100\n",
      "11/11 [==============================] - 0s 5ms/step - loss: 1.5215 - accuracy: 0.8146 - val_loss: 1.4896 - val_accuracy: 0.8448\n",
      "Epoch 96/100\n",
      "11/11 [==============================] - 0s 5ms/step - loss: 1.5096 - accuracy: 0.8148 - val_loss: 1.4770 - val_accuracy: 0.8492\n",
      "Epoch 97/100\n",
      "11/11 [==============================] - 0s 5ms/step - loss: 1.4977 - accuracy: 0.8180 - val_loss: 1.4648 - val_accuracy: 0.8492\n",
      "Epoch 98/100\n",
      "11/11 [==============================] - 0s 5ms/step - loss: 1.4859 - accuracy: 0.8170 - val_loss: 1.4525 - val_accuracy: 0.8517\n",
      "Epoch 99/100\n",
      "11/11 [==============================] - 0s 5ms/step - loss: 1.4742 - accuracy: 0.8191 - val_loss: 1.4404 - val_accuracy: 0.8522\n",
      "Epoch 100/100\n",
      "11/11 [==============================] - 0s 5ms/step - loss: 1.4625 - accuracy: 0.8178 - val_loss: 1.4282 - val_accuracy: 0.8500\n"
     ]
    }
   ],
   "source": [
    "optimizer = keras.optimizers.Adam(learning_rate=0.001)\n",
    "model_noPCA.compile(optimizer=optimizer, loss='categorical_crossentropy', metrics=['accuracy'])\n",
    "\n",
    "history_noPCA = model_noPCA.fit(X_train_noPCA, y_train,validation_split=0.1, epochs=100, batch_size=5000 )"
   ]
  },
  {
   "cell_type": "code",
   "execution_count": 40,
   "metadata": {},
   "outputs": [
    {
     "data": {
      "text/plain": [
       "{'loss': [2.300989866256714,\n",
       "  2.298969268798828,\n",
       "  2.2975680828094482,\n",
       "  2.2962021827697754,\n",
       "  2.2948086261749268,\n",
       "  2.2934072017669678,\n",
       "  2.2919297218322754,\n",
       "  2.290369749069214,\n",
       "  2.2886803150177,\n",
       "  2.286785840988159,\n",
       "  2.2846832275390625,\n",
       "  2.2824103832244873,\n",
       "  2.279937267303467,\n",
       "  2.2771894931793213,\n",
       "  2.2742791175842285,\n",
       "  2.2711288928985596,\n",
       "  2.267761707305908,\n",
       "  2.2642016410827637,\n",
       "  2.26043701171875,\n",
       "  2.256495237350464,\n",
       "  2.2523443698883057,\n",
       "  2.2479593753814697,\n",
       "  2.243420124053955,\n",
       "  2.2386274337768555,\n",
       "  2.233672857284546,\n",
       "  2.228430986404419,\n",
       "  2.2230265140533447,\n",
       "  2.217393159866333,\n",
       "  2.211566925048828,\n",
       "  2.2055346965789795,\n",
       "  2.1993191242218018,\n",
       "  2.1928679943084717,\n",
       "  2.1862218379974365,\n",
       "  2.1793253421783447,\n",
       "  2.172271728515625,\n",
       "  2.1649892330169678,\n",
       "  2.1575865745544434,\n",
       "  2.1499440670013428,\n",
       "  2.142077684402466,\n",
       "  2.134011745452881,\n",
       "  2.125854969024658,\n",
       "  2.1174371242523193,\n",
       "  2.1088452339172363,\n",
       "  2.1001203060150146,\n",
       "  2.0912210941314697,\n",
       "  2.0821359157562256,\n",
       "  2.0728280544281006,\n",
       "  2.0634539127349854,\n",
       "  2.053894281387329,\n",
       "  2.0442240238189697,\n",
       "  2.0342681407928467,\n",
       "  2.0242884159088135,\n",
       "  2.014129161834717,\n",
       "  2.003847122192383,\n",
       "  1.9933979511260986,\n",
       "  1.98291015625,\n",
       "  1.9721568822860718,\n",
       "  1.9614425897598267,\n",
       "  1.9505234956741333,\n",
       "  1.9395005702972412,\n",
       "  1.928365707397461,\n",
       "  1.9171196222305298,\n",
       "  1.9058641195297241,\n",
       "  1.8944690227508545,\n",
       "  1.882918357849121,\n",
       "  1.8713840246200562,\n",
       "  1.8597724437713623,\n",
       "  1.8480627536773682,\n",
       "  1.8362133502960205,\n",
       "  1.8243837356567383,\n",
       "  1.812469720840454,\n",
       "  1.8005762100219727,\n",
       "  1.78860342502594,\n",
       "  1.7765058279037476,\n",
       "  1.7644953727722168,\n",
       "  1.7524080276489258,\n",
       "  1.7401295900344849,\n",
       "  1.727942705154419,\n",
       "  1.7157573699951172,\n",
       "  1.7035846710205078,\n",
       "  1.6913018226623535,\n",
       "  1.6791064739227295,\n",
       "  1.6668893098831177,\n",
       "  1.6546516418457031,\n",
       "  1.6424195766448975,\n",
       "  1.6302735805511475,\n",
       "  1.6181118488311768,\n",
       "  1.605866551399231,\n",
       "  1.59371018409729,\n",
       "  1.5815619230270386,\n",
       "  1.5694984197616577,\n",
       "  1.5574020147323608,\n",
       "  1.5453492403030396,\n",
       "  1.5333764553070068,\n",
       "  1.5215200185775757,\n",
       "  1.5095524787902832,\n",
       "  1.4976866245269775,\n",
       "  1.485882043838501,\n",
       "  1.4741795063018799,\n",
       "  1.4624762535095215],\n",
       " 'accuracy': [0.15848147869110107,\n",
       "  0.15638889372348785,\n",
       "  0.12953703105449677,\n",
       "  0.11346296221017838,\n",
       "  0.11318518221378326,\n",
       "  0.11318518221378326,\n",
       "  0.11318518221378326,\n",
       "  0.11318518221378326,\n",
       "  0.11318518221378326,\n",
       "  0.11318518221378326,\n",
       "  0.11318518221378326,\n",
       "  0.11320370435714722,\n",
       "  0.11340741068124771,\n",
       "  0.11403703689575195,\n",
       "  0.1146666631102562,\n",
       "  0.11866666376590729,\n",
       "  0.12744444608688354,\n",
       "  0.13044443726539612,\n",
       "  0.1411111056804657,\n",
       "  0.16409258544445038,\n",
       "  0.16925926506519318,\n",
       "  0.19312962889671326,\n",
       "  0.239425927400589,\n",
       "  0.2171296328306198,\n",
       "  0.2644999921321869,\n",
       "  0.3193703591823578,\n",
       "  0.308222234249115,\n",
       "  0.33351850509643555,\n",
       "  0.37101852893829346,\n",
       "  0.39961111545562744,\n",
       "  0.4153333306312561,\n",
       "  0.44572222232818604,\n",
       "  0.48116666078567505,\n",
       "  0.49933332204818726,\n",
       "  0.5288703441619873,\n",
       "  0.5526296496391296,\n",
       "  0.5542036890983582,\n",
       "  0.6160370111465454,\n",
       "  0.5833703875541687,\n",
       "  0.6037222146987915,\n",
       "  0.636555552482605,\n",
       "  0.6574259400367737,\n",
       "  0.6620000004768372,\n",
       "  0.664722204208374,\n",
       "  0.6784074306488037,\n",
       "  0.6830000281333923,\n",
       "  0.6996481418609619,\n",
       "  0.7112963199615479,\n",
       "  0.7011851668357849,\n",
       "  0.7217037081718445,\n",
       "  0.7177222371101379,\n",
       "  0.7292962670326233,\n",
       "  0.7407222390174866,\n",
       "  0.7294444441795349,\n",
       "  0.7455000281333923,\n",
       "  0.7449073791503906,\n",
       "  0.7538148164749146,\n",
       "  0.7548703551292419,\n",
       "  0.7551296353340149,\n",
       "  0.756074070930481,\n",
       "  0.7622036933898926,\n",
       "  0.7630741000175476,\n",
       "  0.7684444189071655,\n",
       "  0.768666684627533,\n",
       "  0.7718333601951599,\n",
       "  0.7687777876853943,\n",
       "  0.7798518538475037,\n",
       "  0.7757592797279358,\n",
       "  0.7810370326042175,\n",
       "  0.7806481719017029,\n",
       "  0.7797777652740479,\n",
       "  0.7920926213264465,\n",
       "  0.7808889150619507,\n",
       "  0.7871296405792236,\n",
       "  0.7951666712760925,\n",
       "  0.7874814867973328,\n",
       "  0.7963148355484009,\n",
       "  0.7935740947723389,\n",
       "  0.7961851954460144,\n",
       "  0.7978147864341736,\n",
       "  0.7986111044883728,\n",
       "  0.8016111254692078,\n",
       "  0.8040370345115662,\n",
       "  0.8019074201583862,\n",
       "  0.8047407269477844,\n",
       "  0.804444432258606,\n",
       "  0.8093147873878479,\n",
       "  0.805314838886261,\n",
       "  0.8098888993263245,\n",
       "  0.8093147873878479,\n",
       "  0.8110370635986328,\n",
       "  0.8131851553916931,\n",
       "  0.8130000233650208,\n",
       "  0.8144074082374573,\n",
       "  0.8145740628242493,\n",
       "  0.8148148059844971,\n",
       "  0.8180000185966492,\n",
       "  0.8169999718666077,\n",
       "  0.8190925717353821,\n",
       "  0.8177592754364014],\n",
       " 'val_loss': [2.2994513511657715,\n",
       "  2.29805326461792,\n",
       "  2.2967398166656494,\n",
       "  2.295466899871826,\n",
       "  2.2941524982452393,\n",
       "  2.2927565574645996,\n",
       "  2.291297435760498,\n",
       "  2.2896618843078613,\n",
       "  2.287837266921997,\n",
       "  2.285808563232422,\n",
       "  2.2835402488708496,\n",
       "  2.281146764755249,\n",
       "  2.2783899307250977,\n",
       "  2.275508165359497,\n",
       "  2.272369146347046,\n",
       "  2.2689270973205566,\n",
       "  2.2653417587280273,\n",
       "  2.261585235595703,\n",
       "  2.2576406002044678,\n",
       "  2.253408193588257,\n",
       "  2.249051809310913,\n",
       "  2.244433879852295,\n",
       "  2.2395803928375244,\n",
       "  2.234628677368164,\n",
       "  2.2292041778564453,\n",
       "  2.223845958709717,\n",
       "  2.2182018756866455,\n",
       "  2.212277412414551,\n",
       "  2.206066131591797,\n",
       "  2.199800968170166,\n",
       "  2.1933023929595947,\n",
       "  2.186406135559082,\n",
       "  2.1795737743377686,\n",
       "  2.172370195388794,\n",
       "  2.165009021759033,\n",
       "  2.157428503036499,\n",
       "  2.149671792984009,\n",
       "  2.141608715057373,\n",
       "  2.13362979888916,\n",
       "  2.125166177749634,\n",
       "  2.1164710521698,\n",
       "  2.1079657077789307,\n",
       "  2.098963499069214,\n",
       "  2.0897886753082275,\n",
       "  2.08066987991333,\n",
       "  2.0710272789001465,\n",
       "  2.0616164207458496,\n",
       "  2.051651954650879,\n",
       "  2.041907548904419,\n",
       "  2.031724214553833,\n",
       "  2.021435499191284,\n",
       "  2.0109589099884033,\n",
       "  2.000642776489258,\n",
       "  1.9899474382400513,\n",
       "  1.978848934173584,\n",
       "  1.9681044816970825,\n",
       "  1.9570949077606201,\n",
       "  1.9459081888198853,\n",
       "  1.934650182723999,\n",
       "  1.9230761528015137,\n",
       "  1.9115740060806274,\n",
       "  1.8999603986740112,\n",
       "  1.8881176710128784,\n",
       "  1.876540184020996,\n",
       "  1.864444613456726,\n",
       "  1.8525381088256836,\n",
       "  1.840413212776184,\n",
       "  1.8281397819519043,\n",
       "  1.8162611722946167,\n",
       "  1.8037925958633423,\n",
       "  1.7914316654205322,\n",
       "  1.7789467573165894,\n",
       "  1.766722321510315,\n",
       "  1.7540687322616577,\n",
       "  1.741641879081726,\n",
       "  1.7290395498275757,\n",
       "  1.71630859375,\n",
       "  1.703942894935608,\n",
       "  1.6911367177963257,\n",
       "  1.678521752357483,\n",
       "  1.6655875444412231,\n",
       "  1.6532455682754517,\n",
       "  1.6403604745864868,\n",
       "  1.627774715423584,\n",
       "  1.6151469945907593,\n",
       "  1.602391242980957,\n",
       "  1.5898393392562866,\n",
       "  1.5772249698638916,\n",
       "  1.56443452835083,\n",
       "  1.5519319772720337,\n",
       "  1.5393909215927124,\n",
       "  1.526920199394226,\n",
       "  1.5142871141433716,\n",
       "  1.5018471479415894,\n",
       "  1.489616870880127,\n",
       "  1.477030634880066,\n",
       "  1.464837670326233,\n",
       "  1.4525309801101685,\n",
       "  1.4404100179672241,\n",
       "  1.428194522857666],\n",
       " 'val_accuracy': [0.1538333296775818,\n",
       "  0.13566666841506958,\n",
       "  0.1066666692495346,\n",
       "  0.10499999672174454,\n",
       "  0.10499999672174454,\n",
       "  0.10499999672174454,\n",
       "  0.10499999672174454,\n",
       "  0.10499999672174454,\n",
       "  0.10499999672174454,\n",
       "  0.10499999672174454,\n",
       "  0.10516666620969772,\n",
       "  0.10516666620969772,\n",
       "  0.10583333671092987,\n",
       "  0.10750000178813934,\n",
       "  0.10899999737739563,\n",
       "  0.11316666752099991,\n",
       "  0.11866666376590729,\n",
       "  0.12466666847467422,\n",
       "  0.140666663646698,\n",
       "  0.16699999570846558,\n",
       "  0.1704999953508377,\n",
       "  0.22033333778381348,\n",
       "  0.23000000417232513,\n",
       "  0.2408333271741867,\n",
       "  0.3006666600704193,\n",
       "  0.3343333303928375,\n",
       "  0.3238333463668823,\n",
       "  0.3618333339691162,\n",
       "  0.4115000069141388,\n",
       "  0.4165000021457672,\n",
       "  0.4611666798591614,\n",
       "  0.49533334374427795,\n",
       "  0.5308333039283752,\n",
       "  0.5270000100135803,\n",
       "  0.5696666836738586,\n",
       "  0.5953333377838135,\n",
       "  0.5961666703224182,\n",
       "  0.6414999961853027,\n",
       "  0.6065000295639038,\n",
       "  0.6641666889190674,\n",
       "  0.6694999933242798,\n",
       "  0.6973333358764648,\n",
       "  0.6779999732971191,\n",
       "  0.7046666741371155,\n",
       "  0.7046666741371155,\n",
       "  0.7228333353996277,\n",
       "  0.7354999780654907,\n",
       "  0.7416666746139526,\n",
       "  0.7388333082199097,\n",
       "  0.753000020980835,\n",
       "  0.7573333382606506,\n",
       "  0.7701666951179504,\n",
       "  0.765666663646698,\n",
       "  0.7683333158493042,\n",
       "  0.7821666598320007,\n",
       "  0.7786666750907898,\n",
       "  0.7885000109672546,\n",
       "  0.7833333611488342,\n",
       "  0.7931666374206543,\n",
       "  0.7946666479110718,\n",
       "  0.7933333516120911,\n",
       "  0.800166666507721,\n",
       "  0.8050000071525574,\n",
       "  0.8084999918937683,\n",
       "  0.8059999942779541,\n",
       "  0.812666654586792,\n",
       "  0.8109999895095825,\n",
       "  0.8131666779518127,\n",
       "  0.8166666626930237,\n",
       "  0.8131666779518127,\n",
       "  0.8193333148956299,\n",
       "  0.8224999904632568,\n",
       "  0.8186666369438171,\n",
       "  0.8271666765213013,\n",
       "  0.8213333487510681,\n",
       "  0.8288333415985107,\n",
       "  0.828166663646698,\n",
       "  0.827833354473114,\n",
       "  0.8309999704360962,\n",
       "  0.831333339214325,\n",
       "  0.8318333625793457,\n",
       "  0.8336666822433472,\n",
       "  0.8355000019073486,\n",
       "  0.8358333110809326,\n",
       "  0.8360000252723694,\n",
       "  0.8389999866485596,\n",
       "  0.8356666564941406,\n",
       "  0.8421666622161865,\n",
       "  0.8426666855812073,\n",
       "  0.8431666493415833,\n",
       "  0.8418333530426025,\n",
       "  0.8454999923706055,\n",
       "  0.8450000286102295,\n",
       "  0.8471666574478149,\n",
       "  0.8448333144187927,\n",
       "  0.8491666913032532,\n",
       "  0.8491666913032532,\n",
       "  0.8516666889190674,\n",
       "  0.8521666526794434,\n",
       "  0.8500000238418579]}"
      ]
     },
     "execution_count": 40,
     "metadata": {},
     "output_type": "execute_result"
    }
   ],
   "source": [
    "history_noPCA.history"
   ]
  },
  {
   "cell_type": "code",
   "execution_count": 41,
   "metadata": {
    "scrolled": true
   },
   "outputs": [
    {
     "data": {
      "image/png": "[encoded data removed]",
      "text/plain": [
       "<Figure size 432x288 with 1 Axes>"
      ]
     },
     "metadata": {
      "needs_background": "light"
     },
     "output_type": "display_data"
    }
   ],
   "source": [
    "hist = history_noPCA.history\n",
    "train_accuracy = hist['accuracy']\n",
    "val_accuracy = hist['val_accuracy']\n",
    "epochs = range(1, len(val_accuracy)+1)\n",
    "plt.plot(epochs, train_accuracy, 'bo', label='train accuracy')\n",
    "plt.plot(epochs, val_accuracy, 'b', label='validation accuracy')\n",
    "plt.title('Training and validation accuracy')\n",
    "plt.xlabel('Epochs')\n",
    "plt.ylabel('Accuracy')\n",
    "plt.legend(loc='best')\n",
    "plt.show()"
   ]
  },
  {
   "cell_type": "code",
   "execution_count": 42,
   "metadata": {
    "scrolled": true
   },
   "outputs": [
    {
     "name": "stdout",
     "output_type": "stream",
     "text": [
      "313/313 [==============================] - 0s 751us/step - loss: 1.4361 - accuracy: 0.8294\n",
      "test loss, test acc: [1.4361156225204468, 0.8294000029563904]\n",
      "313/313 [==============================] - 0s 770us/step - loss: 2.9778 - accuracy: 0.0974\n",
      "Accuracy: 9.74\n"
     ]
    }
   ],
   "source": [
    "#evaluation of model\n",
    "results_noPCA = model_noPCA.evaluate(X_test_noPCA, y_test)\n",
    "print(\"test loss, test acc:\", results_noPCA)\n",
    "\n",
    "_, accuracy_noPCA = model2.evaluate(X_test_noPCA, y_test)\n",
    "print('Accuracy: %.2f' % (accuracy_noPCA*100))"
   ]
  },
  {
   "cell_type": "code",
   "execution_count": null,
   "metadata": {
    "scrolled": true
   },
   "outputs": [],
   "source": [
    "print(\"Hello world\")"
   ]
  },
  {
   "cell_type": "code",
   "execution_count": null,
   "metadata": {},
   "outputs": [],
   "source": []
  }
 ],
 "metadata": {
  "colab": {
   "provenance": []
  },
  "kernelspec": {
   "display_name": "Python 3 (ipykernel)",
   "language": "python",
   "name": "python3"
  },
  "language_info": {
   "codemirror_mode": {
    "name": "ipython",
    "version": 3
   },
   "file_extension": ".py",
   "mimetype": "text/x-python",
   "name": "python",
   "nbconvert_exporter": "python",
   "pygments_lexer": "ipython3",
   "version": "3.9.12"
  }
 },
 "nbformat": 4,
 "nbformat_minor": 1
}
