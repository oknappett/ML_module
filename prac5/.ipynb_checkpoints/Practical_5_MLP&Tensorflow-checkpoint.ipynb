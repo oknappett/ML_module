{
 "cells": [
  {
   "cell_type": "markdown",
   "metadata": {
    "id": "pC_My_TCs0Lz"
   },
   "source": [
    "# A first look at artificial neural networks\n",
    "\n",
    "## Artificial Neural Networks\n",
    "\n",
    "Artificial Neural Networks (ANNs) are computational processing systems that are heavily inspired by the way biological nervous systems function. The basic structure of an ANN can be visually conceptualised like:\n",
    "\n",
    "<a title=\"Glosser.ca, CC BY-SA 3.0 &lt;https://creativecommons.org/licenses/by-sa/3.0&gt;, via Wikimedia Commons\" href=\"https://commons.wikimedia.org/wiki/File:Colored_neural_network.svg\"><img width=\"256\" alt=\"Colored neural network\" src=\"https://upload.wikimedia.org/wikipedia/commons/thumb/4/46/Colored_neural_network.svg/256px-Colored_neural_network.svg.png\"></a>\n",
    "\n",
    "**Figure 1:** A simple three layered fully connected feedforward neural network (FNN), aka Multi-layer perceptrons (MLPs),comprisedof a input layer, a hidden layer and an output layer.\n",
    "\n"
   ]
  },
  {
   "cell_type": "markdown",
   "metadata": {
    "id": "sjhFVOzTs0L9"
   },
   "source": [
    "## Neural network modelling frameworks\n",
    "\n",
    "#### Tensorflow and Keras \n",
    "Keras (https://keras.io) is a highlevel and easy-to-use API built on top of Tensorflow (https://www.tensorflow.org) for developing and evaluating deep learning models. It was developed with a focus on enabling fast experimentation. \n",
    "\n",
    "In this worksheet, you will learn how to create a neural network using Tensorflow Keras API. \n",
    "\n",
    "Neural network models are trained by gradient descent. As we perform computations, Tensorflow memorises the computation graph that we build up. When it comes to compute the gradient, tensorflow can trace back over the computation graph (using the backpropagation algorithm) and work out all the required gradients (handled in TensorFlow via the [GradientTape](https://www.tensorflow.org/api_docs/python/tf/GradientTape) object). \n",
    "\n",
    "When we build models with Keras, we don't usually have to worry about low level computation. High-level deep learning concepts translate to Keras APIs:\n",
    "\n",
    "- **Layers**, which are combined into a model A loss function, which defines the feedback signal used for learning\n",
    "- An **optimizer**, which determines how learning proceeds Metrics to evaluate model performance, such as accuracy\n",
    "- A training loop that performs **mini-batch** stochastic gradient descent\n",
    "\n",
    "Colab has got Tensorflow installed already. It is recommended to run this notebooke using Colab (https://colab.research.google.com/), or on your own computer after proper libraries including Tensorflow has been installed. In case you use Anaconda or miniconda and haven't got installed Tensorflow yet, you can do it following the instruction here:\n",
    "https://docs.anaconda.com/anaconda/user-guide/tasks/tensorflow/\n",
    "\n",
    "If you are not sure if you have got a suitable GPU, you can start with installing Tensorflow for CPU only.\n",
    "\n",
    "If you have trouble installing Tensorflow in your computer, or your computer does not have sufficient computational power, it would be easier to switch to Colab, or Kaggle kernel, or use some virtual machine in the cloud, where better computational resources (for RAM, CPU, GPU) are available. "
   ]
  },
  {
   "cell_type": "code",
   "execution_count": 2,
   "metadata": {},
   "outputs": [
    {
     "name": "stdout",
     "output_type": "stream",
     "text": [
      "Collecting tensorflow\n",
      "  Downloading tensorflow-2.11.0-cp39-cp39-manylinux_2_17_x86_64.manylinux2014_x86_64.whl (588.3 MB)\n",
      "\u001b[K     |████████████████████████████████| 588.3 MB 17 kB/s s eta 0:00:01\n",
      "\u001b[?25hCollecting opt-einsum>=2.3.2\n",
      "  Downloading opt_einsum-3.3.0-py3-none-any.whl (65 kB)\n",
      "\u001b[K     |████████████████████████████████| 65 kB 2.2 MB/s  eta 0:00:01\n",
      "\u001b[?25hCollecting tensorflow-estimator<2.12,>=2.11.0\n",
      "  Downloading tensorflow_estimator-2.11.0-py2.py3-none-any.whl (439 kB)\n",
      "\u001b[K     |████████████████████████████████| 439 kB 6.8 MB/s eta 0:00:01\n",
      "\u001b[?25hCollecting keras<2.12,>=2.11.0\n",
      "  Downloading keras-2.11.0-py2.py3-none-any.whl (1.7 MB)\n",
      "\u001b[K     |████████████████████████████████| 1.7 MB 11.0 MB/s eta 0:00:01\n",
      "\u001b[?25hCollecting termcolor>=1.1.0\n",
      "  Downloading termcolor-2.2.0-py3-none-any.whl (6.6 kB)\n",
      "Collecting libclang>=13.0.0\n",
      "  Downloading libclang-15.0.6.1-py2.py3-none-manylinux2010_x86_64.whl (21.5 MB)\n",
      "\u001b[K     |████████████████████████████████| 21.5 MB 3.6 MB/s eta 0:00:011\n",
      "\u001b[?25hCollecting tensorboard<2.12,>=2.11\n",
      "  Downloading tensorboard-2.11.2-py3-none-any.whl (6.0 MB)\n",
      "\u001b[K     |████████████████████████████████| 6.0 MB 8.8 MB/s eta 0:00:01\n",
      "\u001b[?25hCollecting astunparse>=1.6.0\n",
      "  Downloading astunparse-1.6.3-py2.py3-none-any.whl (12 kB)\n",
      "Requirement already satisfied: grpcio<2.0,>=1.24.3 in /home/ollie/anaconda3/lib/python3.9/site-packages (from tensorflow) (1.42.0)\n",
      "Collecting flatbuffers>=2.0\n",
      "  Downloading flatbuffers-23.1.21-py2.py3-none-any.whl (26 kB)\n",
      "Requirement already satisfied: packaging in /home/ollie/anaconda3/lib/python3.9/site-packages (from tensorflow) (21.3)\n",
      "Requirement already satisfied: numpy>=1.20 in /home/ollie/anaconda3/lib/python3.9/site-packages (from tensorflow) (1.22.4)\n",
      "Collecting gast<=0.4.0,>=0.2.1\n",
      "  Downloading gast-0.4.0-py3-none-any.whl (9.8 kB)\n",
      "Requirement already satisfied: typing-extensions>=3.6.6 in /home/ollie/anaconda3/lib/python3.9/site-packages (from tensorflow) (4.1.1)\n",
      "Collecting google-pasta>=0.1.1\n",
      "  Downloading google_pasta-0.2.0-py3-none-any.whl (57 kB)\n",
      "\u001b[K     |████████████████████████████████| 57 kB 119 kB/s  eta 0:00:01\n",
      "\u001b[?25hRequirement already satisfied: wrapt>=1.11.0 in /home/ollie/anaconda3/lib/python3.9/site-packages (from tensorflow) (1.12.1)\n",
      "Requirement already satisfied: h5py>=2.9.0 in /home/ollie/anaconda3/lib/python3.9/site-packages (from tensorflow) (3.6.0)\n",
      "Requirement already satisfied: six>=1.12.0 in /home/ollie/anaconda3/lib/python3.9/site-packages (from tensorflow) (1.16.0)\n",
      "Collecting tensorflow-io-gcs-filesystem>=0.23.1\n",
      "  Downloading tensorflow_io_gcs_filesystem-0.31.0-cp39-cp39-manylinux_2_12_x86_64.manylinux2010_x86_64.whl (2.4 MB)\n",
      "\u001b[K     |████████████████████████████████| 2.4 MB 98 kB/s eta 0:00:0101\n",
      "\u001b[?25hRequirement already satisfied: setuptools in /home/ollie/anaconda3/lib/python3.9/site-packages (from tensorflow) (61.2.0)\n",
      "Requirement already satisfied: protobuf<3.20,>=3.9.2 in /home/ollie/anaconda3/lib/python3.9/site-packages (from tensorflow) (3.19.1)\n",
      "Collecting absl-py>=1.0.0\n",
      "  Downloading absl_py-1.4.0-py3-none-any.whl (126 kB)\n",
      "\u001b[K     |████████████████████████████████| 126 kB 1.7 MB/s eta 0:00:01\n",
      "\u001b[?25hRequirement already satisfied: wheel<1.0,>=0.23.0 in /home/ollie/anaconda3/lib/python3.9/site-packages (from astunparse>=1.6.0->tensorflow) (0.37.1)\n",
      "Requirement already satisfied: markdown>=2.6.8 in /home/ollie/anaconda3/lib/python3.9/site-packages (from tensorboard<2.12,>=2.11->tensorflow) (3.3.4)\n",
      "Collecting google-auth-oauthlib<0.5,>=0.4.1\n",
      "  Using cached google_auth_oauthlib-0.4.6-py2.py3-none-any.whl (18 kB)\n",
      "Collecting tensorboard-data-server<0.7.0,>=0.6.0\n",
      "  Using cached tensorboard_data_server-0.6.1-py3-none-manylinux2010_x86_64.whl (4.9 MB)\n",
      "Collecting tensorboard-plugin-wit>=1.6.0\n",
      "  Using cached tensorboard_plugin_wit-1.8.1-py3-none-any.whl (781 kB)\n",
      "Requirement already satisfied: werkzeug>=1.0.1 in /home/ollie/anaconda3/lib/python3.9/site-packages (from tensorboard<2.12,>=2.11->tensorflow) (2.0.3)\n",
      "Requirement already satisfied: requests<3,>=2.21.0 in /home/ollie/anaconda3/lib/python3.9/site-packages (from tensorboard<2.12,>=2.11->tensorflow) (2.27.1)\n",
      "Requirement already satisfied: google-auth<3,>=1.6.3 in /home/ollie/anaconda3/lib/python3.9/site-packages (from tensorboard<2.12,>=2.11->tensorflow) (1.33.0)\n",
      "Requirement already satisfied: pyasn1-modules>=0.2.1 in /home/ollie/anaconda3/lib/python3.9/site-packages (from google-auth<3,>=1.6.3->tensorboard<2.12,>=2.11->tensorflow) (0.2.8)\n",
      "Requirement already satisfied: rsa<5,>=3.1.4 in /home/ollie/anaconda3/lib/python3.9/site-packages (from google-auth<3,>=1.6.3->tensorboard<2.12,>=2.11->tensorflow) (4.7.2)\n",
      "Requirement already satisfied: cachetools<5.0,>=2.0.0 in /home/ollie/anaconda3/lib/python3.9/site-packages (from google-auth<3,>=1.6.3->tensorboard<2.12,>=2.11->tensorflow) (4.2.2)\n",
      "Collecting requests-oauthlib>=0.7.0\n",
      "  Using cached requests_oauthlib-1.3.1-py2.py3-none-any.whl (23 kB)\n",
      "Requirement already satisfied: pyasn1<0.5.0,>=0.4.6 in /home/ollie/anaconda3/lib/python3.9/site-packages (from pyasn1-modules>=0.2.1->google-auth<3,>=1.6.3->tensorboard<2.12,>=2.11->tensorflow) (0.4.8)\n",
      "Requirement already satisfied: urllib3<1.27,>=1.21.1 in /home/ollie/anaconda3/lib/python3.9/site-packages (from requests<3,>=2.21.0->tensorboard<2.12,>=2.11->tensorflow) (1.26.9)\n",
      "Requirement already satisfied: charset-normalizer~=2.0.0 in /home/ollie/anaconda3/lib/python3.9/site-packages (from requests<3,>=2.21.0->tensorboard<2.12,>=2.11->tensorflow) (2.0.4)\n",
      "Requirement already satisfied: idna<4,>=2.5 in /home/ollie/anaconda3/lib/python3.9/site-packages (from requests<3,>=2.21.0->tensorboard<2.12,>=2.11->tensorflow) (3.3)\n",
      "Requirement already satisfied: certifi>=2017.4.17 in /home/ollie/anaconda3/lib/python3.9/site-packages (from requests<3,>=2.21.0->tensorboard<2.12,>=2.11->tensorflow) (2021.10.8)\n",
      "Collecting oauthlib>=3.0.0\n",
      "  Downloading oauthlib-3.2.2-py3-none-any.whl (151 kB)\n",
      "\u001b[K     |████████████████████████████████| 151 kB 3.1 MB/s eta 0:00:01\n",
      "\u001b[?25hRequirement already satisfied: pyparsing!=3.0.5,>=2.0.2 in /home/ollie/anaconda3/lib/python3.9/site-packages (from packaging->tensorflow) (3.0.4)\n",
      "Installing collected packages: oauthlib, requests-oauthlib, tensorboard-plugin-wit, tensorboard-data-server, google-auth-oauthlib, absl-py, termcolor, tensorflow-io-gcs-filesystem, tensorflow-estimator, tensorboard, opt-einsum, libclang, keras, google-pasta, gast, flatbuffers, astunparse, tensorflow\n",
      "Successfully installed absl-py-1.4.0 astunparse-1.6.3 flatbuffers-23.1.21 gast-0.4.0 google-auth-oauthlib-0.4.6 google-pasta-0.2.0 keras-2.11.0 libclang-15.0.6.1 oauthlib-3.2.2 opt-einsum-3.3.0 requests-oauthlib-1.3.1 tensorboard-2.11.2 tensorboard-data-server-0.6.1 tensorboard-plugin-wit-1.8.1 tensorflow-2.11.0 tensorflow-estimator-2.11.0 tensorflow-io-gcs-filesystem-0.31.0 termcolor-2.2.0\n"
     ]
    }
   ],
   "source": [
    "!pip install tensorflow"
   ]
  },
  {
   "cell_type": "code",
   "execution_count": 3,
   "metadata": {
    "id": "J4B06ZDAs0L9"
   },
   "outputs": [
    {
     "name": "stderr",
     "output_type": "stream",
     "text": [
      "2023-03-03 13:50:23.048643: I tensorflow/core/platform/cpu_feature_guard.cc:193] This TensorFlow binary is optimized with oneAPI Deep Neural Network Library (oneDNN) to use the following CPU instructions in performance-critical operations:  AVX2 FMA\n",
      "To enable them in other operations, rebuild TensorFlow with the appropriate compiler flags.\n",
      "2023-03-03 13:50:24.118140: W tensorflow/compiler/xla/stream_executor/platform/default/dso_loader.cc:64] Could not load dynamic library 'libnvinfer.so.7'; dlerror: libnvinfer.so.7: cannot open shared object file: No such file or directory\n",
      "2023-03-03 13:50:24.118198: W tensorflow/compiler/xla/stream_executor/platform/default/dso_loader.cc:64] Could not load dynamic library 'libnvinfer_plugin.so.7'; dlerror: libnvinfer_plugin.so.7: cannot open shared object file: No such file or directory\n",
      "2023-03-03 13:50:24.118205: W tensorflow/compiler/tf2tensorrt/utils/py_utils.cc:38] TF-TRT Warning: Cannot dlopen some TensorRT libraries. If you would like to use Nvidia GPU with TensorRT, please make sure the missing libraries mentioned above are installed properly.\n"
     ]
    },
    {
     "name": "stdout",
     "output_type": "stream",
     "text": [
      "2.11.0\n"
     ]
    }
   ],
   "source": [
    "# Import tensorflow, check version\n",
    "import tensorflow as tf\n",
    "from tensorflow import keras\n",
    "print(tf.__version__)"
   ]
  },
  {
   "cell_type": "markdown",
   "metadata": {
    "id": "t27Ccl11IyIU"
   },
   "source": [
    "### Tensor\n",
    "In general, all current machine-learning systems use tensors as their basic data structure — usually for numerical data. \n",
    "\n",
    "Tensors are a generalization of matrices to an arbitrary number of dimensions (note that a dimension is often called an axis in a tensor). NumPy arrays can be called tensors.\n",
    "\n",
    "* Scalar (rank-0 tensor).\n",
    "* Vectors (rank-1 tensor).\n",
    "* Matrices: rank-2 tensors.\n",
    "* Rank-3 tensors and higher-rank tensors (e.g. array x below are Rank-3 tensors)"
   ]
  },
  {
   "cell_type": "code",
   "execution_count": 4,
   "metadata": {
    "id": "uMuSjBg2LO7m"
   },
   "outputs": [
    {
     "name": "stdout",
     "output_type": "stream",
     "text": [
      "3\n",
      "(3, 3, 5)\n"
     ]
    }
   ],
   "source": [
    "import numpy as np\n",
    "x = np.array([[[5, 78, 2, 34, 0],\n",
    "                   [6, 79, 3, 35, 1],\n",
    "                   [7, 80, 4, 36, 2]],\n",
    "                  [[5, 78, 2, 34, 0],\n",
    "                   [6, 79, 3, 35, 1],\n",
    "                   [7, 80, 4, 36, 2]],\n",
    "                  [[5, 78, 2, 34, 0],\n",
    "                   [6, 79, 3, 35, 1],\n",
    "                   [7, 80, 4, 36, 2]]])\n",
    "print(x.ndim)\n",
    "print(x.shape)"
   ]
  },
  {
   "cell_type": "code",
   "execution_count": 5,
   "metadata": {
    "id": "6n9R6Hhnho6r"
   },
   "outputs": [
    {
     "name": "stdout",
     "output_type": "stream",
     "text": [
      "tf.Tensor(\n",
      "[[1.]\n",
      " [1.]], shape=(2, 1), dtype=float32)\n",
      "tf.Tensor(\n",
      "[[0.]\n",
      " [0.]], shape=(2, 1), dtype=float32)\n",
      "tf.Tensor(\n",
      "[[1.2942641]\n",
      " [1.3127427]\n",
      " [1.1540366]], shape=(3, 1), dtype=float32)\n",
      "tf.Tensor(\n",
      "[[-0.36988544]\n",
      " [ 0.17600107]\n",
      " [-0.4522121 ]], shape=(3, 1), dtype=float32)\n",
      "0\n"
     ]
    },
    {
     "name": "stderr",
     "output_type": "stream",
     "text": [
      "2023-03-03 13:51:19.174359: E tensorflow/compiler/xla/stream_executor/cuda/cuda_driver.cc:267] failed call to cuInit: CUDA_ERROR_NO_DEVICE: no CUDA-capable device is detected\n",
      "2023-03-03 13:51:19.174402: I tensorflow/compiler/xla/stream_executor/cuda/cuda_diagnostics.cc:156] kernel driver does not appear to be running on this host (OllieLinux): /proc/driver/nvidia/version does not exist\n",
      "2023-03-03 13:51:19.175862: I tensorflow/core/platform/cpu_feature_guard.cc:193] This TensorFlow binary is optimized with oneAPI Deep Neural Network Library (oneDNN) to use the following CPU instructions in performance-critical operations:  AVX2 FMA\n",
      "To enable them in other operations, rebuild TensorFlow with the appropriate compiler flags.\n"
     ]
    }
   ],
   "source": [
    "# Constant tensors (Not assignable!!)\n",
    "# All ones/zero tensors\n",
    "x = tf.ones(shape=(2, 1))\n",
    "print(x)\n",
    "x = tf.zeros(shape=(2, 1))\n",
    "print(x)\n",
    "\n",
    "# Random tensors\n",
    "x = tf.random.normal(shape=(3, 1), mean=0., stddev=1.) \n",
    "print(x)\n",
    "\n",
    "x = tf.random.uniform(shape=(3, 1), minval=-1., maxval=1.) \n",
    "print(x)\n",
    "\n",
    "x = 0 # Scalar\n",
    "print(x)"
   ]
  },
  {
   "cell_type": "code",
   "execution_count": 6,
   "metadata": {
    "id": "mMmqo54dhsDV"
   },
   "outputs": [
    {
     "ename": "TypeError",
     "evalue": "'tensorflow.python.framework.ops.EagerTensor' object does not support item assignment",
     "output_type": "error",
     "traceback": [
      "\u001b[0;31m---------------------------------------------------------------------------\u001b[0m",
      "\u001b[0;31mTypeError\u001b[0m                                 Traceback (most recent call last)",
      "Input \u001b[0;32mIn [6]\u001b[0m, in \u001b[0;36m<cell line: 8>\u001b[0;34m()\u001b[0m\n\u001b[1;32m      5\u001b[0m x[\u001b[38;5;241m0\u001b[39m, \u001b[38;5;241m0\u001b[39m] \u001b[38;5;241m=\u001b[39m \u001b[38;5;241m0.\u001b[39m\n\u001b[1;32m      7\u001b[0m x \u001b[38;5;241m=\u001b[39m tf\u001b[38;5;241m.\u001b[39mones(shape\u001b[38;5;241m=\u001b[39m(\u001b[38;5;241m2\u001b[39m,\u001b[38;5;241m2\u001b[39m))\n\u001b[0;32m----> 8\u001b[0m x[\u001b[38;5;241m0\u001b[39m, \u001b[38;5;241m0\u001b[39m] \u001b[38;5;241m=\u001b[39m \u001b[38;5;241m0.\u001b[39m\n",
      "\u001b[0;31mTypeError\u001b[0m: 'tensorflow.python.framework.ops.EagerTensor' object does not support item assignment"
     ]
    }
   ],
   "source": [
    "# Unlike numpy array, tensor constant is not assignable.\n",
    "# see e.g. error raised when trying to assign a value to tensor constant\n",
    "import numpy as np\n",
    "x = np.ones(shape=(2, 2))\n",
    "x[0, 0] = 0.\n",
    "\n",
    "x = tf.ones(shape=(2,2))\n",
    "x[0, 0] = 0."
   ]
  },
  {
   "cell_type": "code",
   "execution_count": 14,
   "metadata": {
    "id": "vkaaoC0Ohswi"
   },
   "outputs": [
    {
     "name": "stdout",
     "output_type": "stream",
     "text": [
      "<tf.Variable 'Variable:0' shape=(3, 1) dtype=float32, numpy=\n",
      "array([[-1.2564224],\n",
      "       [ 0.6809621],\n",
      "       [ 1.2268603]], dtype=float32)>\n",
      "<tf.Variable 'Variable:0' shape=(3, 1) dtype=float32, numpy=\n",
      "array([[1.],\n",
      "       [1.],\n",
      "       [1.]], dtype=float32)>\n",
      "<tf.Variable 'Variable:0' shape=(3, 1) dtype=float32, numpy=\n",
      "array([[0.],\n",
      "       [1.],\n",
      "       [1.]], dtype=float32)>\n"
     ]
    }
   ],
   "source": [
    "# To modify tensors, tensor Variabble is used in tensorflow\n",
    "v = tf.Variable(initial_value=tf.random.normal(shape=(3, 1)))\n",
    "print(v)\n",
    "\n",
    "# Assign values to a tensor variable\n",
    "v.assign(tf.ones((3, 1)))\n",
    "print(v)\n",
    "\n",
    "# Modify element with index [0,0] in tensor variable v to 0\n",
    "# Your code here\n",
    "v[0,0].assign(0)\n",
    "print(v)"
   ]
  },
  {
   "cell_type": "markdown",
   "metadata": {
    "id": "90Jl1oeVs0L-"
   },
   "source": [
    "## MNIST"
   ]
  },
  {
   "cell_type": "markdown",
   "metadata": {
    "id": "kDewRWb3s0L-"
   },
   "source": [
    " The MNIST database of handwritten digits, available from this page, has a training set of 60,000 examples, and a test set of 10,000 examples. It is a subset of a larger set available from NIST. The digits have been size-normalized and centered in a fixed-size image. The MNIST data-set is about 12 MB and will be downloaded automatically if it is not located in the given path."
   ]
  },
  {
   "cell_type": "code",
   "execution_count": 15,
   "metadata": {
    "id": "Wd9z5PCXs0L_"
   },
   "outputs": [
    {
     "name": "stdout",
     "output_type": "stream",
     "text": [
      "Downloading data from https://storage.googleapis.com/tensorflow/tf-keras-datasets/mnist.npz\n",
      "11490434/11490434 [==============================] - 1s 0us/step\n",
      "Size of:\n",
      "- Training-set:\t\t(60000, 28, 28)\n",
      "- Test-set:\t\t(10000, 28, 28)\n"
     ]
    }
   ],
   "source": [
    "from tensorflow.keras.datasets import mnist\n",
    "\n",
    "(image_train, label_train), (image_test, label_test) = mnist.load_data()\n",
    "\n",
    "print(\"Size of:\")\n",
    "print(\"- Training-set:\\t\\t{}\".format(image_train.shape))\n",
    "print(\"- Test-set:\\t\\t{}\".format(image_test.shape))"
   ]
  },
  {
   "cell_type": "code",
   "execution_count": 19,
   "metadata": {
    "id": "DX9dkWEhzuGG"
   },
   "outputs": [
    {
     "name": "stdout",
     "output_type": "stream",
     "text": [
      "Label_train: [5 0 4 ... 5 6 8]\n",
      "shape: (60000,)\n"
     ]
    }
   ],
   "source": [
    "# Your code: \n",
    "# print label_train, print its shape\n",
    "print(\"Label_train: %s\\nshape: %s\"%(label_train, label_train.shape))"
   ]
  },
  {
   "cell_type": "markdown",
   "metadata": {
    "id": "OmjT6wLWs0L_"
   },
   "source": [
    "The data-set is split into 3 mutually exclusive sub-sets. We will only use the training and test-sets in this tutorial.\n",
    "\n",
    "Define a simple function to have a look at the images."
   ]
  },
  {
   "cell_type": "markdown",
   "metadata": {
    "id": "3v9QakdAs0MA"
   },
   "source": [
    "## Getting to know our data"
   ]
  },
  {
   "cell_type": "markdown",
   "metadata": {
    "id": "4J3w9Otps0MA"
   },
   "source": [
    "The following method is plots 9 images from the dataset in a 3x3 grid."
   ]
  },
  {
   "cell_type": "code",
   "execution_count": 39,
   "metadata": {
    "id": "cayq2d-hs0MA"
   },
   "outputs": [],
   "source": [
    "import matplotlib.pyplot as plt\n",
    "\n",
    "def plot_images(images, cls_true, cls_pred=None):\n",
    "    assert len(images) == len(cls_true) == 9\n",
    "    \n",
    "    # Create figure with 3x3 sub-plots.\n",
    "    fig, axes = plt.subplots(3, 3)\n",
    "    fig.subplots_adjust(hspace=0.3, wspace=0.3)\n",
    "\n",
    "    for i, ax in enumerate(axes.flat):\n",
    "        # Plot image.\n",
    "        #ax.imshow(images[i].reshape(img_shape), cmap='binary')\n",
    "        ax.imshow(images[i], cmap='binary')\n",
    "\n",
    "        # Show true and predicted classes.\n",
    "        if cls_pred is None:\n",
    "            xlabel = \"True: {0}\".format(cls_true[i])\n",
    "        else:\n",
    "            xlabel = \"True: {0}, Pred: {1}\".format(cls_true[i], cls_pred[i])\n",
    "\n",
    "        ax.set_xlabel(xlabel)\n",
    "        \n",
    "        # Remove ticks from the plot.\n",
    "        ax.set_xticks([])\n",
    "        ax.set_yticks([])\n",
    "        \n",
    "    # Ensure the plot is shown correctly with multiple plots\n",
    "    # in a single Notebook cell.\n",
    "    plt.show()"
   ]
  },
  {
   "cell_type": "markdown",
   "metadata": {
    "id": "LXNBketEs0MB"
   },
   "source": [
    "Plot a few images to see if data is correct"
   ]
  },
  {
   "cell_type": "code",
   "execution_count": 42,
   "metadata": {},
   "outputs": [
    {
     "data": {
      "image/png": "[encoded data removed]",
      "text/plain": [
       "<Figure size 432x288 with 9 Axes>"
      ]
     },
     "metadata": {},
     "output_type": "display_data"
    }
   ],
   "source": [
    "plot_images(image_train[0:9], label_train[0:9])"
   ]
  },
  {
   "cell_type": "code",
   "execution_count": 43,
   "metadata": {
    "id": "VeRYW7las0MC"
   },
   "outputs": [
    {
     "data": {
      "image/png": "[encoded data removed]",
      "text/plain": [
       "<Figure size 432x288 with 9 Axes>"
      ]
     },
     "metadata": {},
     "output_type": "display_data"
    }
   ],
   "source": [
    "# We know that MNIST images are 28 pixels in each dimension.\n",
    "img_size = 28\n",
    "\n",
    "# Images are stored in one-dimensional arrays of this length. (might want to use this later for input_size...)\n",
    "img_size_flat = img_size * img_size\n",
    "\n",
    "# Tuple with height and width of images used to reshape arrays.\n",
    "img_shape = (img_size, img_size)\n",
    "\n",
    "# Number of classes, one class for each of 10 digits.\n",
    "num_classes = 10\n",
    "\n",
    "# Get the first images from the test-set.\n",
    "images = image_train[0:9]\n",
    "\n",
    "# Get the true classes for those images.\n",
    "cls_true = label_train[0:9]\n",
    "\n",
    "# Plot the images and labels using our helper-function above.\n",
    "plot_images(images=images, cls_true=cls_true)"
   ]
  },
  {
   "cell_type": "markdown",
   "metadata": {
    "id": "yN4Zjheps0MC"
   },
   "source": [
    "For this first network, we'll flatten everything into a 784-dimensional feature vector."
   ]
  },
  {
   "cell_type": "code",
   "execution_count": 44,
   "metadata": {
    "id": "OHohqH6GbAnS"
   },
   "outputs": [
    {
     "name": "stdout",
     "output_type": "stream",
     "text": [
      "(14, 14)\n"
     ]
    },
    {
     "data": {
      "text/plain": [
       "array([[254, 254, 254, 254, 171,   0,   0,   0,   0,   0,   0,   0,   0,\n",
       "          0],\n",
       "       [ 89,  93, 240, 254, 171,   0,   0,   0,   0,   0,   0,   0,   0,\n",
       "          0],\n",
       "       [  0,   1, 128, 254, 219,  31,   0,   0,   0,   0,   0,   0,   0,\n",
       "          0],\n",
       "       [  0,   7, 254, 254, 214,  28,   0,   0,   0,   0,   0,   0,   0,\n",
       "          0],\n",
       "       [  0, 138, 254, 254, 116,   0,   0,   0,   0,   0,   0,   0,   0,\n",
       "          0],\n",
       "       [ 25, 240, 254, 254,  34,   0,   0,   0,   0,   0,   0,   0,   0,\n",
       "          0],\n",
       "       [206, 254, 254, 139,   8,   0,   0,   0,   0,   0,   0,   0,   0,\n",
       "          0],\n",
       "       [254, 253, 213,  11,   0,   0,   0,   0,   0,   0,   0,   0,   0,\n",
       "          0],\n",
       "       [254, 236,   0,   0,   0,   0,   0,   0,   0,   0,   0,   0,   0,\n",
       "          0],\n",
       "       [239,  50,   0,   0,   0,   0,   0,   0,   0,   0,   0,   0,   0,\n",
       "          0],\n",
       "       [  0,   0,   0,   0,   0,   0,   0,   0,   0,   0,   0,   0,   0,\n",
       "          0],\n",
       "       [  0,   0,   0,   0,   0,   0,   0,   0,   0,   0,   0,   0,   0,\n",
       "          0],\n",
       "       [  0,   0,   0,   0,   0,   0,   0,   0,   0,   0,   0,   0,   0,\n",
       "          0],\n",
       "       [  0,   0,   0,   0,   0,   0,   0,   0,   0,   0,   0,   0,   0,\n",
       "          0]], dtype=uint8)"
      ]
     },
     "execution_count": 44,
     "metadata": {},
     "output_type": "execute_result"
    }
   ],
   "source": [
    "# In general, you may select between any two indices along each tensor axis. \n",
    "# For instance, in order to select 14 × 14 pixels in the bottom-right corner for image with index 10, you do this:\n",
    "my_slice = image_train[10, 14:, 14:]\n",
    "print(my_slice.shape)\n",
    "my_slice"
   ]
  },
  {
   "cell_type": "markdown",
   "metadata": {
    "id": "PhGG9IsneAcM"
   },
   "source": [
    "The images we get were stored in an array of shape (60000, 28, 28) of type uint8 with values in the [0, 255] interval. We transform it into a float32 array of shape (60000, 28 * 28) with values between 0 and 1."
   ]
  },
  {
   "cell_type": "code",
   "execution_count": 45,
   "metadata": {
    "id": "wSQnMZ7Js0MD"
   },
   "outputs": [
    {
     "name": "stdout",
     "output_type": "stream",
     "text": [
      "Size of:\n",
      "- Training-set:\t\t(60000, 784)\n",
      "- Test-set:\t\t(10000, 784)\n"
     ]
    }
   ],
   "source": [
    "# Prepare data, flatten the input and rescale\n",
    "X_train = image_train.reshape((60000, 28*28)) # or #X_train = image_train.reshape(X_train.shape[0], -1)\n",
    "X_train = X_train.astype('float32')/255 \n",
    "X_test = image_test.reshape((10000, 28*28)) # or #X_test = image_test.reshape(X_test.shape[0], -1)\n",
    "X_test = X_test.astype('float32')/255\n",
    "\n",
    "print(\"Size of:\")\n",
    "print(\"- Training-set:\\t\\t{}\".format(X_train.shape))\n",
    "print(\"- Test-set:\\t\\t{}\".format(X_test.shape))"
   ]
  },
  {
   "cell_type": "markdown",
   "metadata": {
    "id": "XaNQwQt9s0MD"
   },
   "source": [
    "#### To build a fully connected feedforward network (aka Multilayer Perceptron (MLP))\n",
    "The first model we'll use is a simple fully connected feedforward network. This is called a Dense layer in Keras. -\n",
    "#### Dimensionality reduction with PCA\n",
    "Since fully connected layers are a bit heavy on image data (and you're probably running this on your laptop), we'll reduce the dimensionality of the data by [PCA (principal component analysis)](https://scikit-learn.org/stable/modules/generated/sklearn.decomposition.PCA.html). PCA decompose a multivariate dataset in a set of successive orthogonal components that explain a maximum amount of the variance. We will discuss topic on dimensionalilty reduction in a few weeks. "
   ]
  },
  {
   "cell_type": "code",
   "execution_count": 46,
   "metadata": {
    "id": "dyyCAPaUs0MD"
   },
   "outputs": [
    {
     "name": "stdout",
     "output_type": "stream",
     "text": [
      "(60000, 60)\n",
      "(10000, 60)\n"
     ]
    }
   ],
   "source": [
    "from sklearn.decomposition import PCA\n",
    "\n",
    "pca = PCA(n_components=60) # reduce to 60 dimensions\n",
    "pca.fit(X_train)\n",
    "\n",
    "X_train = pca.transform(X_train)\n",
    "X_test = pca.transform(X_test)\n",
    "\n",
    "print(X_train.shape) \n",
    "print(X_test.shape) # NB: none of this is Keras yet. We're just using sklearn on some numpy arrays"
   ]
  },
  {
   "cell_type": "markdown",
   "metadata": {
    "id": "qTAMootds0ME"
   },
   "source": [
    "The training labels are encoded as integers. We need these as one-hot vectors instead, so we can match them to the ten outputs of the neural network."
   ]
  },
  {
   "cell_type": "code",
   "execution_count": 47,
   "metadata": {
    "id": "Q_nB-FCns0ME"
   },
   "outputs": [
    {
     "name": "stdout",
     "output_type": "stream",
     "text": [
      "(60000,) (10000,)\n",
      "(60000, 10) (10000, 10)\n"
     ]
    }
   ],
   "source": [
    "from keras.utils import to_categorical\n",
    "\n",
    "print(label_train.shape, label_test.shape)\n",
    "\n",
    "y_train = to_categorical(label_train)\n",
    "y_test = to_categorical(label_test)\n",
    "\n",
    "print(y_train.shape, y_test.shape)"
   ]
  },
  {
   "cell_type": "markdown",
   "metadata": {
    "id": "tMyFcP_OxUrd"
   },
   "source": [
    "### Question: \n",
    "Look at the one-hot coding given by y_train[0], which digit does it represent?"
   ]
  },
  {
   "cell_type": "code",
   "execution_count": 49,
   "metadata": {
    "id": "scpTWCx6s0ME"
   },
   "outputs": [
    {
     "name": "stdout",
     "output_type": "stream",
     "text": [
      "[0. 0. 0. 0. 0. 1. 0. 0. 0. 0.]\n",
      "5\n"
     ]
    }
   ],
   "source": [
    "print(y_train[0]) # print the one-hot vector for the first example\n",
    "print(label_train[0])"
   ]
  },
  {
   "cell_type": "code",
   "execution_count": 52,
   "metadata": {},
   "outputs": [
    {
     "name": "stdout",
     "output_type": "stream",
     "text": [
      "(60,)\n"
     ]
    }
   ],
   "source": [
    "print(X_train[0].shape)"
   ]
  },
  {
   "cell_type": "markdown",
   "metadata": {
    "id": "SjTdngnUs0ME"
   },
   "source": [
    "## Keras Model\n",
    "\n",
    "The core data structure of Keras is a model, a way to organize layers. The simplest type of model is the ```Sequential``` model, a linear stack of **layers**. Before we start take some time to read the ```Sequential``` documentation:\n",
    "\n",
    "https://keras.io/getting-started/sequential-model-guide/\n",
    "\n",
    "Note: Keras has two APIs for this: the **Sequential** API and the **Model** API. The sequential API (the simplest) assumes that your model is a simple sequence of operations, usually neural network layers. The input is passed through the first layer, the result of that is passed through the second and so on. \n",
    "\n",
    "This is useful for simple NN models where you are only interested in the input and output. If your model gets more complex, you may want to use the Model API (we'll use in the next practicals)."
   ]
  },
  {
   "cell_type": "markdown",
   "metadata": {
    "id": "XtoobyAIibrs"
   },
   "source": [
    "Now, creating a Sequential model. \n",
    "\n",
    "We can create a Sequential model incrementally via the add() method."
   ]
  },
  {
   "cell_type": "code",
   "execution_count": 53,
   "metadata": {
    "id": "sGh7bopps0MF"
   },
   "outputs": [
    {
     "name": "stdout",
     "output_type": "stream",
     "text": [
      "Model: \"sequential\"\n",
      "_________________________________________________________________\n",
      " Layer (type)                Output Shape              Param #   \n",
      "=================================================================\n",
      " dense (Dense)               (None, 32)                1952      \n",
      "                                                                 \n",
      " dense_1 (Dense)             (None, 10)                330       \n",
      "                                                                 \n",
      "=================================================================\n",
      "Total params: 2,282\n",
      "Trainable params: 2,282\n",
      "Non-trainable params: 0\n",
      "_________________________________________________________________\n"
     ]
    }
   ],
   "source": [
    "from keras.models import Sequential\n",
    "from keras import layers\n",
    "\n",
    "model = Sequential() # or specify model name: model = Sequential(name=\"my_first_model\")\n",
    "model.add(keras.Input(60)) # Input layer, input shape setup here should match with the input data when fitting or making prediction.\n",
    "model.add(layers.Dense(32, activation='relu'))#, input_shape=(60,))) # first dense layer, 32 hidden units,\n",
    "model.add(layers.Dense(10, activation='softmax'))# second dense layer, output class probabilities with softmax activation\n",
    "model.summary()"
   ]
  },
  {
   "cell_type": "code",
   "execution_count": 58,
   "metadata": {
    "id": "KrDASu5JMZ4A"
   },
   "outputs": [
    {
     "data": {
      "text/plain": [
       "[<tf.Variable 'dense_2/kernel:0' shape=(60, 32) dtype=float32, numpy=\n",
       " array([[ 0.23792163, -0.12746248,  0.12168604, ..., -0.20573221,\n",
       "         -0.02317491, -0.2434875 ],\n",
       "        [-0.05056877,  0.08006054, -0.11094612, ...,  0.21475208,\n",
       "          0.11271349, -0.10690288],\n",
       "        [ 0.19681263, -0.07062446,  0.0750075 , ...,  0.00377411,\n",
       "         -0.16580325,  0.10888901],\n",
       "        ...,\n",
       "        [-0.22396952, -0.19434063, -0.15055275, ...,  0.02488533,\n",
       "          0.07381198,  0.11576584],\n",
       "        [-0.06193715,  0.01290274,  0.16488937, ...,  0.04262367,\n",
       "         -0.14037366, -0.1312803 ],\n",
       "        [ 0.21238285, -0.15199107, -0.14585078, ...,  0.00378934,\n",
       "         -0.2469661 , -0.19794555]], dtype=float32)>,\n",
       " <tf.Variable 'dense_2/bias:0' shape=(32,) dtype=float32, numpy=\n",
       " array([0., 0., 0., 0., 0., 0., 0., 0., 0., 0., 0., 0., 0., 0., 0., 0., 0.,\n",
       "        0., 0., 0., 0., 0., 0., 0., 0., 0., 0., 0., 0., 0., 0., 0.],\n",
       "       dtype=float32)>,\n",
       " <tf.Variable 'dense_3/kernel:0' shape=(32, 10) dtype=float32, numpy=\n",
       " array([[ 3.60749871e-01,  1.16251975e-01, -2.20642522e-01,\n",
       "          1.22016728e-01, -2.89790690e-01,  3.42483610e-01,\n",
       "         -6.17744327e-02,  7.31067657e-02,  1.00946158e-01,\n",
       "         -1.56829730e-01],\n",
       "        [-2.68525183e-01, -1.43368989e-01,  3.66054684e-01,\n",
       "          5.27977943e-04, -3.49543393e-01,  5.97381294e-02,\n",
       "         -2.94861853e-01, -1.34110451e-06, -1.16226643e-01,\n",
       "         -2.65222698e-01],\n",
       "        [-3.67842346e-01,  2.69027919e-01,  3.66240114e-01,\n",
       "          2.95526534e-01,  2.60984927e-01,  2.52220005e-01,\n",
       "         -2.92518139e-01, -3.60160470e-02, -1.04875207e-01,\n",
       "         -1.74302608e-01],\n",
       "        [-2.94139385e-01,  1.20191365e-01,  1.82312757e-01,\n",
       "         -5.20963669e-02, -5.82940578e-02,  2.95402706e-02,\n",
       "          2.34311074e-01,  9.56507027e-02, -1.94441408e-01,\n",
       "         -5.67321181e-02],\n",
       "        [-1.76239341e-01,  9.14114714e-03, -8.51433575e-02,\n",
       "         -2.60750532e-01, -2.43127346e-03, -3.21299583e-01,\n",
       "          2.95268327e-01,  3.42663378e-01,  2.20760554e-01,\n",
       "          2.37721801e-02],\n",
       "        [ 2.40749687e-01,  3.04829925e-01, -1.90455869e-01,\n",
       "          1.21989697e-01,  1.34646624e-01,  1.73813730e-01,\n",
       "          3.02747518e-01, -4.31986451e-02, -7.44011700e-02,\n",
       "         -1.23871177e-01],\n",
       "        [ 2.03055590e-01, -7.01416731e-02,  5.63797653e-02,\n",
       "          2.28721410e-01,  2.88705528e-02, -3.55786294e-01,\n",
       "         -1.62947744e-01, -1.38020918e-01,  2.27784961e-01,\n",
       "          2.33323604e-01],\n",
       "        [ 8.14068615e-02,  3.64209503e-01,  1.87177092e-01,\n",
       "          2.47787565e-01,  1.69372827e-01, -1.42270327e-01,\n",
       "         -1.89262301e-01,  4.55325842e-02,  1.64161772e-01,\n",
       "          1.31900221e-01],\n",
       "        [-3.38785976e-01,  1.25915676e-01, -2.20904857e-01,\n",
       "         -1.65831745e-01, -3.13996315e-01, -1.20239854e-01,\n",
       "         -3.26645941e-01, -2.70729274e-01,  2.44925648e-01,\n",
       "         -3.14508349e-01],\n",
       "        [-1.19601309e-01,  2.09108263e-01,  5.99198639e-02,\n",
       "          4.38368320e-02,  1.42108947e-01,  1.51589960e-01,\n",
       "          2.91996598e-02,  2.05997318e-01,  2.20864028e-01,\n",
       "         -1.99540585e-01],\n",
       "        [-2.18406543e-01, -1.21054351e-02, -2.90241957e-01,\n",
       "         -3.10162783e-01,  2.90673673e-02, -5.06326556e-02,\n",
       "          2.12620229e-01,  4.02939022e-02,  8.90249014e-02,\n",
       "          1.68821365e-01],\n",
       "        [-4.32184339e-03, -1.84009761e-01, -1.16237998e-03,\n",
       "         -9.64405537e-02, -1.88846886e-01,  1.05076432e-01,\n",
       "         -6.41011596e-02, -3.71227831e-01,  8.17981362e-02,\n",
       "         -2.09789589e-01],\n",
       "        [ 4.04072702e-02,  3.48622590e-01, -1.71528280e-01,\n",
       "         -2.67585516e-02, -2.87953526e-01,  4.43907678e-02,\n",
       "         -3.02349478e-01,  2.48513728e-01,  8.86592269e-02,\n",
       "          1.90866321e-01],\n",
       "        [-2.64455974e-02, -2.49827936e-01, -2.47663140e-01,\n",
       "          3.26486200e-01,  3.35473150e-01, -2.82659441e-01,\n",
       "          2.86136657e-01,  3.50327402e-01,  3.46491039e-02,\n",
       "          5.47207594e-02],\n",
       "        [-8.94387066e-02,  3.35063010e-01,  3.24671835e-01,\n",
       "          2.20292240e-01,  2.12959439e-01,  3.28328460e-01,\n",
       "          1.19252384e-01, -3.32762688e-01, -3.64182562e-01,\n",
       "         -2.95635372e-01],\n",
       "        [ 4.01093662e-02,  9.43219662e-02, -3.41330349e-01,\n",
       "         -4.91310060e-02,  4.59379256e-02,  2.69400924e-01,\n",
       "          3.36341828e-01,  1.45524740e-04, -3.00907671e-01,\n",
       "         -3.32580566e-01],\n",
       "        [-1.96982175e-01, -2.43659616e-02,  1.13999397e-01,\n",
       "          3.22382957e-01, -1.35372385e-01, -1.75609991e-01,\n",
       "         -8.36389065e-02, -5.13664484e-02, -1.71894684e-01,\n",
       "         -3.41885626e-01],\n",
       "        [ 2.82099456e-01, -3.52823138e-02, -9.27559733e-02,\n",
       "         -1.19807124e-02,  7.85097480e-03,  2.42588311e-01,\n",
       "         -1.47283271e-01, -3.20201367e-01,  3.47987384e-01,\n",
       "         -4.23529148e-02],\n",
       "        [-3.66223633e-01,  1.45796388e-01, -1.22342020e-01,\n",
       "          3.08005482e-01, -1.38243333e-01,  5.22339940e-02,\n",
       "          1.54456884e-01,  2.40493506e-01,  3.71836990e-01,\n",
       "         -1.58249125e-01],\n",
       "        [-8.42038989e-02, -3.75239968e-01, -1.28523380e-01,\n",
       "          8.56402218e-02,  1.34869128e-01,  7.63921440e-02,\n",
       "          2.03387171e-01,  2.31466442e-01,  2.71582752e-01,\n",
       "         -2.28963092e-01],\n",
       "        [-1.86601430e-01,  2.17052191e-01,  9.54586565e-02,\n",
       "          2.93250084e-02,  1.98699027e-01,  2.91178912e-01,\n",
       "          1.28872424e-01, -1.31625548e-01,  3.23006719e-01,\n",
       "          1.61998957e-01],\n",
       "        [ 1.55540198e-01, -9.94320512e-02, -3.00904244e-01,\n",
       "         -1.37861788e-01, -1.59319043e-01,  3.73647124e-01,\n",
       "         -1.30050987e-01,  2.05759674e-01,  1.48452491e-01,\n",
       "         -1.09130353e-01],\n",
       "        [-4.88800406e-02, -3.64663303e-01, -1.60354897e-01,\n",
       "         -3.53259057e-01, -1.84448346e-01,  3.12126666e-01,\n",
       "         -8.29204321e-02,  2.55530328e-01, -1.33964911e-01,\n",
       "          2.34289736e-01],\n",
       "        [ 2.40549296e-01, -1.46035820e-01,  2.30053931e-01,\n",
       "          3.38462740e-01, -1.90558597e-01,  2.09045678e-01,\n",
       "          1.42212719e-01,  9.55530107e-02, -3.77556801e-01,\n",
       "          2.67469287e-02],\n",
       "        [ 5.53486645e-02,  2.86364943e-01, -3.61714900e-01,\n",
       "         -3.26016873e-01, -2.70682514e-01, -3.65144700e-01,\n",
       "         -3.28894377e-01,  3.40345770e-01, -1.80285811e-01,\n",
       "         -9.27956402e-02],\n",
       "        [ 2.30536312e-01, -2.93581963e-01, -1.68427914e-01,\n",
       "         -2.78506279e-01,  2.66525179e-01,  2.98369795e-01,\n",
       "          2.12692022e-02, -1.69587418e-01,  3.21842641e-01,\n",
       "         -3.16507965e-01],\n",
       "        [-6.01634383e-03,  1.89684778e-01, -3.27507704e-01,\n",
       "         -1.90425038e-01,  2.88942724e-01, -3.22274178e-01,\n",
       "          1.33494407e-01,  1.13964349e-01,  2.90987641e-01,\n",
       "          2.28248209e-01],\n",
       "        [ 6.90037012e-03, -1.84986591e-01,  2.22649783e-01,\n",
       "         -2.31586486e-01,  6.72823489e-02, -7.91269541e-03,\n",
       "         -1.50506631e-01, -1.18688464e-01, -2.64854938e-01,\n",
       "         -1.52319461e-01],\n",
       "        [ 3.95201147e-02,  1.58243477e-02, -3.20663929e-01,\n",
       "          2.64838725e-01,  1.94900006e-01, -3.32708627e-01,\n",
       "          2.43029147e-01, -1.47004545e-01, -6.90719187e-02,\n",
       "          3.49686593e-01],\n",
       "        [ 1.04663372e-02, -1.91232830e-01,  2.07403749e-01,\n",
       "          1.53916627e-01, -3.49355638e-02, -3.32862139e-03,\n",
       "          2.13287383e-01, -2.91931242e-01, -3.64131004e-01,\n",
       "          1.73641145e-02],\n",
       "        [ 1.86271459e-01, -1.62215382e-01,  3.46181244e-01,\n",
       "          2.85183996e-01, -1.88308999e-01,  1.24321669e-01,\n",
       "          2.59248585e-01, -6.64502382e-04, -3.59219611e-02,\n",
       "          4.91017997e-02],\n",
       "        [ 1.04748040e-01,  1.79625243e-01,  3.57204586e-01,\n",
       "         -3.47363353e-02,  9.16872323e-02,  1.77403539e-01,\n",
       "          1.58869475e-01, -2.14487940e-01,  3.39921325e-01,\n",
       "          3.68549556e-01]], dtype=float32)>,\n",
       " <tf.Variable 'dense_3/bias:0' shape=(10,) dtype=float32, numpy=array([0., 0., 0., 0., 0., 0., 0., 0., 0., 0.], dtype=float32)>]"
      ]
     },
     "execution_count": 58,
     "metadata": {},
     "output_type": "execute_result"
    }
   ],
   "source": [
    "# Check model weights\n",
    "model.weights"
   ]
  },
  {
   "cell_type": "markdown",
   "metadata": {
    "id": "euz9tRwQjCfe"
   },
   "source": [
    "You can also create a Sequential model by passing a list of layers to the Sequential constructor:"
   ]
  },
  {
   "cell_type": "code",
   "execution_count": 63,
   "metadata": {
    "id": "AaBwBcsUjDv4"
   },
   "outputs": [
    {
     "name": "stdout",
     "output_type": "stream",
     "text": [
      "Model: \"sequential_6\"\n",
      "_________________________________________________________________\n",
      " Layer (type)                Output Shape              Param #   \n",
      "=================================================================\n",
      " dense_12 (Dense)            (None, 32)                1952      \n",
      "                                                                 \n",
      " dense_13 (Dense)            (None, 10)                330       \n",
      "                                                                 \n",
      "=================================================================\n",
      "Total params: 2,282\n",
      "Trainable params: 2,282\n",
      "Non-trainable params: 0\n",
      "_________________________________________________________________\n"
     ]
    },
    {
     "data": {
      "text/plain": [
       "[<keras.layers.core.dense.Dense at 0x7f3208d2d700>,\n",
       " <keras.layers.core.dense.Dense at 0x7f3208d2d820>]"
      ]
     },
     "execution_count": 63,
     "metadata": {},
     "output_type": "execute_result"
    }
   ],
   "source": [
    "model = Sequential(    \n",
    "    [\n",
    "     keras.Input(shape=(60)),   \n",
    "     layers.Dense(32, activation='relu'),\n",
    "     layers.Dense(10, activation='softmax')\n",
    "    ]\n",
    ")\n",
    "\n",
    "model.summary()\n",
    "\n",
    "# Get the list of layers in the model\n",
    "model.layers"
   ]
  },
  {
   "cell_type": "markdown",
   "metadata": {
    "id": "1uSOhe10jqr0"
   },
   "source": [
    "**Question**: \n",
    "1. how many hidden layers does this model have?\n",
    "- 1 hidden, 1 output\n",
    "2. how to compute the total number of parameters or weights? \n",
    "- model.summary()\n",
    "(Remeber to add the parameters for bias)\n",
    "\n",
    "\n",
    "Once create the model, you can start training and validating the model. https://keras.io/guides/training_with_built_in_methods/"
   ]
  },
  {
   "cell_type": "code",
   "execution_count": 64,
   "metadata": {
    "id": "hEl2wlGss0MF"
   },
   "outputs": [],
   "source": [
    "optimizer = keras.optimizers.SGD(learning_rate=0.01)\n",
    "#optimizer = keras.optimizers.Adam(learning_rate=0.001)\n",
    "model.compile(optimizer=optimizer, loss='categorical_crossentropy', metrics=['accuracy'])"
   ]
  },
  {
   "cell_type": "markdown",
   "metadata": {
    "id": "R5_pmbSms0MG"
   },
   "source": [
    "## Training\n",
    "\n",
    "We've also told the compiler that we'd like it to compute accuracy for us during training (since categorical cross-entropy loss is a bit hard to interpret).\n",
    "\n",
    "We're now ready to start training using the fit() method:\n",
    "- The **batch size** to use within each epoch of mini-batch gradient descent: the number of training examples considered to compute the gradients for one weight update step.\n",
    "- The number of **epochs** to train for: how many times the training loop should iterate over the data passed. "
   ]
  },
  {
   "cell_type": "markdown",
   "metadata": {
    "id": "LrbqJ2C8bt18"
   },
   "source": []
  },
  {
   "cell_type": "code",
   "execution_count": 65,
   "metadata": {
    "id": "KCLOxVQ4s0MH"
   },
   "outputs": [
    {
     "name": "stdout",
     "output_type": "stream",
     "text": [
      "Epoch 1/5\n",
      "60/60 [==============================] - 0s 2ms/step - loss: 2.2243 - accuracy: 0.1786\n",
      "Epoch 2/5\n",
      "60/60 [==============================] - 0s 2ms/step - loss: 1.8458 - accuracy: 0.3853\n",
      "Epoch 3/5\n",
      "60/60 [==============================] - 0s 2ms/step - loss: 1.5818 - accuracy: 0.5261\n",
      "Epoch 4/5\n",
      "60/60 [==============================] - 0s 2ms/step - loss: 1.3850 - accuracy: 0.6065\n",
      "Epoch 5/5\n",
      "60/60 [==============================] - 0s 2ms/step - loss: 1.2347 - accuracy: 0.6547\n"
     ]
    }
   ],
   "source": [
    "# Train the model, iterating on the data in batches of 32 samples\n",
    "history = model.fit(X_train, y_train, epochs=5, batch_size=1000);"
   ]
  },
  {
   "cell_type": "markdown",
   "metadata": {
    "id": "Cj4fU6J0gNz4"
   },
   "source": [
    "## Validating##\n",
    "A deep learning model should never be evaluated on its training data alone - it’s standard practice to use a validation set to monitor the accuracy (or other performance metric) of the model during training. Here, we randomly set apart 10% of training samples from the original training data for validation using validation_split argument in fit() method. Usually, we create a validation set separately, and set \"validation_data\" in fit(). For more details on keras model training api, check https://keras.io/api/models/model_training_apis/"
   ]
  },
  {
   "cell_type": "markdown",
   "metadata": {
    "id": "-cphMmVcc4P-"
   },
   "source": [
    "The call to fit() returns a **History** object. This object contains a history field, which is a dict mapping keys such as \"loss\" or specific metric names to the list of their per-epoch values."
   ]
  },
  {
   "cell_type": "code",
   "execution_count": 66,
   "metadata": {
    "id": "WHS9LVFrhPxp"
   },
   "outputs": [
    {
     "name": "stdout",
     "output_type": "stream",
     "text": [
      "Epoch 1/5\n",
      "54/54 [==============================] - 0s 5ms/step - loss: 1.1299 - accuracy: 0.6838 - val_loss: 1.0111 - val_accuracy: 0.7337\n",
      "Epoch 2/5\n",
      "54/54 [==============================] - 0s 2ms/step - loss: 1.0450 - accuracy: 0.7097 - val_loss: 0.9315 - val_accuracy: 0.7568\n",
      "Epoch 3/5\n",
      "54/54 [==============================] - 0s 2ms/step - loss: 0.9749 - accuracy: 0.7297 - val_loss: 0.8654 - val_accuracy: 0.7712\n",
      "Epoch 4/5\n",
      "54/54 [==============================] - 0s 2ms/step - loss: 0.9160 - accuracy: 0.7459 - val_loss: 0.8098 - val_accuracy: 0.7870\n",
      "Epoch 5/5\n",
      "54/54 [==============================] - 0s 2ms/step - loss: 0.8660 - accuracy: 0.7604 - val_loss: 0.7624 - val_accuracy: 0.7975\n"
     ]
    }
   ],
   "source": [
    "history = model.fit(X_train, y_train, validation_split=0.1, epochs=5, batch_size=1000);"
   ]
  },
  {
   "cell_type": "code",
   "execution_count": 69,
   "metadata": {
    "id": "5JfQdrvJkDFk"
   },
   "outputs": [
    {
     "name": "stdout",
     "output_type": "stream",
     "text": [
      "Epoch 1/8\n",
      "54/54 [==============================] - 0s 2ms/step - loss: 0.8230 - accuracy: 0.7723 - val_loss: 0.7216 - val_accuracy: 0.8070\n",
      "Epoch 2/8\n",
      "54/54 [==============================] - 0s 2ms/step - loss: 0.7856 - accuracy: 0.7816 - val_loss: 0.6861 - val_accuracy: 0.8182\n",
      "Epoch 3/8\n",
      "54/54 [==============================] - 0s 2ms/step - loss: 0.7528 - accuracy: 0.7903 - val_loss: 0.6549 - val_accuracy: 0.8257\n",
      "Epoch 4/8\n",
      "54/54 [==============================] - 0s 2ms/step - loss: 0.7239 - accuracy: 0.7976 - val_loss: 0.6274 - val_accuracy: 0.8320\n",
      "Epoch 5/8\n",
      "54/54 [==============================] - 0s 2ms/step - loss: 0.6981 - accuracy: 0.8038 - val_loss: 0.6028 - val_accuracy: 0.8395\n",
      "Epoch 6/8\n",
      "54/54 [==============================] - 0s 2ms/step - loss: 0.6750 - accuracy: 0.8094 - val_loss: 0.5809 - val_accuracy: 0.8448\n",
      "Epoch 7/8\n",
      "54/54 [==============================] - 0s 2ms/step - loss: 0.6542 - accuracy: 0.8145 - val_loss: 0.5611 - val_accuracy: 0.8512\n",
      "Epoch 8/8\n",
      "54/54 [==============================] - 0s 2ms/step - loss: 0.6353 - accuracy: 0.8190 - val_loss: 0.5433 - val_accuracy: 0.8565\n"
     ]
    }
   ],
   "source": [
    "# Consider increase the number of epochs if the model loss or traininng performance is not good enough or not converged\n",
    "# \n",
    "history = model.fit(X_train, y_train, validation_split=0.1, epochs=8, batch_size=1000)"
   ]
  },
  {
   "cell_type": "code",
   "execution_count": 70,
   "metadata": {
    "id": "HFtkwMFnmOBp"
   },
   "outputs": [
    {
     "data": {
      "text/plain": [
       "dict_keys(['loss', 'accuracy', 'val_loss', 'val_accuracy'])"
      ]
     },
     "execution_count": 70,
     "metadata": {},
     "output_type": "execute_result"
    }
   ],
   "source": [
    "history.history.keys()"
   ]
  },
  {
   "cell_type": "code",
   "execution_count": 71,
   "metadata": {
    "id": "ikp6yjC6c6Wz"
   },
   "outputs": [
    {
     "data": {
      "text/plain": [
       "{'loss': [0.8229607343673706,\n",
       "  0.7855829000473022,\n",
       "  0.7528278231620789,\n",
       "  0.7238727807998657,\n",
       "  0.6981029510498047,\n",
       "  0.675013542175293,\n",
       "  0.6541914939880371,\n",
       "  0.6353291273117065],\n",
       " 'accuracy': [0.7722963094711304,\n",
       "  0.7816481590270996,\n",
       "  0.7902777791023254,\n",
       "  0.7976481318473816,\n",
       "  0.8038333058357239,\n",
       "  0.809425950050354,\n",
       "  0.8145370483398438,\n",
       "  0.819018542766571],\n",
       " 'val_loss': [0.7215776443481445,\n",
       "  0.6860714554786682,\n",
       "  0.6549180150032043,\n",
       "  0.6273508667945862,\n",
       "  0.6028053760528564,\n",
       "  0.5808648467063904,\n",
       "  0.5611206889152527,\n",
       "  0.5432734489440918],\n",
       " 'val_accuracy': [0.8069999814033508,\n",
       "  0.8181666731834412,\n",
       "  0.8256666660308838,\n",
       "  0.8320000171661377,\n",
       "  0.8395000100135803,\n",
       "  0.8448333144187927,\n",
       "  0.8511666655540466,\n",
       "  0.8565000295639038]}"
      ]
     },
     "execution_count": 71,
     "metadata": {},
     "output_type": "execute_result"
    }
   ],
   "source": [
    "history.history"
   ]
  },
  {
   "cell_type": "code",
   "execution_count": 72,
   "metadata": {
    "id": "OQiTm4UOkcUC"
   },
   "outputs": [
    {
     "data": {
      "image/png": "[encoded data removed]",
      "text/plain": [
       "<Figure size 432x288 with 1 Axes>"
      ]
     },
     "metadata": {
      "needs_background": "light"
     },
     "output_type": "display_data"
    }
   ],
   "source": [
    "# Plotting the training and validation loss\n",
    "import matplotlib.pyplot as plt\n",
    "history_dict = history.history\n",
    "loss_values = history_dict[\"loss\"]\n",
    "val_loss_values = history_dict[\"val_loss\"]\n",
    "epochs = range(1, len(loss_values) + 1)\n",
    "plt.plot(epochs, loss_values, \"bo\", label=\"Training loss\")\n",
    "plt.plot(epochs, val_loss_values, \"b\", label=\"Validation loss\")\n",
    "plt.title(\"Training and validation loss\")\n",
    "plt.xlabel(\"Epochs\")\n",
    "plt.ylabel(\"Loss\")\n",
    "plt.legend()\n",
    "plt.show()"
   ]
  },
  {
   "cell_type": "code",
   "execution_count": 74,
   "metadata": {
    "id": "4viP9LZTm2NZ"
   },
   "outputs": [
    {
     "data": {
      "image/png": "[encoded data removed]",
      "text/plain": [
       "<Figure size 432x288 with 1 Axes>"
      ]
     },
     "metadata": {
      "needs_background": "light"
     },
     "output_type": "display_data"
    }
   ],
   "source": [
    "# Plotting the training and validation accuracy\n",
    "# Your code here:\n",
    "hist = history.history\n",
    "train_accuracy = hist['accuracy']\n",
    "val_accuracy = hist['val_accuracy']\n",
    "epochs = range(1, len(val_accuracy)+1)\n",
    "plt.plot(epochs, train_accuracy, 'bo', label='train accuracy')\n",
    "plt.plot(epochs, val_accuracy, 'b', label='validation accuracy')\n",
    "plt.title('Training and validation accuracy')\n",
    "plt.xlabel('Epochs')\n",
    "plt.ylabel('Accuracy')\n",
    "plt.legend(loc='best')\n",
    "plt.show()"
   ]
  },
  {
   "cell_type": "code",
   "execution_count": 75,
   "metadata": {
    "id": "UWqDHBapkRxu"
   },
   "outputs": [
    {
     "name": "stdout",
     "output_type": "stream",
     "text": [
      "313/313 [==============================] - 0s 814us/step - loss: 0.5954 - accuracy: 0.8336\n",
      "test loss, test acc: [0.5953556895256042, 0.8335999846458435]\n",
      "313/313 [==============================] - 0s 828us/step - loss: 0.5954 - accuracy: 0.8336\n",
      "Accuracy: 83.36\n"
     ]
    }
   ],
   "source": [
    "# After the model training is complete\n",
    "# evaluate the model \n",
    "results = model.evaluate(X_test, y_test)\n",
    "print(\"test loss, test acc:\", results)\n",
    "\n",
    "_, accuracy = model.evaluate(X_test, y_test)\n",
    "print('Accuracy: %.2f' % (accuracy*100))"
   ]
  },
  {
   "cell_type": "markdown",
   "metadata": {
    "id": "3WgFgXDgd__W"
   },
   "source": [
    "##Inference##\n",
    "To make predictions using a trained model "
   ]
  },
  {
   "cell_type": "code",
   "execution_count": 76,
   "metadata": {
    "id": "VwaE0ysss0MH"
   },
   "outputs": [
    {
     "name": "stdout",
     "output_type": "stream",
     "text": [
      "313/313 [==============================] - 0s 657us/step\n",
      "[7.1223034e-04 4.9318973e-04 1.5640515e-03 3.1726989e-03 4.1592866e-03\n",
      " 4.0343881e-04 1.7222099e-04 9.5064855e-01 2.5823122e-04 3.8416177e-02]\n",
      "\n",
      "Confusion matrix: \n",
      "[[ 932    0    7    9    1    7   14    2    8    0]\n",
      " [   0 1089   20    9    1    1    6    0    9    0]\n",
      " [  31   36  777   12   20   13   39   27   75    2]\n",
      " [  17   14   22  829    1   44    9   17   43   14]\n",
      " [   2   10    6    1  832    5   30   10    8   78]\n",
      " [  20   34   18   78   36  630   27    9   25   15]\n",
      " [  21    7   11    1   25   12  872    4    5    0]\n",
      " [   1   33   33    5    6    3    2  900    1   44]\n",
      " [   9   20   29   53   14   50   27   10  715   47]\n",
      " [  19   14   11   21  105   11    2   62    4  760]]\n",
      "\n",
      "Classification report: \n",
      "              precision    recall  f1-score   support\n",
      "\n",
      "           0       0.89      0.95      0.92       980\n",
      "           1       0.87      0.96      0.91      1135\n",
      "           2       0.83      0.75      0.79      1032\n",
      "           3       0.81      0.82      0.82      1010\n",
      "           4       0.80      0.85      0.82       982\n",
      "           5       0.81      0.71      0.76       892\n",
      "           6       0.85      0.91      0.88       958\n",
      "           7       0.86      0.88      0.87      1028\n",
      "           8       0.80      0.73      0.77       974\n",
      "           9       0.79      0.75      0.77      1009\n",
      "\n",
      "    accuracy                           0.83     10000\n",
      "   macro avg       0.83      0.83      0.83     10000\n",
      "weighted avg       0.83      0.83      0.83     10000\n",
      "\n"
     ]
    }
   ],
   "source": [
    "# To make predictions and get the confusion matrix\n",
    "# model.predict will generate probability for all 10 digits, \n",
    "#    so we use argmax to pick the class with the highest probability\n",
    "from sklearn import metrics\n",
    "y_pred = model.predict(X_test)\n",
    "print(y_pred[0]) # print the prediction for first image\n",
    "\n",
    "print('\\nConfusion matrix: ')\n",
    "matrix = metrics.confusion_matrix(y_test.argmax(axis=1), y_pred.argmax(axis=1))\n",
    "print(matrix)\n",
    "\n",
    "print('\\nClassification report: ')\n",
    "print(metrics.classification_report(y_test.argmax(axis=1), y_pred.argmax(axis=1)))"
   ]
  },
  {
   "cell_type": "markdown",
   "metadata": {
    "id": "rBdSC5gDs0MI"
   },
   "source": [
    "### Tasks\n",
    "\n",
    "As you now have a model to play with (in no particular order):\n",
    "\n",
    "1. Change the `learning-rate` for the optimiser.\n",
    "2. Change the ```batch_size``` to e.g. 1 or 1000 (and see how learning rate deals with larger/smaller batch sizes).\n",
    "3. Change the optimiser: from SGD to Adam\n",
    "4. Add complexity to the model, being mindful of how \"powerful\" your computers are.\n",
    "\n",
    "7. Try and find a sweet-spot between the size and performance of the model, take into account things like the number of iterations/epochs required to train the model in these assumptions.\n",
    "\n",
    "6. Do you get the exact same results if you run the Notebook multiple times without changing any parameters? Why or why not?\n",
    "\n",
    "5. Do you think these changes will have the same effect (if any) on other classifiers?\n",
    "\n",
    "8. Investigate **effect of dimensionality reduction** (with PCA, e.g. you may try to build the model without PCA and compare ...)\n",
    "\n",
    "9. Try out some **other ML classifiers** that have been discussed in the class, e.g. kNN (with scikit-learn) "
   ]
  },
  {
   "cell_type": "code",
   "execution_count": 95,
   "metadata": {
    "id": "La9Ah0Qms0MI"
   },
   "outputs": [
    {
     "name": "stdout",
     "output_type": "stream",
     "text": [
      "Model: \"sequential_9\"\n",
      "_________________________________________________________________\n",
      " Layer (type)                Output Shape              Param #   \n",
      "=================================================================\n",
      " dense_18 (Dense)            (None, 32)                1952      \n",
      "                                                                 \n",
      " dense_19 (Dense)            (None, 10)                330       \n",
      "                                                                 \n",
      "=================================================================\n",
      "Total params: 2,282\n",
      "Trainable params: 2,282\n",
      "Non-trainable params: 0\n",
      "_________________________________________________________________\n"
     ]
    },
    {
     "data": {
      "text/plain": [
       "[<keras.layers.core.dense.Dense at 0x7f3209b0b880>,\n",
       " <keras.layers.core.dense.Dense at 0x7f3209b0b310>]"
      ]
     },
     "execution_count": 95,
     "metadata": {},
     "output_type": "execute_result"
    }
   ],
   "source": [
    "# Your code\n",
    "#\n",
    "#\n",
    "import tensorflow as tf\n",
    "from tensorflow import keras\n",
    "from keras.models import Sequential\n",
    "from keras import layers\n",
    "\n",
    "#create sequential model\n",
    "model2 = Sequential(    \n",
    "    [\n",
    "     keras.Input(shape=(60)),   \n",
    "     layers.Dense(32, activation='relu'),\n",
    "     layers.Dense(10, activation='softmax')\n",
    "    ]\n",
    ")\n",
    "\n",
    "model2.summary()\n",
    "\n",
    "# Get the list of layers in the model\n",
    "model2.layers"
   ]
  },
  {
   "cell_type": "code",
   "execution_count": 96,
   "metadata": {},
   "outputs": [],
   "source": [
    "optimizer = keras.optimizers.Adam(learning_rate=0.001)\n",
    "model2.compile(optimizer=optimizer, loss='categorical_crossentropy', metrics=['accuracy'])"
   ]
  },
  {
   "cell_type": "code",
   "execution_count": 97,
   "metadata": {
    "scrolled": true
   },
   "outputs": [
    {
     "name": "stdout",
     "output_type": "stream",
     "text": [
      "Epoch 1/10\n",
      "108/108 [==============================] - 1s 3ms/step - loss: 1.6958 - accuracy: 0.4786 - val_loss: 0.9826 - val_accuracy: 0.7955\n",
      "Epoch 2/10\n",
      "108/108 [==============================] - 0s 2ms/step - loss: 0.7523 - accuracy: 0.8273 - val_loss: 0.4722 - val_accuracy: 0.8972\n",
      "Epoch 3/10\n",
      "108/108 [==============================] - 0s 2ms/step - loss: 0.4590 - accuracy: 0.8850 - val_loss: 0.3285 - val_accuracy: 0.9193\n",
      "Epoch 4/10\n",
      "108/108 [==============================] - 0s 2ms/step - loss: 0.3573 - accuracy: 0.9047 - val_loss: 0.2699 - val_accuracy: 0.9288\n",
      "Epoch 5/10\n",
      "108/108 [==============================] - 0s 2ms/step - loss: 0.3071 - accuracy: 0.9153 - val_loss: 0.2374 - val_accuracy: 0.9350\n",
      "Epoch 6/10\n",
      "108/108 [==============================] - 0s 2ms/step - loss: 0.2756 - accuracy: 0.9230 - val_loss: 0.2164 - val_accuracy: 0.9408\n",
      "Epoch 7/10\n",
      "108/108 [==============================] - 0s 2ms/step - loss: 0.2534 - accuracy: 0.9287 - val_loss: 0.2011 - val_accuracy: 0.9448\n",
      "Epoch 8/10\n",
      "108/108 [==============================] - 0s 2ms/step - loss: 0.2361 - accuracy: 0.9327 - val_loss: 0.1889 - val_accuracy: 0.9478\n",
      "Epoch 9/10\n",
      "108/108 [==============================] - 0s 2ms/step - loss: 0.2219 - accuracy: 0.9372 - val_loss: 0.1789 - val_accuracy: 0.9505\n",
      "Epoch 10/10\n",
      "108/108 [==============================] - 0s 1ms/step - loss: 0.2099 - accuracy: 0.9399 - val_loss: 0.1700 - val_accuracy: 0.9533\n"
     ]
    }
   ],
   "source": [
    "history2 = model2.fit(X_train, y_train, validation_split=0.1, epochs=10, batch_size=500)"
   ]
  },
  {
   "cell_type": "code",
   "execution_count": 99,
   "metadata": {
    "scrolled": true
   },
   "outputs": [
    {
     "data": {
      "text/plain": [
       "{'loss': [1.695819616317749,\n",
       "  0.7522706389427185,\n",
       "  0.4589558243751526,\n",
       "  0.3572513163089752,\n",
       "  0.30708253383636475,\n",
       "  0.27562567591667175,\n",
       "  0.2533908188343048,\n",
       "  0.2360767126083374,\n",
       "  0.22192250192165375,\n",
       "  0.2098832130432129],\n",
       " 'accuracy': [0.47862961888313293,\n",
       "  0.8272592425346375,\n",
       "  0.8849814534187317,\n",
       "  0.9046666622161865,\n",
       "  0.915314793586731,\n",
       "  0.9229999780654907,\n",
       "  0.928685188293457,\n",
       "  0.9327222108840942,\n",
       "  0.937166690826416,\n",
       "  0.939907431602478],\n",
       " 'val_loss': [0.982646644115448,\n",
       "  0.47222819924354553,\n",
       "  0.3285250961780548,\n",
       "  0.2698797583580017,\n",
       "  0.23738394677639008,\n",
       "  0.2163800448179245,\n",
       "  0.20105277001857758,\n",
       "  0.18886375427246094,\n",
       "  0.17892184853553772,\n",
       "  0.17001046240329742],\n",
       " 'val_accuracy': [0.7954999804496765,\n",
       "  0.8971666693687439,\n",
       "  0.9193333387374878,\n",
       "  0.9288333058357239,\n",
       "  0.9350000023841858,\n",
       "  0.940833330154419,\n",
       "  0.9448333382606506,\n",
       "  0.9478333592414856,\n",
       "  0.9505000114440918,\n",
       "  0.95333331823349]}"
      ]
     },
     "execution_count": 99,
     "metadata": {},
     "output_type": "execute_result"
    }
   ],
   "source": [
    "history2.history"
   ]
  },
  {
   "cell_type": "code",
   "execution_count": 100,
   "metadata": {
    "scrolled": true
   },
   "outputs": [
    {
     "data": {
      "image/png": "[encoded data removed]",
      "text/plain": [
       "<Figure size 432x288 with 1 Axes>"
      ]
     },
     "metadata": {
      "needs_background": "light"
     },
     "output_type": "display_data"
    }
   ],
   "source": [
    "hist = history2.history\n",
    "train_accuracy = hist['accuracy']\n",
    "val_accuracy = hist['val_accuracy']\n",
    "epochs = range(1, len(val_accuracy)+1)\n",
    "plt.plot(epochs, train_accuracy, 'bo', label='train accuracy')\n",
    "plt.plot(epochs, val_accuracy, 'b', label='validation accuracy')\n",
    "plt.title('Training and validation accuracy')\n",
    "plt.xlabel('Epochs')\n",
    "plt.ylabel('Accuracy')\n",
    "plt.legend(loc='best')\n",
    "plt.show()"
   ]
  },
  {
   "cell_type": "code",
   "execution_count": 103,
   "metadata": {},
   "outputs": [
    {
     "name": "stdout",
     "output_type": "stream",
     "text": [
      "313/313 [==============================] - 0s 936us/step - loss: 0.1940 - accuracy: 0.9436\n",
      "test loss, test acc: [0.19398820400238037, 0.9435999989509583]\n",
      "313/313 [==============================] - 0s 888us/step - loss: 0.1940 - accuracy: 0.9436\n",
      "Accuracy: 94.36\n"
     ]
    }
   ],
   "source": [
    "#evaluation of model\n",
    "results2 = model2.evaluate(X_test, y_test)\n",
    "print(\"test loss, test acc:\", results2)\n",
    "\n",
    "_, accuracy2 = model2.evaluate(X_test, y_test)\n",
    "print('Accuracy: %.2f' % (accuracy2*100))"
   ]
  }
 ],
 "metadata": {
  "colab": {
   "provenance": []
  },
  "kernelspec": {
   "display_name": "Python 3 (ipykernel)",
   "language": "python",
   "name": "python3"
  },
  "language_info": {
   "codemirror_mode": {
    "name": "ipython",
    "version": 3
   },
   "file_extension": ".py",
   "mimetype": "text/x-python",
   "name": "python",
   "nbconvert_exporter": "python",
   "pygments_lexer": "ipython3",
   "version": "3.9.12"
  }
 },
 "nbformat": 4,
 "nbformat_minor": 1
}
