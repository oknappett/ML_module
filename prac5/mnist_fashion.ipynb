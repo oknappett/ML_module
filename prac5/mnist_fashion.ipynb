{
 "cells": [
  {
   "cell_type": "markdown",
   "id": "89e0e193",
   "metadata": {},
   "source": [
    "# Import libraries and data set\n",
    "fashion mnist is a dataset of clothes"
   ]
  },
  {
   "cell_type": "code",
   "execution_count": 3,
   "id": "42342bf0",
   "metadata": {},
   "outputs": [],
   "source": [
    "#imports\n",
    "import tensorflow as tf\n",
    "from tensorflow import keras"
   ]
  },
  {
   "cell_type": "code",
   "execution_count": 4,
   "id": "4329b9a9",
   "metadata": {
    "scrolled": true
   },
   "outputs": [
    {
     "name": "stdout",
     "output_type": "stream",
     "text": [
      "Downloading data from https://storage.googleapis.com/tensorflow/tf-keras-datasets/train-labels-idx1-ubyte.gz\n",
      "29515/29515 [==============================] - 0s 1us/step\n",
      "Downloading data from https://storage.googleapis.com/tensorflow/tf-keras-datasets/train-images-idx3-ubyte.gz\n",
      "26421880/26421880 [==============================] - 3s 0us/step\n",
      "Downloading data from https://storage.googleapis.com/tensorflow/tf-keras-datasets/t10k-labels-idx1-ubyte.gz\n",
      "5148/5148 [==============================] - 0s 0s/step\n",
      "Downloading data from https://storage.googleapis.com/tensorflow/tf-keras-datasets/t10k-images-idx3-ubyte.gz\n",
      "4422102/4422102 [==============================] - 1s 0us/step\n",
      "Size of:\n",
      "training set: (60000, 28, 28)\n",
      "testing set: (10000, 28, 28)\n",
      "Labels: [9 0 0 ... 3 0 5]\n",
      "Label shape: (60000,)\n"
     ]
    }
   ],
   "source": [
    "#mnist dataset\n",
    "from tensorflow.keras.datasets import fashion_mnist\n",
    "\n",
    "(image_train, label_train), (image_test, label_test) = fashion_mnist.load_data()\n",
    "print(f\"Size of:\\ntraining set: {image_train.shape}\\ntesting set: {image_test.shape}\")\n",
    "print(f\"Labels: {label_train}\\nLabel shape: {label_train.shape}\")"
   ]
  },
  {
   "cell_type": "markdown",
   "id": "76f75453",
   "metadata": {},
   "source": [
    "# Plot Images"
   ]
  },
  {
   "cell_type": "code",
   "execution_count": 5,
   "id": "cc7a93e3",
   "metadata": {},
   "outputs": [],
   "source": [
    "#plotting each image\n",
    "import matplotlib.pyplot as plt\n",
    "def plot_image(image, label_true, label_pred = None):\n",
    "    plt.imshow(image, cmap='gray')\n",
    "    \n",
    "    if label_pred is None:\n",
    "        xlab = f\"True: {label_true}\"\n",
    "    else:\n",
    "        xlab = f\"True: {label_true}, Pred: {label_pred}\"\n",
    "        \n",
    "    plt.xlabel(xlab)\n",
    "    \n",
    "    plt.xticks([])\n",
    "    plt.yticks([])\n",
    "    \n",
    "    plt.show"
   ]
  },
  {
   "cell_type": "code",
   "execution_count": 6,
   "id": "ff5b6ff1",
   "metadata": {
    "scrolled": true
   },
   "outputs": [
    {
     "data": {
      "image/png": "[encoded data removed]",
      "text/plain": [
       "<Figure size 640x480 with 1 Axes>"
      ]
     },
     "metadata": {},
     "output_type": "display_data"
    }
   ],
   "source": [
    "plot_image(image_train[0], label_train[0])"
   ]
  },
  {
   "cell_type": "code",
   "execution_count": 9,
   "id": "a1b6b3b2",
   "metadata": {},
   "outputs": [
    {
     "name": "stdout",
     "output_type": "stream",
     "text": [
      "Size of:\n",
      "- Training-set: (60000, 784) \ttrain label(60000, 28, 28)\n",
      "- Test-set:\t\t(10000, 784)\n"
     ]
    }
   ],
   "source": [
    "#reshaping the images\n",
    "X_train = image_train.reshape(image_train.shape[0], -1).astype('float32')/255\n",
    "X_test = image_test.reshape(image_test.shape[0], -1).astype('float32')/255\n",
    "\n",
    "print(\"Size of:\")\n",
    "print(f\"- Training-set: {X_train.shape} \\ttrain label{image_train.shape}\")\n",
    "print(\"- Test-set:\\t\\t{}\".format(X_test.shape))"
   ]
  },
  {
   "cell_type": "markdown",
   "id": "e469b579",
   "metadata": {},
   "source": [
    "# PCA dimensionality reduction"
   ]
  },
  {
   "cell_type": "code",
   "execution_count": 99,
   "id": "e4b69acb",
   "metadata": {
    "scrolled": true
   },
   "outputs": [],
   "source": [
    "#PCA dimensionality reduction\n",
    "from sklearn.decomposition import PCA\n",
    "pca = PCA(n_components=200)\n",
    "pca.fit(X_train)\n",
    "\n",
    "X_train_pca = pca.transform(X_train)\n",
    "X_test_pca = pca.transform(X_test)"
   ]
  },
  {
   "cell_type": "code",
   "execution_count": 14,
   "id": "f75a604d",
   "metadata": {},
   "outputs": [
    {
     "name": "stdout",
     "output_type": "stream",
     "text": [
      "(60000, 60), (10000, 60)\n"
     ]
    }
   ],
   "source": [
    "print(f\"{X_train_pca.shape}, {X_test_pca.shape}\")"
   ]
  },
  {
   "cell_type": "code",
   "execution_count": 22,
   "id": "c2c1d47c",
   "metadata": {},
   "outputs": [
    {
     "name": "stdout",
     "output_type": "stream",
     "text": [
      "[0. 0. 0. 0. 0. 0. 0. 0. 0. 1.] = 9\n",
      "\n",
      "[1. 0. 0. 0. 0. 0. 0. 0. 0. 0.] = 0\n",
      "\n",
      "[1. 0. 0. 0. 0. 0. 0. 0. 0. 0.] = 0\n",
      "\n",
      "[0. 0. 0. 1. 0. 0. 0. 0. 0. 0.] = 3\n",
      "\n"
     ]
    }
   ],
   "source": [
    "#one hot encoding:\n",
    "from keras.utils import to_categorical\n",
    "\n",
    "y_train = to_categorical(label_train)\n",
    "y_test = to_categorical(label_test)\n",
    "\n",
    "for i in range(4):\n",
    "    print(f\"{y_train[i]} = {label_train[i]}\\n\")"
   ]
  },
  {
   "cell_type": "markdown",
   "id": "f836920c",
   "metadata": {},
   "source": [
    "# Create model to train"
   ]
  },
  {
   "cell_type": "code",
   "execution_count": 100,
   "id": "756757b5",
   "metadata": {
    "scrolled": true
   },
   "outputs": [
    {
     "name": "stdout",
     "output_type": "stream",
     "text": [
      "Model: \"sequential_14\"\n",
      "_________________________________________________________________\n",
      " Layer (type)                Output Shape              Param #   \n",
      "=================================================================\n",
      " dense_87 (Dense)            (None, 30)                6030      \n",
      "                                                                 \n",
      " dense_88 (Dense)            (None, 30)                930       \n",
      "                                                                 \n",
      " dense_89 (Dense)            (None, 30)                930       \n",
      "                                                                 \n",
      " dense_90 (Dense)            (None, 30)                930       \n",
      "                                                                 \n",
      " dense_91 (Dense)            (None, 30)                930       \n",
      "                                                                 \n",
      " dense_92 (Dense)            (None, 30)                930       \n",
      "                                                                 \n",
      " dense_93 (Dense)            (None, 10)                310       \n",
      "                                                                 \n",
      "=================================================================\n",
      "Total params: 10,990\n",
      "Trainable params: 10,990\n",
      "Non-trainable params: 0\n",
      "_________________________________________________________________\n"
     ]
    }
   ],
   "source": [
    "#creating keras sequential model \n",
    "from keras.models import Sequential\n",
    "from keras import layers\n",
    "\n",
    "model = Sequential([\n",
    "    keras.Input(shape=(X_train_pca[0].shape)),\n",
    "    layers.Dense(30, activation='relu'),\n",
    "    layers.Dense(30, activation='relu'),\n",
    "    layers.Dense(30, activation='relu'),\n",
    "    layers.Dense(30, activation='relu'),\n",
    "    layers.Dense(30, activation='relu'),\n",
    "    layers.Dense(30, activation='relu'),\n",
    "    layers.Dense(y_train[0].shape[0], activation='softmax')\n",
    "])\n",
    "\n",
    "model.summary()"
   ]
  },
  {
   "cell_type": "code",
   "execution_count": 101,
   "id": "5171c36b",
   "metadata": {},
   "outputs": [],
   "source": [
    "op =keras.optimizers.experimental.AdamW(learning_rate=0.001)\n",
    "model.compile(optimizer=op, loss='categorical_crossentropy', metrics=['accuracy'])"
   ]
  },
  {
   "cell_type": "code",
   "execution_count": 102,
   "id": "cbff7b73",
   "metadata": {
    "scrolled": false
   },
   "outputs": [
    {
     "name": "stdout",
     "output_type": "stream",
     "text": [
      "Epoch 1/100\n",
      "6/6 [==============================] - 3s 104ms/step - loss: 2.2901 - accuracy: 0.0925 - val_loss: 2.2615 - val_accuracy: 0.1242\n",
      "Epoch 2/100\n",
      "6/6 [==============================] - 0s 30ms/step - loss: 2.2424 - accuracy: 0.1707 - val_loss: 2.2072 - val_accuracy: 0.2477\n",
      "Epoch 3/100\n",
      "6/6 [==============================] - 0s 28ms/step - loss: 2.1772 - accuracy: 0.2748 - val_loss: 2.1208 - val_accuracy: 0.3545\n",
      "Epoch 4/100\n",
      "6/6 [==============================] - 0s 37ms/step - loss: 2.0738 - accuracy: 0.3809 - val_loss: 1.9913 - val_accuracy: 0.4248\n",
      "Epoch 5/100\n",
      "6/6 [==============================] - 0s 31ms/step - loss: 1.9252 - accuracy: 0.4415 - val_loss: 1.8146 - val_accuracy: 0.4642\n",
      "Epoch 6/100\n",
      "6/6 [==============================] - 0s 39ms/step - loss: 1.7317 - accuracy: 0.4812 - val_loss: 1.6041 - val_accuracy: 0.5042\n",
      "Epoch 7/100\n",
      "6/6 [==============================] - 0s 37ms/step - loss: 1.5157 - accuracy: 0.5170 - val_loss: 1.3834 - val_accuracy: 0.5398\n",
      "Epoch 8/100\n",
      "6/6 [==============================] - 0s 36ms/step - loss: 1.2997 - accuracy: 0.5663 - val_loss: 1.1771 - val_accuracy: 0.6147\n",
      "Epoch 9/100\n",
      "6/6 [==============================] - 0s 36ms/step - loss: 1.1057 - accuracy: 0.6560 - val_loss: 1.0035 - val_accuracy: 0.7052\n",
      "Epoch 10/100\n",
      "6/6 [==============================] - 0s 36ms/step - loss: 0.9440 - accuracy: 0.7219 - val_loss: 0.8599 - val_accuracy: 0.7377\n",
      "Epoch 11/100\n",
      "6/6 [==============================] - 0s 38ms/step - loss: 0.8120 - accuracy: 0.7459 - val_loss: 0.7426 - val_accuracy: 0.7608\n",
      "Epoch 12/100\n",
      "6/6 [==============================] - 0s 36ms/step - loss: 0.7113 - accuracy: 0.7649 - val_loss: 0.6644 - val_accuracy: 0.7717\n",
      "Epoch 13/100\n",
      "6/6 [==============================] - 0s 37ms/step - loss: 0.6437 - accuracy: 0.7799 - val_loss: 0.6131 - val_accuracy: 0.7852\n",
      "Epoch 14/100\n",
      "6/6 [==============================] - 0s 33ms/step - loss: 0.5970 - accuracy: 0.7927 - val_loss: 0.5762 - val_accuracy: 0.7933\n",
      "Epoch 15/100\n",
      "6/6 [==============================] - 0s 34ms/step - loss: 0.5612 - accuracy: 0.8042 - val_loss: 0.5492 - val_accuracy: 0.8012\n",
      "Epoch 16/100\n",
      "6/6 [==============================] - 0s 35ms/step - loss: 0.5332 - accuracy: 0.8144 - val_loss: 0.5279 - val_accuracy: 0.8067\n",
      "Epoch 17/100\n",
      "6/6 [==============================] - 0s 31ms/step - loss: 0.5106 - accuracy: 0.8217 - val_loss: 0.5108 - val_accuracy: 0.8173\n",
      "Epoch 18/100\n",
      "6/6 [==============================] - 0s 38ms/step - loss: 0.4906 - accuracy: 0.8276 - val_loss: 0.4972 - val_accuracy: 0.8223\n",
      "Epoch 19/100\n",
      "6/6 [==============================] - 0s 31ms/step - loss: 0.4746 - accuracy: 0.8328 - val_loss: 0.4864 - val_accuracy: 0.8285\n",
      "Epoch 20/100\n",
      "6/6 [==============================] - 0s 28ms/step - loss: 0.4610 - accuracy: 0.8369 - val_loss: 0.4747 - val_accuracy: 0.8307\n",
      "Epoch 21/100\n",
      "6/6 [==============================] - 0s 38ms/step - loss: 0.4485 - accuracy: 0.8407 - val_loss: 0.4648 - val_accuracy: 0.8345\n",
      "Epoch 22/100\n",
      "6/6 [==============================] - 0s 32ms/step - loss: 0.4378 - accuracy: 0.8442 - val_loss: 0.4589 - val_accuracy: 0.8355\n",
      "Epoch 23/100\n",
      "6/6 [==============================] - 0s 30ms/step - loss: 0.4277 - accuracy: 0.8474 - val_loss: 0.4498 - val_accuracy: 0.8405\n",
      "Epoch 24/100\n",
      "6/6 [==============================] - 0s 36ms/step - loss: 0.4195 - accuracy: 0.8494 - val_loss: 0.4439 - val_accuracy: 0.8425\n",
      "Epoch 25/100\n",
      "6/6 [==============================] - 0s 33ms/step - loss: 0.4119 - accuracy: 0.8528 - val_loss: 0.4402 - val_accuracy: 0.8438\n",
      "Epoch 26/100\n",
      "6/6 [==============================] - 0s 37ms/step - loss: 0.4045 - accuracy: 0.8546 - val_loss: 0.4369 - val_accuracy: 0.8430\n",
      "Epoch 27/100\n",
      "6/6 [==============================] - 0s 28ms/step - loss: 0.3986 - accuracy: 0.8563 - val_loss: 0.4287 - val_accuracy: 0.8493\n",
      "Epoch 28/100\n",
      "6/6 [==============================] - 0s 31ms/step - loss: 0.3920 - accuracy: 0.8582 - val_loss: 0.4260 - val_accuracy: 0.8498\n",
      "Epoch 29/100\n",
      "6/6 [==============================] - 0s 35ms/step - loss: 0.3865 - accuracy: 0.8602 - val_loss: 0.4220 - val_accuracy: 0.8500\n",
      "Epoch 30/100\n",
      "6/6 [==============================] - 0s 33ms/step - loss: 0.3813 - accuracy: 0.8618 - val_loss: 0.4200 - val_accuracy: 0.8507\n",
      "Epoch 31/100\n",
      "6/6 [==============================] - 0s 32ms/step - loss: 0.3763 - accuracy: 0.8639 - val_loss: 0.4162 - val_accuracy: 0.8522\n",
      "Epoch 32/100\n",
      "6/6 [==============================] - 0s 38ms/step - loss: 0.3716 - accuracy: 0.8650 - val_loss: 0.4121 - val_accuracy: 0.8517\n",
      "Epoch 33/100\n",
      "6/6 [==============================] - 0s 39ms/step - loss: 0.3680 - accuracy: 0.8669 - val_loss: 0.4095 - val_accuracy: 0.8555\n",
      "Epoch 34/100\n",
      "6/6 [==============================] - 0s 29ms/step - loss: 0.3639 - accuracy: 0.8682 - val_loss: 0.4078 - val_accuracy: 0.8567\n",
      "Epoch 35/100\n",
      "6/6 [==============================] - 0s 35ms/step - loss: 0.3607 - accuracy: 0.8688 - val_loss: 0.4054 - val_accuracy: 0.8568\n",
      "Epoch 36/100\n",
      "6/6 [==============================] - 0s 34ms/step - loss: 0.3575 - accuracy: 0.8703 - val_loss: 0.4015 - val_accuracy: 0.8580\n",
      "Epoch 37/100\n",
      "6/6 [==============================] - 0s 31ms/step - loss: 0.3527 - accuracy: 0.8719 - val_loss: 0.4017 - val_accuracy: 0.8580\n",
      "Epoch 38/100\n",
      "6/6 [==============================] - 0s 35ms/step - loss: 0.3494 - accuracy: 0.8734 - val_loss: 0.4018 - val_accuracy: 0.8582\n",
      "Epoch 39/100\n",
      "6/6 [==============================] - 0s 34ms/step - loss: 0.3466 - accuracy: 0.8740 - val_loss: 0.3961 - val_accuracy: 0.8592\n",
      "Epoch 40/100\n",
      "6/6 [==============================] - 0s 36ms/step - loss: 0.3427 - accuracy: 0.8762 - val_loss: 0.3940 - val_accuracy: 0.8597\n",
      "Epoch 41/100\n",
      "6/6 [==============================] - 0s 28ms/step - loss: 0.3398 - accuracy: 0.8773 - val_loss: 0.3915 - val_accuracy: 0.8623\n",
      "Epoch 42/100\n",
      "6/6 [==============================] - 0s 28ms/step - loss: 0.3371 - accuracy: 0.8780 - val_loss: 0.3913 - val_accuracy: 0.8628\n",
      "Epoch 43/100\n",
      "6/6 [==============================] - 0s 38ms/step - loss: 0.3349 - accuracy: 0.8788 - val_loss: 0.3900 - val_accuracy: 0.8632\n",
      "Epoch 44/100\n",
      "6/6 [==============================] - 0s 34ms/step - loss: 0.3320 - accuracy: 0.8797 - val_loss: 0.3883 - val_accuracy: 0.8625\n",
      "Epoch 45/100\n",
      "6/6 [==============================] - 0s 32ms/step - loss: 0.3296 - accuracy: 0.8809 - val_loss: 0.3887 - val_accuracy: 0.8607\n",
      "Epoch 46/100\n",
      "6/6 [==============================] - 0s 29ms/step - loss: 0.3279 - accuracy: 0.8808 - val_loss: 0.3869 - val_accuracy: 0.8625\n",
      "Epoch 47/100\n",
      "6/6 [==============================] - 0s 33ms/step - loss: 0.3254 - accuracy: 0.8820 - val_loss: 0.3894 - val_accuracy: 0.8642\n",
      "Epoch 48/100\n",
      "6/6 [==============================] - 0s 32ms/step - loss: 0.3226 - accuracy: 0.8837 - val_loss: 0.3892 - val_accuracy: 0.8642\n",
      "Epoch 49/100\n",
      "6/6 [==============================] - 0s 38ms/step - loss: 0.3207 - accuracy: 0.8845 - val_loss: 0.3853 - val_accuracy: 0.8658\n",
      "Epoch 50/100\n",
      "6/6 [==============================] - 0s 36ms/step - loss: 0.3186 - accuracy: 0.8842 - val_loss: 0.3843 - val_accuracy: 0.8655\n",
      "Epoch 51/100\n",
      "6/6 [==============================] - 0s 34ms/step - loss: 0.3173 - accuracy: 0.8849 - val_loss: 0.3840 - val_accuracy: 0.8658\n",
      "Epoch 52/100\n",
      "6/6 [==============================] - 0s 35ms/step - loss: 0.3147 - accuracy: 0.8875 - val_loss: 0.3835 - val_accuracy: 0.8670\n",
      "Epoch 53/100\n",
      "6/6 [==============================] - 0s 34ms/step - loss: 0.3119 - accuracy: 0.8877 - val_loss: 0.3817 - val_accuracy: 0.8677\n",
      "Epoch 54/100\n",
      "6/6 [==============================] - 0s 31ms/step - loss: 0.3094 - accuracy: 0.8884 - val_loss: 0.3805 - val_accuracy: 0.8668\n",
      "Epoch 55/100\n",
      "6/6 [==============================] - 0s 32ms/step - loss: 0.3077 - accuracy: 0.8891 - val_loss: 0.3794 - val_accuracy: 0.8693\n",
      "Epoch 56/100\n",
      "6/6 [==============================] - 0s 33ms/step - loss: 0.3058 - accuracy: 0.8894 - val_loss: 0.3815 - val_accuracy: 0.8663\n",
      "Epoch 57/100\n",
      "6/6 [==============================] - 0s 31ms/step - loss: 0.3046 - accuracy: 0.8901 - val_loss: 0.3777 - val_accuracy: 0.8680\n",
      "Epoch 58/100\n",
      "6/6 [==============================] - 0s 30ms/step - loss: 0.3033 - accuracy: 0.8899 - val_loss: 0.3792 - val_accuracy: 0.8705\n",
      "Epoch 59/100\n"
     ]
    },
    {
     "name": "stdout",
     "output_type": "stream",
     "text": [
      "6/6 [==============================] - 0s 29ms/step - loss: 0.3009 - accuracy: 0.8909 - val_loss: 0.3815 - val_accuracy: 0.8673\n",
      "Epoch 60/100\n",
      "6/6 [==============================] - 0s 38ms/step - loss: 0.3009 - accuracy: 0.8909 - val_loss: 0.3793 - val_accuracy: 0.8693\n",
      "Epoch 61/100\n",
      "6/6 [==============================] - 0s 34ms/step - loss: 0.2982 - accuracy: 0.8923 - val_loss: 0.3802 - val_accuracy: 0.8707\n",
      "Epoch 62/100\n",
      "6/6 [==============================] - 0s 38ms/step - loss: 0.2964 - accuracy: 0.8923 - val_loss: 0.3762 - val_accuracy: 0.8700\n",
      "Epoch 63/100\n",
      "6/6 [==============================] - 0s 41ms/step - loss: 0.2947 - accuracy: 0.8934 - val_loss: 0.3761 - val_accuracy: 0.8705\n",
      "Epoch 64/100\n",
      "6/6 [==============================] - 0s 38ms/step - loss: 0.2930 - accuracy: 0.8940 - val_loss: 0.3789 - val_accuracy: 0.8688\n",
      "Epoch 65/100\n",
      "6/6 [==============================] - 0s 26ms/step - loss: 0.2913 - accuracy: 0.8943 - val_loss: 0.3753 - val_accuracy: 0.8728\n",
      "Epoch 66/100\n",
      "6/6 [==============================] - 0s 32ms/step - loss: 0.2898 - accuracy: 0.8951 - val_loss: 0.3768 - val_accuracy: 0.8720\n",
      "Epoch 67/100\n",
      "6/6 [==============================] - 0s 36ms/step - loss: 0.2883 - accuracy: 0.8953 - val_loss: 0.3796 - val_accuracy: 0.8700\n",
      "Epoch 68/100\n",
      "6/6 [==============================] - 0s 35ms/step - loss: 0.2876 - accuracy: 0.8958 - val_loss: 0.3778 - val_accuracy: 0.8715\n",
      "Epoch 69/100\n",
      "6/6 [==============================] - 0s 36ms/step - loss: 0.2860 - accuracy: 0.8960 - val_loss: 0.3778 - val_accuracy: 0.8712\n",
      "Epoch 70/100\n",
      "6/6 [==============================] - 0s 37ms/step - loss: 0.2853 - accuracy: 0.8966 - val_loss: 0.3780 - val_accuracy: 0.8715\n",
      "Epoch 71/100\n",
      "6/6 [==============================] - 0s 36ms/step - loss: 0.2839 - accuracy: 0.8973 - val_loss: 0.3797 - val_accuracy: 0.8710\n",
      "Epoch 72/100\n",
      "6/6 [==============================] - 0s 35ms/step - loss: 0.2827 - accuracy: 0.8978 - val_loss: 0.3789 - val_accuracy: 0.8708\n",
      "Epoch 73/100\n",
      "6/6 [==============================] - 0s 30ms/step - loss: 0.2810 - accuracy: 0.8973 - val_loss: 0.3757 - val_accuracy: 0.8705\n",
      "Epoch 74/100\n",
      "6/6 [==============================] - 0s 33ms/step - loss: 0.2794 - accuracy: 0.8987 - val_loss: 0.3765 - val_accuracy: 0.8698\n",
      "Epoch 75/100\n",
      "6/6 [==============================] - 0s 35ms/step - loss: 0.2785 - accuracy: 0.8995 - val_loss: 0.3750 - val_accuracy: 0.8707\n",
      "Epoch 76/100\n",
      "6/6 [==============================] - 0s 37ms/step - loss: 0.2781 - accuracy: 0.8995 - val_loss: 0.3782 - val_accuracy: 0.8712\n",
      "Epoch 77/100\n",
      "6/6 [==============================] - 0s 34ms/step - loss: 0.2767 - accuracy: 0.8995 - val_loss: 0.3790 - val_accuracy: 0.8717\n",
      "Epoch 78/100\n",
      "6/6 [==============================] - 0s 36ms/step - loss: 0.2752 - accuracy: 0.9002 - val_loss: 0.3765 - val_accuracy: 0.8707\n",
      "Epoch 79/100\n",
      "6/6 [==============================] - 0s 37ms/step - loss: 0.2738 - accuracy: 0.9007 - val_loss: 0.3768 - val_accuracy: 0.8705\n",
      "Epoch 80/100\n",
      "6/6 [==============================] - 0s 33ms/step - loss: 0.2722 - accuracy: 0.9014 - val_loss: 0.3775 - val_accuracy: 0.8705\n",
      "Epoch 81/100\n",
      "6/6 [==============================] - 0s 29ms/step - loss: 0.2715 - accuracy: 0.9005 - val_loss: 0.3782 - val_accuracy: 0.8712\n",
      "Epoch 82/100\n",
      "6/6 [==============================] - 0s 30ms/step - loss: 0.2699 - accuracy: 0.9017 - val_loss: 0.3758 - val_accuracy: 0.8715\n",
      "Epoch 83/100\n",
      "6/6 [==============================] - 0s 34ms/step - loss: 0.2693 - accuracy: 0.9022 - val_loss: 0.3754 - val_accuracy: 0.8702\n",
      "Epoch 84/100\n",
      "6/6 [==============================] - 0s 36ms/step - loss: 0.2688 - accuracy: 0.9023 - val_loss: 0.3771 - val_accuracy: 0.8697\n",
      "Epoch 85/100\n",
      "6/6 [==============================] - 0s 35ms/step - loss: 0.2671 - accuracy: 0.9032 - val_loss: 0.3800 - val_accuracy: 0.8708\n",
      "Epoch 86/100\n",
      "6/6 [==============================] - 0s 28ms/step - loss: 0.2664 - accuracy: 0.9026 - val_loss: 0.3797 - val_accuracy: 0.8685\n",
      "Epoch 87/100\n",
      "6/6 [==============================] - 0s 36ms/step - loss: 0.2655 - accuracy: 0.9034 - val_loss: 0.3773 - val_accuracy: 0.8695\n",
      "Epoch 88/100\n",
      "6/6 [==============================] - 0s 31ms/step - loss: 0.2639 - accuracy: 0.9039 - val_loss: 0.3772 - val_accuracy: 0.8703\n",
      "Epoch 89/100\n",
      "6/6 [==============================] - 0s 29ms/step - loss: 0.2630 - accuracy: 0.9044 - val_loss: 0.3772 - val_accuracy: 0.8705\n",
      "Epoch 90/100\n",
      "6/6 [==============================] - 0s 26ms/step - loss: 0.2619 - accuracy: 0.9050 - val_loss: 0.3783 - val_accuracy: 0.8692\n",
      "Epoch 91/100\n",
      "6/6 [==============================] - 0s 35ms/step - loss: 0.2606 - accuracy: 0.9056 - val_loss: 0.3789 - val_accuracy: 0.8715\n",
      "Epoch 92/100\n",
      "6/6 [==============================] - 0s 38ms/step - loss: 0.2600 - accuracy: 0.9060 - val_loss: 0.3784 - val_accuracy: 0.8700\n",
      "Epoch 93/100\n",
      "6/6 [==============================] - 0s 35ms/step - loss: 0.2592 - accuracy: 0.9065 - val_loss: 0.3792 - val_accuracy: 0.8723\n",
      "Epoch 94/100\n",
      "6/6 [==============================] - 0s 35ms/step - loss: 0.2579 - accuracy: 0.9062 - val_loss: 0.3784 - val_accuracy: 0.8702\n",
      "Epoch 95/100\n",
      "6/6 [==============================] - 0s 38ms/step - loss: 0.2575 - accuracy: 0.9069 - val_loss: 0.3794 - val_accuracy: 0.8705\n",
      "Epoch 96/100\n",
      "6/6 [==============================] - 0s 29ms/step - loss: 0.2564 - accuracy: 0.9071 - val_loss: 0.3783 - val_accuracy: 0.8707\n",
      "Epoch 97/100\n",
      "6/6 [==============================] - 0s 36ms/step - loss: 0.2552 - accuracy: 0.9076 - val_loss: 0.3804 - val_accuracy: 0.8717\n",
      "Epoch 98/100\n",
      "6/6 [==============================] - 0s 33ms/step - loss: 0.2546 - accuracy: 0.9075 - val_loss: 0.3817 - val_accuracy: 0.8720\n",
      "Epoch 99/100\n",
      "6/6 [==============================] - 0s 36ms/step - loss: 0.2536 - accuracy: 0.9077 - val_loss: 0.3852 - val_accuracy: 0.8690\n",
      "Epoch 100/100\n",
      "6/6 [==============================] - 0s 34ms/step - loss: 0.2537 - accuracy: 0.9077 - val_loss: 0.3863 - val_accuracy: 0.8693\n"
     ]
    }
   ],
   "source": [
    "hist = model.fit(X_train_pca, y_train, validation_split = 0.1, epochs = 100, batch_size = 10000)"
   ]
  },
  {
   "cell_type": "markdown",
   "id": "e91f50ee",
   "metadata": {},
   "source": [
    "# Evaluate the model"
   ]
  },
  {
   "cell_type": "code",
   "execution_count": 103,
   "id": "9b4de661",
   "metadata": {
    "scrolled": true
   },
   "outputs": [
    {
     "data": {
      "image/png": "[encoded data removed]",
      "text/plain": [
       "<Figure size 640x480 with 1 Axes>"
      ]
     },
     "metadata": {},
     "output_type": "display_data"
    }
   ],
   "source": [
    "hist = hist.history\n",
    "train_accuracy = hist['accuracy']\n",
    "val_accuracy = hist['val_accuracy']\n",
    "epochs = range(1, len(val_accuracy)+1)\n",
    "plt.plot(epochs, train_accuracy, 'bo', label='train accuracy')\n",
    "plt.plot(epochs, val_accuracy, 'b', label='validation accuracy')\n",
    "plt.title('Training and validation accuracy')\n",
    "plt.xlabel('Epochs')\n",
    "plt.ylabel('Accuracy')\n",
    "plt.legend(loc='best')\n",
    "plt.show()"
   ]
  },
  {
   "cell_type": "code",
   "execution_count": 104,
   "id": "4dd95ccf",
   "metadata": {},
   "outputs": [
    {
     "name": "stdout",
     "output_type": "stream",
     "text": [
      "313/313 [==============================] - 1s 3ms/step - loss: 0.3932 - accuracy: 0.8687\n",
      "test loss, test acc: [0.3932354748249054, 0.8687000274658203]\n",
      "313/313 [==============================] - 1s 3ms/step - loss: 0.3932 - accuracy: 0.8687\n",
      "Accuracy: 86.87\n"
     ]
    }
   ],
   "source": [
    "results = model.evaluate(X_test_pca, y_test)\n",
    "print(\"test loss, test acc:\", results)\n",
    "\n",
    "_, accuracy = model.evaluate(X_test_pca, y_test)\n",
    "print('Accuracy: %.2f' % (accuracy*100))"
   ]
  }
 ],
 "metadata": {
  "kernelspec": {
   "display_name": "Python 3 (ipykernel)",
   "language": "python",
   "name": "python3"
  },
  "language_info": {
   "codemirror_mode": {
    "name": "ipython",
    "version": 3
   },
   "file_extension": ".py",
   "mimetype": "text/x-python",
   "name": "python",
   "nbconvert_exporter": "python",
   "pygments_lexer": "ipython3",
   "version": "3.10.0"
  }
 },
 "nbformat": 4,
 "nbformat_minor": 5
}
