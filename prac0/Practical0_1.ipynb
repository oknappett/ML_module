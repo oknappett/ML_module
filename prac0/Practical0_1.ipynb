{
 "cells": [
  {
   "cell_type": "markdown",
   "metadata": {
    "id": "R4ywKkSKi2LL"
   },
   "source": [
    "# Practical 0\n",
    "## Part I. Warming  up \n",
    "\n",
    "# Getting Ready with Colab \n",
    "\n",
    "The easiest thing to run Notebooks is to use some cloud based browser environment such as [Google Colab](https://colab.research.google.com/) that can store your Jupyter Notebook in google drive, or in [Kaggle](www.kaggle.com)'s kernel. \n",
    "\n",
    "For this worksheet, we will just use Colab, you need to create an account either use your google account or your aber email account together with your phone number for two-factor-athentification. \n",
    "\n",
    "\n",
    "Alternatively, if you want to run them in your local computers and without the hassel of managing your own python packages, you can install [Anaconda](https://www.anaconda.com/) which is an easy-to-install bundle of Python and most of the libraries needed for this module (including jupyter lab for running Jupyter notebook). We recommend that you use Anaconda to install the bundle, which should have been installed already in most of the computer labs around the campus. \n",
    "\n",
    "We will not spend much time teaching prorgramming or Python syntax. There are many online tutorials to introduce you to scientific python programming. [Here is one](https://github.com/jrjohansson/scientific-python-lectures) that is very nice. Lectures 1-4 are most relevant to this module.\n",
    "\n",
    "Once setup, play with the notebook and complete the exercises. \n",
    "\n",
    "\n",
    "\n"
   ]
  },
  {
   "cell_type": "code",
   "execution_count": null,
   "metadata": {
    "id": "Xu9jkf82S5Jx"
   },
   "outputs": [],
   "source": []
  },
  {
   "cell_type": "code",
   "execution_count": null,
   "metadata": {
    "id": "6sj_F63YS5iA"
   },
   "outputs": [],
   "source": []
  },
  {
   "cell_type": "code",
   "execution_count": null,
   "metadata": {
    "id": "k1QBaiXLHT5o"
   },
   "outputs": [],
   "source": []
  },
  {
   "cell_type": "markdown",
   "metadata": {
    "id": "9vaV7qOcrHb3"
   },
   "source": [
    "## Getting Python in your own computer\n",
    "\n",
    "This section will help you to setup a machine learning environment in python on your own machine. Feel free to skip it and do it in your own time outside the timetable practical. \n",
    "\n",
    "\n",
    "To install Anaconda, please see: https://docs.anaconda.com/anaconda/install/\n",
    "Avoid using python2 or Anaconda2, as Python 2 series have been retired by April 2020.\n",
    "\n",
    "After opening Anaconda Console and with Python setup, you can download this Jupyter notebook, and open it with Jupyter server by typing\n",
    "```\n",
    "jupyter notebook\n",
    "```\n",
    "This will print some information about the notebook server in your terminal, including the URL of the web application (by default, http://localhost:8888)\n",
    "\n",
    "It will then open your default web browser to this URL. When the notebook opens in your browser, you will see the Notebook Dashboard, which will show a list of the files and subdirectories in the directory where the notebook server was started. Most of the time, you will wish to start a notebook server in the highest level directory containing notebooks. Often this will be your home directory. Alternatively you can start the notebook server with specific notebook directly. \n",
    "\n",
    "```\n",
    "jupyter notebook <downloaded_file>\n",
    "```\n"
   ]
  },
  {
   "cell_type": "markdown",
   "metadata": {
    "id": "sPPFeKIVi2LT"
   },
   "source": [
    "### Opening Jupyter Notebooks\n",
    "\n",
    "To view an Jupyter notebook, you need to start the Jupyter notebook server in the directory where the file lives. Simply navigate to this directory at the command prompt, and type jupyter notebook. This will open a browser window, listing all the ipynb files in that directory.\n",
    "\n",
    "### Updating from older Anaconda versions\n",
    "\n",
    "You can easily update to the latest Anaconda version by updating conda, then Anaconda as follows:\n",
    "\n",
    "- conda update conda\n",
    "- conda update anaconda\n",
    "\n",
    "#### ----------------- #####\n"
   ]
  },
  {
   "cell_type": "markdown",
   "metadata": {
    "id": "EZn4oOXXLfCF"
   },
   "source": [
    "## Notebook specific\n",
    "\n",
    "Jupyter Notebook starts from a kernel, which is a “computational engine” that executes the code contained in a notebook. \n",
    "A cell is a container for text to be displayed in the notebook or code to be executed by the notebook’s kernel. \n",
    "\n",
    "It's like the kernels are running from a virtual machine you can access directly, and can run commands at the VM's terminal, just prefix the line with an exclamation point (!). "
   ]
  },
  {
   "cell_type": "code",
   "execution_count": 1,
   "metadata": {
    "colab": {
     "base_uri": "https://localhost:8080/"
    },
    "id": "ybJ3hK5rLolo",
    "outputId": "a4e5138e-ba49-4334-8f73-a5ca72a74a6c"
   },
   "outputs": [
    {
     "name": "stdout",
     "output_type": "stream",
     "text": [
      "\n",
      "Doing $ls on filesystem\n"
     ]
    },
    {
     "name": "stderr",
     "output_type": "stream",
     "text": [
      "'ls' is not recognized as an internal or external command,\n",
      "operable program or batch file.\n",
      "'pwd' is not recognized as an internal or external command,\n",
      "operable program or batch file.\n"
     ]
    }
   ],
   "source": [
    "print(\"\\nDoing $ls on filesystem\")\n",
    "!ls -l\n",
    "!pwd"
   ]
  },
  {
   "cell_type": "code",
   "execution_count": 2,
   "metadata": {
    "colab": {
     "base_uri": "https://localhost:8080/"
    },
    "id": "R-abO4qaSYn0",
    "outputId": "64ccff8a-7acc-42aa-ba2d-47caae1f0f91"
   },
   "outputs": [
    {
     "name": "stdout",
     "output_type": "stream",
     "text": [
      "Python 3.10.4\n"
     ]
    }
   ],
   "source": [
    "# Check your Python versionn\n",
    "!python --version"
   ]
  },
  {
   "cell_type": "code",
   "execution_count": 3,
   "metadata": {
    "colab": {
     "base_uri": "https://localhost:8080/"
    },
    "id": "Taknu-arMWD_",
    "outputId": "2d68e8d0-86fa-4f9c-c8e3-7c50abc2a48c"
   },
   "outputs": [
    {
     "name": "stdout",
     "output_type": "stream",
     "text": [
      "Install numpy\n",
      "Requirement already satisfied: numpy in c:\\users\\oknap\\anaconda3\\envs\\myenv\\lib\\site-packages (1.22.3)\n"
     ]
    }
   ],
   "source": [
    "print(\"Install numpy\")  # Just for test, numpy is already preinstalled in all Colab instances\n",
    "!pip install numpy"
   ]
  },
  {
   "cell_type": "markdown",
   "metadata": {
    "id": "AERdCS05JkTg"
   },
   "source": [
    "\n",
    "\n",
    "Notebooks are composed of many \"cells\", which can contain text (like this one), or code (like the one below). Double click on the cell below, and evaluate it by clicking the \"play\" button above, for by hitting shift + enter"
   ]
  },
  {
   "cell_type": "code",
   "execution_count": 4,
   "metadata": {
    "colab": {
     "base_uri": "https://localhost:8080/"
    },
    "id": "hfK6N-yHi2LS",
    "outputId": "0e6ded14-8649-41d6-e4d8-8c97885891ad"
   },
   "outputs": [
    {
     "name": "stdout",
     "output_type": "stream",
     "text": [
      "Item is  10\n",
      "Item is  20\n",
      "Item is  30\n",
      "Item is  40\n",
      "Item is  50\n"
     ]
    }
   ],
   "source": [
    "x = [10, 20, 30, 40, 50]\n",
    "for item in x:\n",
    "    print(\"Item is \", item)"
   ]
  },
  {
   "cell_type": "code",
   "execution_count": 1,
   "metadata": {
    "colab": {
     "base_uri": "https://localhost:8080/"
    },
    "id": "sjRHVzasi2LU",
    "outputId": "bd552336-b560-4082-c8c1-d23c255f0d5c"
   },
   "outputs": [
    {
     "name": "stdout",
     "output_type": "stream",
     "text": [
      "IPython version:       8.5.0 (need at least 1.0)\n",
      "Numpy version:        1.22.3 (need at least 1.7.1)\n",
      "SciPy version:         1.7.3 (need at least 0.12.0)\n",
      "Pandas version:        1.4.2 (need at least 0.11.0)\n",
      "Mapltolib version:     3.5.1 (need at least 1.2.1)\n",
      "Scikit-Learn version:  1.0.2 (need at least 0.13.1)\n"
     ]
    },
    {
     "ename": "ModuleNotFoundError",
     "evalue": "No module named 'requests'",
     "output_type": "error",
     "traceback": [
      "\u001b[1;31m---------------------------------------------------------------------------\u001b[0m",
      "\u001b[1;31mModuleNotFoundError\u001b[0m                       Traceback (most recent call last)",
      "Cell \u001b[1;32mIn [1], line 26\u001b[0m\n\u001b[0;32m     23\u001b[0m \u001b[38;5;28mprint\u001b[39m(\u001b[38;5;124m\"\u001b[39m\u001b[38;5;124mScikit-Learn version: \u001b[39m\u001b[38;5;132;01m%6.6s\u001b[39;00m\u001b[38;5;124m (need at least 0.13.1)\u001b[39m\u001b[38;5;124m\"\u001b[39m \u001b[38;5;241m%\u001b[39m sklearn\u001b[38;5;241m.\u001b[39m__version__)\n\u001b[0;32m     25\u001b[0m \u001b[38;5;66;03m# Requests is a library for getting data from the Web\u001b[39;00m\n\u001b[1;32m---> 26\u001b[0m \u001b[38;5;28;01mimport\u001b[39;00m \u001b[38;5;21;01mrequests\u001b[39;00m\n\u001b[0;32m     27\u001b[0m \u001b[38;5;28mprint\u001b[39m(\u001b[38;5;124m\"\u001b[39m\u001b[38;5;124mrequests version:     \u001b[39m\u001b[38;5;132;01m%6.6s\u001b[39;00m\u001b[38;5;124m (need at least 1.2.3)\u001b[39m\u001b[38;5;124m\"\u001b[39m \u001b[38;5;241m%\u001b[39m requests\u001b[38;5;241m.\u001b[39m__version__)\n",
      "\u001b[1;31mModuleNotFoundError\u001b[0m: No module named 'requests'"
     ]
    }
   ],
   "source": [
    "#IPython is what you are using now to run the notebook\n",
    "import IPython\n",
    "print(\"IPython version:      %6.6s (need at least 1.0)\" % IPython.__version__)\n",
    "\n",
    "# Numpy is a library for working with Arrays\n",
    "import numpy as np\n",
    "print(\"Numpy version:        %6.6s (need at least 1.7.1)\" % np.__version__)\n",
    "\n",
    "# SciPy implements many different numerical algorithms\n",
    "import scipy as sp\n",
    "print(\"SciPy version:        %6.6s (need at least 0.12.0)\" % sp.__version__)\n",
    "\n",
    "# Pandas makes working with data tables easier\n",
    "import pandas as pd\n",
    "print(\"Pandas version:       %6.6s (need at least 0.11.0)\" % pd.__version__)\n",
    "\n",
    "# Module for plotting\n",
    "import matplotlib\n",
    "print(\"Mapltolib version:    %6.6s (need at least 1.2.1)\" % matplotlib.__version__)\n",
    "\n",
    "# SciKit Learn implements several Machine Learning algorithms\n",
    "import sklearn\n",
    "print(\"Scikit-Learn version: %6.6s (need at least 0.13.1)\" % sklearn.__version__)\n",
    "\n",
    "# Requests is a library for getting data from the Web\n",
    "import requests\n",
    "print(\"requests version:     %6.6s (need at least 1.2.3)\" % requests.__version__)\n"
   ]
  },
  {
   "cell_type": "markdown",
   "metadata": {
    "id": "y9nkgHpoi2LU"
   },
   "source": [
    "If any of these libraries are missing or out of date, you will need to install them (using e.g. pip install <libraryname> or conda install <libraryname>) and restart. "
   ]
  },
  {
   "cell_type": "markdown",
   "metadata": {
    "id": "iSHho1Vti2LU"
   },
   "source": [
    "## Hello matplotlib"
   ]
  },
  {
   "cell_type": "markdown",
   "metadata": {
    "id": "xPzNSf9Xi2LV"
   },
   "source": [
    "The notebook integrates nicely with Matplotlib, the primary plotting package for python. This should embed a figure of a sine wave:"
   ]
  },
  {
   "cell_type": "code",
   "execution_count": 13,
   "metadata": {
    "colab": {
     "base_uri": "https://localhost:8080/",
     "height": 296
    },
    "id": "EqMenkFSi2LV",
    "outputId": "225017ea-2e51-4f42-bce5-8b4da8f9b330"
   },
   "outputs": [
    {
     "data": {
      "text/plain": [
       "Text(0, 0.5, 'Y axis')"
      ]
     },
     "execution_count": 13,
     "metadata": {},
     "output_type": "execute_result"
    },
    {
     "data": {
      "image/png": "[encoded data removed]",
      "text/plain": [
       "<Figure size 640x480 with 1 Axes>"
      ]
     },
     "metadata": {},
     "output_type": "display_data"
    }
   ],
   "source": [
    "#prepares IPython for working with matplotlib\n",
    "# for static plot\n",
    "%matplotlib inline     \n",
    "# for interactive plot\n",
    "#%matplotlib notebook  \n",
    "\n",
    "# this actually imports matplotlib\n",
    "import matplotlib.pyplot as plt  \n",
    "\n",
    "x = np.linspace(0, 10, 30)  #array of 30 points from 0 to 10\n",
    "y = np.sin(x)\n",
    "z = y + np.random.normal(size=30) * .2\n",
    "plt.plot(x, y, 'ro-', label='A sine wave')\n",
    "plt.plot(x, z, 'b-', label='Noisy sine')\n",
    "plt.legend(loc = 'lower right')\n",
    "plt.xlabel(\"X axis\")\n",
    "plt.ylabel(\"Y axis\")           "
   ]
  },
  {
   "cell_type": "markdown",
   "metadata": {
    "id": "j6mpI36pi2LV"
   },
   "source": [
    "## Hello Numpy\n",
    "\n",
    "\n",
    "The numpy array processing library is used in almost all numerical computation in Python. It is a package that provide high-performance vector, matrix and higher-dimensional data structures for Python. It is implemented in C and Fortran so when calculations are vectorized (formulated with vectors and matrices), performance is very good.\n",
    "\n",
    "Here's a 60 second crash course. For more details, consult Numpy's tutorial https://numpy.org/devdocs/user/quickstart.html"
   ]
  },
  {
   "cell_type": "code",
   "execution_count": 8,
   "metadata": {
    "colab": {
     "base_uri": "https://localhost:8080/"
    },
    "id": "cZZLFUDVi2LW",
    "outputId": "f1df5153-5fe6-49b8-a55b-92c79f8fb86b",
    "scrolled": true
   },
   "outputs": [
    {
     "name": "stdout",
     "output_type": "stream",
     "text": [
      "Create a 2 row x 4column array from a list \n",
      "[[1 2 3 4]\n",
      " [5 6 7 8]]\n",
      "Add 1 to every element\n",
      "[[2 3 4 5]\n",
      " [6 7 8 9]]\n",
      "Get the element at row 1, column 2\n",
      "8\n"
     ]
    }
   ],
   "source": [
    "print(\"Create a 2 row x 4column array from a list \")\n",
    "x = np.array([[1, 2, 3, 4], [5, 6, 7, 8]])\n",
    "print(x)\n",
    "print \n",
    "\n",
    "print(\"Add 1 to every element\")\n",
    "x = x + 1\n",
    "print(x)\n",
    "print\n",
    "\n",
    "print(\"Get the element at row 1, column 2\")\n",
    "print(x[1, 2])"
   ]
  },
  {
   "cell_type": "code",
   "execution_count": 3,
   "metadata": {
    "colab": {
     "base_uri": "https://localhost:8080/"
    },
    "id": "ASx2lUTSi2LW",
    "outputId": "8e209d7d-94c9-4410-f457-d5e593c9592b"
   },
   "outputs": [
    {
     "name": "stdout",
     "output_type": "stream",
     "text": [
      "Make a 3 row x 4 column array of random numbers\n",
      "[[0.66391072 0.08250085 0.16466318 0.17425126]\n",
      " [0.2895503  0.88998033 0.04560227 0.38979489]\n",
      " [0.16323165 0.60167085 0.56689102 0.90172844]]\n",
      "Get the first row\n",
      "[0.66391072 0.08250085 0.16466318 0.17425126]\n",
      "Get every 2nd column of the first row\n",
      "[0.66391072 0.16466318]\n",
      "Get the last 2 columns\n",
      "[[0.16466318 0.17425126]\n",
      " [0.04560227 0.38979489]\n",
      " [0.56689102 0.90172844]]\n"
     ]
    }
   ],
   "source": [
    "print(\"Make a 3 row x 4 column array of random numbers\")\n",
    "x = np.random.random((3, 4))\n",
    "print(x)\n",
    "print\n",
    "\n",
    "# The colon syntax is called \"slicing\" the array. \n",
    "#   a[start:end] # items start through the end (but the end is not included!)\n",
    "#   a[start:]    # items start through the rest of the array\n",
    "#   a[:end]      # items from the beginning through the end (but the end is not included!)\n",
    "print(\"Get the first row\")\n",
    "print(x[0, :])\n",
    "print\n",
    "\n",
    "print(\"Get every 2nd column of the first row\")\n",
    "print(x[0, ::2])\n",
    "print\n",
    "\n",
    "print(\"Get the last 2 columns\")\n",
    "print(x[:, -2:])"
   ]
  },
  {
   "cell_type": "markdown",
   "metadata": {
    "id": "zw8wKIlAi2LW"
   },
   "source": [
    "Exercise 1: Print the maximum, minimum, and mean of the array. This does **not** require writing a loop. In the code cell below, type `x.m<TAB>`, to find built-in operations for common array statistics like this e.g. x.max, x.min, x.mean"
   ]
  },
  {
   "cell_type": "code",
   "execution_count": 6,
   "metadata": {
    "id": "3QEO6c1ri2LX"
   },
   "outputs": [
    {
     "name": "stdout",
     "output_type": "stream",
     "text": [
      "Max: 0.901\n",
      "Min: 0.045\n",
      "Mean: 0.411\n"
     ]
    }
   ],
   "source": [
    "#your code here\n",
    "print(\"Max: %.5s\" % (x.max()))\n",
    "print(\"Min: %.5s\" % (x.min()))\n",
    "print(\"Mean: %.5s\" % (x.mean()))"
   ]
  },
  {
   "cell_type": "markdown",
   "metadata": {
    "id": "A3hgvBC3i2LX"
   },
   "source": [
    "Exercise 2: Call the `x.max` function again, but use the `axis` keyword to print the maximum of each row in x."
   ]
  },
  {
   "cell_type": "code",
   "execution_count": 12,
   "metadata": {
    "id": "_HWiW0hni2LX"
   },
   "outputs": [
    {
     "name": "stdout",
     "output_type": "stream",
     "text": [
      "Max of row 1: [0.66391072 0.88998033 0.90172844]\n"
     ]
    }
   ],
   "source": [
    "#your code here\n",
    "print(\"Max of row 1: %s\" % (x.max(axis=1)))\n"
   ]
  },
  {
   "cell_type": "markdown",
   "metadata": {
    "id": "m0Q-LY7Bi2LX"
   },
   "source": [
    "Here's a way to quickly simulate 500 coin \"fair\" coin tosses (where the probabily of getting Heads is 50%, or 0.5)"
   ]
  },
  {
   "cell_type": "code",
   "execution_count": null,
   "metadata": {
    "colab": {
     "base_uri": "https://localhost:8080/"
    },
    "collapsed": true,
    "id": "uSwN3uRIi2LX",
    "outputId": "a0ecb364-68e1-4545-e6b4-d4cf3d9194bf"
   },
   "outputs": [
    {
     "name": "stdout",
     "output_type": "stream",
     "text": [
      "number of heads: 261\n"
     ]
    }
   ],
   "source": [
    "x = np.random.binomial(500, .5)\n",
    "print(\"number of heads:\", x)"
   ]
  },
  {
   "cell_type": "markdown",
   "metadata": {
    "id": "f2M7-6Ssi2LY"
   },
   "source": [
    "Exercise 3: \n",
    "\n",
    "Repeat this simulation 500 times, and use the [plt.hist() function](https://matplotlib.org/3.6.3/plot_types/stats/hist_plot.html) to plot a histogram of the number of Heads (1s) in each simulation"
   ]
  },
  {
   "cell_type": "code",
   "execution_count": 37,
   "metadata": {
    "id": "poPexaOai2LY"
   },
   "outputs": [
    {
     "data": {
      "text/plain": [
       "Text(0, 0.5, 'frequency')"
      ]
     },
     "execution_count": 37,
     "metadata": {},
     "output_type": "execute_result"
    },
    {
     "data": {
      "image/png": "[encoded data removed]",
      "text/plain": [
       "<Figure size 640x480 with 1 Axes>"
      ]
     },
     "metadata": {},
     "output_type": "display_data"
    }
   ],
   "source": [
    "# Your code here\n",
    "heads = []\n",
    "for i in range(500):\n",
    "    x = np.random.binomial(500, 0.5)\n",
    "    heads.append(x)\n",
    "    \n",
    "plt.hist(heads)\n",
    "plt.xlabel(\"no. heads\")\n",
    "plt.ylabel(\"frequency\")"
   ]
  },
  {
   "cell_type": "markdown",
   "metadata": {
    "id": "01jvOv0ji2LY"
   },
   "source": [
    "More on Numpy N-dimentional array: shape, ndim, and dtype"
   ]
  },
  {
   "cell_type": "code",
   "execution_count": null,
   "metadata": {
    "colab": {
     "base_uri": "https://localhost:8080/"
    },
    "id": "YQhCIyPoi2LY",
    "outputId": "16c0ad91-e127-42c1-bf4f-41465ccd6d1b"
   },
   "outputs": [
    {
     "name": "stdout",
     "output_type": "stream",
     "text": [
      "[0 1 2 3 4 2 2 2 2 2 0 0 0 0 0]\n",
      "shape:  (15,)\n",
      "ndim:  1\n",
      "[[0 1 2 3 4]\n",
      " [2 2 2 2 2]\n",
      " [0 0 0 0 0]]\n",
      "shape:  (3, 5)\n",
      "ndim:  2\n",
      "dtype:  int8\n",
      "type:  <class 'numpy.ndarray'>\n"
     ]
    }
   ],
   "source": [
    "# arange to return a vector of evenly spaced values within a given interval.\n",
    "x = np.arange(5) # arange(start(default 0), end (end not included), interval (default 1) )\n",
    "x = np.append(x, np.ones(5)*2)\n",
    "x = np.append(x, np.zeros(5))\n",
    "x = x.astype(np.int8)\n",
    "print(x)\n",
    "print(\"shape: \", x.shape)\n",
    "print(\"ndim: \", x.ndim)\n",
    "\n",
    "\n",
    "# now reshape the vector to a matrix or an array of 3 rows and 5 columns\n",
    "x = x.reshape(3, 5)\n",
    "print(x)\n",
    "print(\"shape: \", x.shape)\n",
    "print(\"ndim: \", x.ndim)\n",
    "print(\"dtype: \", x.dtype.name)\n",
    "print(\"type: \", type(x))"
   ]
  },
  {
   "cell_type": "code",
   "execution_count": null,
   "metadata": {
    "collapsed": true,
    "id": "Fz2rQGE_i2LY"
   },
   "outputs": [],
   "source": []
  },
  {
   "cell_type": "markdown",
   "metadata": {
    "id": "qVkoJxfNi2LZ"
   },
   "source": [
    "\n",
    "- \n",
    "- \n",
    "- \n",
    "- \n",
    "- \n",
    "- \n",
    "- \n",
    "- \n",
    "- \n",
    "- \n",
    "- \n",
    "- \n",
    "- \n",
    "- \n",
    "- \n",
    "- \n",
    "- \n",
    "- \n",
    "- \n",
    "- \n",
    "- \n",
    "- \n",
    "- \n",
    "- \n",
    "- \n",
    "- \n",
    "- \n",
    "- \n",
    "- \n",
    "- \n",
    "- \n",
    "- \n",
    "- \n",
    "- \n",
    "- \n",
    "Note: This notebook is adapted from https://github.com/cs109/content/blob/master/HW0.ipynb \n",
    "\n",
    "# Solutions\n",
    "\n",
    "Exercise 1\n",
    "\n",
    "Print the maximum, minimum, and mean of the array. This does not require writing a loop. In the code cell below, type x.m<TAB>, to find built-in operations for common array statistics like this e.g. x.max, x.min, x.mean"
   ]
  },
  {
   "cell_type": "code",
   "execution_count": null,
   "metadata": {
    "collapsed": true,
    "id": "ztBpbnwVi2LZ"
   },
   "outputs": [],
   "source": [
    "#your code here\n",
    "print(\"Max is  \", x.max())\n",
    "print(\"Min is  \", x.min())\n",
    "print(\"Mean is \", x.mean())"
   ]
  },
  {
   "cell_type": "markdown",
   "metadata": {
    "id": "KGsNyYEei2La"
   },
   "source": [
    "Exercise 2\n",
    "Call the `x.max` function again, but use the `axis` keyword to print the maximum of each row in x."
   ]
  },
  {
   "cell_type": "code",
   "execution_count": null,
   "metadata": {
    "collapsed": true,
    "id": "xdi4avEdi2La"
   },
   "outputs": [],
   "source": [
    "print(x.max(axis=1))"
   ]
  },
  {
   "cell_type": "markdown",
   "metadata": {
    "collapsed": true,
    "id": "xSDTPShci2La"
   },
   "source": [
    "Exercise 3\n",
    "\n",
    "Repeat this simulation 500 times, and use the [plt.hist() function](http://matplotlib.org/api/pyplot_api.html#matplotlib.pyplot.hist) to plot a histogram of the number of Heads (1s) in each simulation"
   ]
  },
  {
   "cell_type": "code",
   "execution_count": null,
   "metadata": {
    "collapsed": true,
    "id": "dYbvx_GJi2La"
   },
   "outputs": [],
   "source": [
    "#Solution:\n",
    "# 3 ways to run the simulations, store numbers in a list or a numpy array\n",
    "\n",
    "# loop\n",
    "heads = []\n",
    "for i in range(500):\n",
    "    heads.append(np.random.binomial(500, .5))\n",
    "\n",
    "# \"list comprehension\"\n",
    "heads = [np.random.binomial(500, .5) for i in range(500)]\n",
    "\n",
    "# pure numpy\n",
    "heads = np.random.binomial(500, .5, size=500)\n",
    "\n",
    "histogram = plt.hist(heads, bins=10)"
   ]
  }
 ],
 "metadata": {
  "colab": {
   "collapsed_sections": [
    "qVkoJxfNi2LZ"
   ],
   "name": "Practical0-1.ipynb",
   "provenance": []
  },
  "kernelspec": {
   "display_name": "Python 3 (ipykernel)",
   "language": "python",
   "name": "python3"
  },
  "language_info": {
   "codemirror_mode": {
    "name": "ipython",
    "version": 3
   },
   "file_extension": ".py",
   "mimetype": "text/x-python",
   "name": "python",
   "nbconvert_exporter": "python",
   "pygments_lexer": "ipython3",
   "version": "3.10.4"
  }
 },
 "nbformat": 4,
 "nbformat_minor": 1
}
