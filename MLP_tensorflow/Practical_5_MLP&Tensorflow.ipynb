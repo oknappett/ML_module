{
 "cells": [
  {
   "cell_type": "markdown",
   "metadata": {
    "id": "pC_My_TCs0Lz"
   },
   "source": [
    "# A first look at artificial neural networks\n",
    "\n",
    "## Artificial Neural Networks\n",
    "\n",
    "Artificial Neural Networks (ANNs) are computational processing systems that are heavily inspired by the way biological nervous systems function. The basic structure of an ANN can be visually conceptualised like:\n",
    "\n",
    "<a title=\"Glosser.ca, CC BY-SA 3.0 &lt;https://creativecommons.org/licenses/by-sa/3.0&gt;, via Wikimedia Commons\" href=\"https://commons.wikimedia.org/wiki/File:Colored_neural_network.svg\"><img width=\"256\" alt=\"Colored neural network\" src=\"https://upload.wikimedia.org/wikipedia/commons/thumb/4/46/Colored_neural_network.svg/256px-Colored_neural_network.svg.png\"></a>\n",
    "\n",
    "**Figure 1:** A simple three layered fully connected feedforward neural network (FNN), aka Multi-layer perceptrons (MLPs),comprisedof a input layer, a hidden layer and an output layer.\n",
    "\n"
   ]
  },
  {
   "cell_type": "markdown",
   "metadata": {
    "id": "sjhFVOzTs0L9"
   },
   "source": [
    "## Neural network modelling frameworks\n",
    "\n",
    "#### Tensorflow and Keras \n",
    "Keras (https://keras.io) is a highlevel and easy-to-use API built on top of Tensorflow (https://www.tensorflow.org) for developing and evaluating deep learning models. It was developed with a focus on enabling fast experimentation. \n",
    "\n",
    "In this worksheet, you will learn how to create a neural network using Tensorflow Keras API. \n",
    "\n",
    "Neural network models are trained by gradient descent. As we perform computations, Tensorflow memorises the computation graph that we build up. When it comes to compute the gradient, tensorflow can trace back over the computation graph (using the backpropagation algorithm) and work out all the required gradients (handled in TensorFlow via the [GradientTape](https://www.tensorflow.org/api_docs/python/tf/GradientTape) object). \n",
    "\n",
    "When we build models with Keras, we don't usually have to worry about low level computation. High-level deep learning concepts translate to Keras APIs:\n",
    "\n",
    "- **Layers**, which are combined into a model A loss function, which defines the feedback signal used for learning\n",
    "- An **optimizer**, which determines how learning proceeds Metrics to evaluate model performance, such as accuracy\n",
    "- A training loop that performs **mini-batch** stochastic gradient descent\n",
    "\n",
    "Colab has got Tensorflow installed already. It is recommended to run this notebooke using Colab (https://colab.research.google.com/), or on your own computer after proper libraries including Tensorflow has been installed. In case you use Anaconda or miniconda and haven't got installed Tensorflow yet, you can do it following the instruction here:\n",
    "https://docs.anaconda.com/anaconda/user-guide/tasks/tensorflow/\n",
    "\n",
    "If you are not sure if you have got a suitable GPU, you can start with installing Tensorflow for CPU only.\n",
    "\n",
    "If you have trouble installing Tensorflow in your computer, or your computer does not have sufficient computational power, it would be easier to switch to Colab, or Kaggle kernel, or use some virtual machine in the cloud, where better computational resources (for RAM, CPU, GPU) are available. "
   ]
  },
  {
   "cell_type": "code",
   "execution_count": 45,
   "metadata": {},
   "outputs": [
    {
     "name": "stdout",
     "output_type": "stream",
     "text": [
      "Requirement already satisfied: tensorflow in /home/ollie/anaconda3/lib/python3.9/site-packages (2.11.0)\n",
      "Requirement already satisfied: libclang>=13.0.0 in /home/ollie/anaconda3/lib/python3.9/site-packages (from tensorflow) (15.0.6.1)\n",
      "Requirement already satisfied: gast<=0.4.0,>=0.2.1 in /home/ollie/anaconda3/lib/python3.9/site-packages (from tensorflow) (0.4.0)\n",
      "Requirement already satisfied: grpcio<2.0,>=1.24.3 in /home/ollie/anaconda3/lib/python3.9/site-packages (from tensorflow) (1.42.0)\n",
      "Requirement already satisfied: numpy>=1.20 in /home/ollie/anaconda3/lib/python3.9/site-packages (from tensorflow) (1.22.4)\n",
      "Requirement already satisfied: six>=1.12.0 in /home/ollie/anaconda3/lib/python3.9/site-packages (from tensorflow) (1.16.0)\n",
      "Requirement already satisfied: h5py>=2.9.0 in /home/ollie/anaconda3/lib/python3.9/site-packages (from tensorflow) (3.6.0)\n",
      "Requirement already satisfied: flatbuffers>=2.0 in /home/ollie/anaconda3/lib/python3.9/site-packages (from tensorflow) (23.1.21)\n",
      "Requirement already satisfied: setuptools in /home/ollie/anaconda3/lib/python3.9/site-packages (from tensorflow) (61.2.0)\n",
      "Requirement already satisfied: protobuf<3.20,>=3.9.2 in /home/ollie/anaconda3/lib/python3.9/site-packages (from tensorflow) (3.19.1)\n",
      "Requirement already satisfied: wrapt>=1.11.0 in /home/ollie/anaconda3/lib/python3.9/site-packages (from tensorflow) (1.12.1)\n",
      "Requirement already satisfied: google-pasta>=0.1.1 in /home/ollie/anaconda3/lib/python3.9/site-packages (from tensorflow) (0.2.0)\n",
      "Requirement already satisfied: keras<2.12,>=2.11.0 in /home/ollie/anaconda3/lib/python3.9/site-packages (from tensorflow) (2.11.0)\n",
      "Requirement already satisfied: opt-einsum>=2.3.2 in /home/ollie/anaconda3/lib/python3.9/site-packages (from tensorflow) (3.3.0)\n",
      "Requirement already satisfied: absl-py>=1.0.0 in /home/ollie/anaconda3/lib/python3.9/site-packages (from tensorflow) (1.4.0)\n",
      "Requirement already satisfied: termcolor>=1.1.0 in /home/ollie/anaconda3/lib/python3.9/site-packages (from tensorflow) (2.2.0)\n",
      "Requirement already satisfied: tensorflow-estimator<2.12,>=2.11.0 in /home/ollie/anaconda3/lib/python3.9/site-packages (from tensorflow) (2.11.0)\n",
      "Requirement already satisfied: tensorboard<2.12,>=2.11 in /home/ollie/anaconda3/lib/python3.9/site-packages (from tensorflow) (2.11.2)\n",
      "Requirement already satisfied: typing-extensions>=3.6.6 in /home/ollie/anaconda3/lib/python3.9/site-packages (from tensorflow) (4.1.1)\n",
      "Requirement already satisfied: astunparse>=1.6.0 in /home/ollie/anaconda3/lib/python3.9/site-packages (from tensorflow) (1.6.3)\n",
      "Requirement already satisfied: packaging in /home/ollie/anaconda3/lib/python3.9/site-packages (from tensorflow) (21.3)\n",
      "Requirement already satisfied: tensorflow-io-gcs-filesystem>=0.23.1 in /home/ollie/anaconda3/lib/python3.9/site-packages (from tensorflow) (0.31.0)\n",
      "Requirement already satisfied: wheel<1.0,>=0.23.0 in /home/ollie/anaconda3/lib/python3.9/site-packages (from astunparse>=1.6.0->tensorflow) (0.37.1)\n",
      "Requirement already satisfied: tensorboard-plugin-wit>=1.6.0 in /home/ollie/anaconda3/lib/python3.9/site-packages (from tensorboard<2.12,>=2.11->tensorflow) (1.8.1)\n",
      "Requirement already satisfied: markdown>=2.6.8 in /home/ollie/anaconda3/lib/python3.9/site-packages (from tensorboard<2.12,>=2.11->tensorflow) (3.3.4)\n",
      "Requirement already satisfied: tensorboard-data-server<0.7.0,>=0.6.0 in /home/ollie/anaconda3/lib/python3.9/site-packages (from tensorboard<2.12,>=2.11->tensorflow) (0.6.1)\n",
      "Requirement already satisfied: google-auth-oauthlib<0.5,>=0.4.1 in /home/ollie/anaconda3/lib/python3.9/site-packages (from tensorboard<2.12,>=2.11->tensorflow) (0.4.6)\n",
      "Requirement already satisfied: werkzeug>=1.0.1 in /home/ollie/anaconda3/lib/python3.9/site-packages (from tensorboard<2.12,>=2.11->tensorflow) (2.0.3)\n",
      "Requirement already satisfied: requests<3,>=2.21.0 in /home/ollie/anaconda3/lib/python3.9/site-packages (from tensorboard<2.12,>=2.11->tensorflow) (2.27.1)\n",
      "Requirement already satisfied: google-auth<3,>=1.6.3 in /home/ollie/anaconda3/lib/python3.9/site-packages (from tensorboard<2.12,>=2.11->tensorflow) (1.33.0)\n",
      "Requirement already satisfied: rsa<5,>=3.1.4 in /home/ollie/anaconda3/lib/python3.9/site-packages (from google-auth<3,>=1.6.3->tensorboard<2.12,>=2.11->tensorflow) (4.7.2)\n",
      "Requirement already satisfied: pyasn1-modules>=0.2.1 in /home/ollie/anaconda3/lib/python3.9/site-packages (from google-auth<3,>=1.6.3->tensorboard<2.12,>=2.11->tensorflow) (0.2.8)\n",
      "Requirement already satisfied: cachetools<5.0,>=2.0.0 in /home/ollie/anaconda3/lib/python3.9/site-packages (from google-auth<3,>=1.6.3->tensorboard<2.12,>=2.11->tensorflow) (4.2.2)\n",
      "Requirement already satisfied: requests-oauthlib>=0.7.0 in /home/ollie/anaconda3/lib/python3.9/site-packages (from google-auth-oauthlib<0.5,>=0.4.1->tensorboard<2.12,>=2.11->tensorflow) (1.3.1)\n",
      "Requirement already satisfied: pyasn1<0.5.0,>=0.4.6 in /home/ollie/anaconda3/lib/python3.9/site-packages (from pyasn1-modules>=0.2.1->google-auth<3,>=1.6.3->tensorboard<2.12,>=2.11->tensorflow) (0.4.8)\n",
      "Requirement already satisfied: charset-normalizer~=2.0.0 in /home/ollie/anaconda3/lib/python3.9/site-packages (from requests<3,>=2.21.0->tensorboard<2.12,>=2.11->tensorflow) (2.0.4)\n",
      "Requirement already satisfied: certifi>=2017.4.17 in /home/ollie/anaconda3/lib/python3.9/site-packages (from requests<3,>=2.21.0->tensorboard<2.12,>=2.11->tensorflow) (2021.10.8)\n",
      "Requirement already satisfied: urllib3<1.27,>=1.21.1 in /home/ollie/anaconda3/lib/python3.9/site-packages (from requests<3,>=2.21.0->tensorboard<2.12,>=2.11->tensorflow) (1.26.9)\n",
      "Requirement already satisfied: idna<4,>=2.5 in /home/ollie/anaconda3/lib/python3.9/site-packages (from requests<3,>=2.21.0->tensorboard<2.12,>=2.11->tensorflow) (3.3)\n",
      "Requirement already satisfied: oauthlib>=3.0.0 in /home/ollie/anaconda3/lib/python3.9/site-packages (from requests-oauthlib>=0.7.0->google-auth-oauthlib<0.5,>=0.4.1->tensorboard<2.12,>=2.11->tensorflow) (3.2.2)\n",
      "Requirement already satisfied: pyparsing!=3.0.5,>=2.0.2 in /home/ollie/anaconda3/lib/python3.9/site-packages (from packaging->tensorflow) (3.0.4)\n"
     ]
    }
   ],
   "source": [
    "!pip install tensorflow"
   ]
  },
  {
   "cell_type": "code",
   "execution_count": 46,
   "metadata": {
    "id": "J4B06ZDAs0L9"
   },
   "outputs": [
    {
     "name": "stdout",
     "output_type": "stream",
     "text": [
      "2.11.0\n"
     ]
    }
   ],
   "source": [
    "# Import tensorflow, check version\n",
    "import tensorflow as tf\n",
    "from tensorflow import keras\n",
    "print(tf.__version__)"
   ]
  },
  {
   "cell_type": "markdown",
   "metadata": {
    "id": "t27Ccl11IyIU"
   },
   "source": [
    "### Tensor\n",
    "In general, all current machine-learning systems use tensors as their basic data structure — usually for numerical data. \n",
    "\n",
    "Tensors are a generalization of matrices to an arbitrary number of dimensions (note that a dimension is often called an axis in a tensor). NumPy arrays can be called tensors.\n",
    "\n",
    "* Scalar (rank-0 tensor).\n",
    "* Vectors (rank-1 tensor).\n",
    "* Matrices: rank-2 tensors.\n",
    "* Rank-3 tensors and higher-rank tensors (e.g. array x below are Rank-3 tensors)"
   ]
  },
  {
   "cell_type": "code",
   "execution_count": 47,
   "metadata": {
    "id": "uMuSjBg2LO7m"
   },
   "outputs": [
    {
     "name": "stdout",
     "output_type": "stream",
     "text": [
      "3\n",
      "(3, 3, 5)\n"
     ]
    }
   ],
   "source": [
    "import numpy as np\n",
    "x = np.array([[[5, 78, 2, 34, 0],\n",
    "                   [6, 79, 3, 35, 1],\n",
    "                   [7, 80, 4, 36, 2]],\n",
    "                  [[5, 78, 2, 34, 0],\n",
    "                   [6, 79, 3, 35, 1],\n",
    "                   [7, 80, 4, 36, 2]],\n",
    "                  [[5, 78, 2, 34, 0],\n",
    "                   [6, 79, 3, 35, 1],\n",
    "                   [7, 80, 4, 36, 2]]])\n",
    "print(x.ndim)\n",
    "print(x.shape)"
   ]
  },
  {
   "cell_type": "code",
   "execution_count": 48,
   "metadata": {
    "id": "6n9R6Hhnho6r"
   },
   "outputs": [
    {
     "name": "stdout",
     "output_type": "stream",
     "text": [
      "tf.Tensor(\n",
      "[[1.]\n",
      " [1.]], shape=(2, 1), dtype=float32)\n",
      "tf.Tensor(\n",
      "[[0.]\n",
      " [0.]], shape=(2, 1), dtype=float32)\n",
      "tf.Tensor(\n",
      "[[ 0.84370613]\n",
      " [-0.21991567]\n",
      " [ 1.3297359 ]], shape=(3, 1), dtype=float32)\n",
      "tf.Tensor(\n",
      "[[ 0.746752  ]\n",
      " [-0.4126613 ]\n",
      " [ 0.20356321]], shape=(3, 1), dtype=float32)\n",
      "0\n"
     ]
    }
   ],
   "source": [
    "# Constant tensors (Not assignable!!)\n",
    "# All ones/zero tensors\n",
    "x = tf.ones(shape=(2, 1))\n",
    "print(x)\n",
    "x = tf.zeros(shape=(2, 1))\n",
    "print(x)\n",
    "\n",
    "# Random tensors\n",
    "x = tf.random.normal(shape=(3, 1), mean=0., stddev=1.) \n",
    "print(x)\n",
    "\n",
    "x = tf.random.uniform(shape=(3, 1), minval=-1., maxval=1.) \n",
    "print(x)\n",
    "\n",
    "x = 0 # Scalar\n",
    "print(x)"
   ]
  },
  {
   "cell_type": "code",
   "execution_count": 49,
   "metadata": {
    "id": "mMmqo54dhsDV"
   },
   "outputs": [],
   "source": [
    "# Unlike numpy array, tensor constant is not assignable.\n",
    "# see e.g. error raised when trying to assign a value to tensor constant\n",
    "# import numpy as np\n",
    "# x = np.ones(shape=(2, 2))\n",
    "# x[0, 0] = 0.\n",
    "\n",
    "# x = tf.ones(shape=(2,2))\n",
    "# x[0, 0] = 0."
   ]
  },
  {
   "cell_type": "code",
   "execution_count": 50,
   "metadata": {
    "id": "vkaaoC0Ohswi"
   },
   "outputs": [
    {
     "name": "stdout",
     "output_type": "stream",
     "text": [
      "<tf.Variable 'Variable:0' shape=(3, 1) dtype=float32, numpy=\n",
      "array([[-1.96668  ],\n",
      "       [ 1.8396829],\n",
      "       [-0.8878814]], dtype=float32)>\n",
      "<tf.Variable 'Variable:0' shape=(3, 1) dtype=float32, numpy=\n",
      "array([[1.],\n",
      "       [1.],\n",
      "       [1.]], dtype=float32)>\n",
      "<tf.Variable 'Variable:0' shape=(3, 1) dtype=float32, numpy=\n",
      "array([[0.],\n",
      "       [1.],\n",
      "       [1.]], dtype=float32)>\n"
     ]
    }
   ],
   "source": [
    "# To modify tensors, tensor Variabble is used in tensorflow\n",
    "v = tf.Variable(initial_value=tf.random.normal(shape=(3, 1)))\n",
    "print(v)\n",
    "\n",
    "# Assign values to a tensor variable\n",
    "v.assign(tf.ones((3, 1)))\n",
    "print(v)\n",
    "\n",
    "# Modify element with index [0,0] in tensor variable v to 0\n",
    "# Your code here\n",
    "v[0,0].assign(0)\n",
    "print(v)"
   ]
  },
  {
   "cell_type": "markdown",
   "metadata": {
    "id": "90Jl1oeVs0L-"
   },
   "source": [
    "## MNIST"
   ]
  },
  {
   "cell_type": "markdown",
   "metadata": {
    "id": "kDewRWb3s0L-"
   },
   "source": [
    " The MNIST database of handwritten digits, available from this page, has a training set of 60,000 examples, and a test set of 10,000 examples. It is a subset of a larger set available from NIST. The digits have been size-normalized and centered in a fixed-size image. The MNIST data-set is about 12 MB and will be downloaded automatically if it is not located in the given path."
   ]
  },
  {
   "cell_type": "code",
   "execution_count": 51,
   "metadata": {
    "id": "Wd9z5PCXs0L_"
   },
   "outputs": [
    {
     "name": "stdout",
     "output_type": "stream",
     "text": [
      "Size of:\n",
      "- Training-set:\t\t(60000, 28, 28)\n",
      "- Test-set:\t\t(10000, 28, 28)\n"
     ]
    }
   ],
   "source": [
    "from tensorflow.keras.datasets import mnist\n",
    "\n",
    "(image_train, label_train), (image_test, label_test) = mnist.load_data()\n",
    "\n",
    "print(\"Size of:\")\n",
    "print(\"- Training-set:\\t\\t{}\".format(image_train.shape))\n",
    "print(\"- Test-set:\\t\\t{}\".format(image_test.shape))"
   ]
  },
  {
   "cell_type": "code",
   "execution_count": 52,
   "metadata": {
    "id": "DX9dkWEhzuGG"
   },
   "outputs": [
    {
     "name": "stdout",
     "output_type": "stream",
     "text": [
      "Label_train: [5 0 4 ... 5 6 8]\n",
      "shape: (60000,)\n"
     ]
    }
   ],
   "source": [
    "# Your code: \n",
    "# print label_train, print its shape\n",
    "print(\"Label_train: %s\\nshape: %s\"%(label_train, label_train.shape))"
   ]
  },
  {
   "cell_type": "markdown",
   "metadata": {
    "id": "OmjT6wLWs0L_"
   },
   "source": [
    "The data-set is split into 3 mutually exclusive sub-sets. We will only use the training and test-sets in this tutorial.\n",
    "\n",
    "Define a simple function to have a look at the images."
   ]
  },
  {
   "cell_type": "markdown",
   "metadata": {
    "id": "3v9QakdAs0MA"
   },
   "source": [
    "## Getting to know our data"
   ]
  },
  {
   "cell_type": "markdown",
   "metadata": {
    "id": "4J3w9Otps0MA"
   },
   "source": [
    "The following method is plots 9 images from the dataset in a 3x3 grid."
   ]
  },
  {
   "cell_type": "code",
   "execution_count": 53,
   "metadata": {
    "id": "cayq2d-hs0MA"
   },
   "outputs": [],
   "source": [
    "import matplotlib.pyplot as plt\n",
    "\n",
    "def plot_images(images, cls_true, cls_pred=None):\n",
    "    assert len(images) == len(cls_true) == 9\n",
    "    \n",
    "    # Create figure with 3x3 sub-plots.\n",
    "    fig, axes = plt.subplots(3, 3)\n",
    "    fig.subplots_adjust(hspace=0.3, wspace=0.3)\n",
    "\n",
    "    for i, ax in enumerate(axes.flat):\n",
    "        # Plot image.\n",
    "        #ax.imshow(images[i].reshape(img_shape), cmap='binary')\n",
    "        ax.imshow(images[i], cmap='binary')\n",
    "\n",
    "        # Show true and predicted classes.\n",
    "        if cls_pred is None:\n",
    "            xlabel = \"True: {0}\".format(cls_true[i])\n",
    "        else:\n",
    "            xlabel = \"True: {0}, Pred: {1}\".format(cls_true[i], cls_pred[i])\n",
    "\n",
    "        ax.set_xlabel(xlabel)\n",
    "        \n",
    "        # Remove ticks from the plot.\n",
    "        ax.set_xticks([])\n",
    "        ax.set_yticks([])\n",
    "        \n",
    "    # Ensure the plot is shown correctly with multiple plots\n",
    "    # in a single Notebook cell.\n",
    "    plt.show()"
   ]
  },
  {
   "cell_type": "markdown",
   "metadata": {
    "id": "LXNBketEs0MB"
   },
   "source": [
    "Plot a few images to see if data is correct"
   ]
  },
  {
   "cell_type": "code",
   "execution_count": 54,
   "metadata": {},
   "outputs": [
    {
     "data": {
      "image/png": "[encoded data removed]",
      "text/plain": [
       "<Figure size 432x288 with 9 Axes>"
      ]
     },
     "metadata": {},
     "output_type": "display_data"
    }
   ],
   "source": [
    "plot_images(image_train[0:9], label_train[0:9])"
   ]
  },
  {
   "cell_type": "code",
   "execution_count": 55,
   "metadata": {
    "id": "VeRYW7las0MC"
   },
   "outputs": [
    {
     "data": {
      "image/png": "[encoded data removed]",
      "text/plain": [
       "<Figure size 432x288 with 9 Axes>"
      ]
     },
     "metadata": {},
     "output_type": "display_data"
    }
   ],
   "source": [
    "# We know that MNIST images are 28 pixels in each dimension.\n",
    "img_size = 28\n",
    "\n",
    "# Images are stored in one-dimensional arrays of this length. (might want to use this later for input_size...)\n",
    "img_size_flat = img_size * img_size\n",
    "\n",
    "# Tuple with height and width of images used to reshape arrays.\n",
    "img_shape = (img_size, img_size)\n",
    "\n",
    "# Number of classes, one class for each of 10 digits.\n",
    "num_classes = 10\n",
    "\n",
    "# Get the first images from the test-set.\n",
    "images = image_train[0:9]\n",
    "\n",
    "# Get the true classes for those images.\n",
    "cls_true = label_train[0:9]\n",
    "\n",
    "# Plot the images and labels using our helper-function above.\n",
    "plot_images(images=images, cls_true=cls_true)"
   ]
  },
  {
   "cell_type": "markdown",
   "metadata": {
    "id": "yN4Zjheps0MC"
   },
   "source": [
    "For this first network, we'll flatten everything into a 784-dimensional feature vector."
   ]
  },
  {
   "cell_type": "code",
   "execution_count": 56,
   "metadata": {
    "id": "OHohqH6GbAnS"
   },
   "outputs": [
    {
     "name": "stdout",
     "output_type": "stream",
     "text": [
      "(14, 14)\n"
     ]
    },
    {
     "data": {
      "text/plain": [
       "array([[254, 254, 254, 254, 171,   0,   0,   0,   0,   0,   0,   0,   0,\n",
       "          0],\n",
       "       [ 89,  93, 240, 254, 171,   0,   0,   0,   0,   0,   0,   0,   0,\n",
       "          0],\n",
       "       [  0,   1, 128, 254, 219,  31,   0,   0,   0,   0,   0,   0,   0,\n",
       "          0],\n",
       "       [  0,   7, 254, 254, 214,  28,   0,   0,   0,   0,   0,   0,   0,\n",
       "          0],\n",
       "       [  0, 138, 254, 254, 116,   0,   0,   0,   0,   0,   0,   0,   0,\n",
       "          0],\n",
       "       [ 25, 240, 254, 254,  34,   0,   0,   0,   0,   0,   0,   0,   0,\n",
       "          0],\n",
       "       [206, 254, 254, 139,   8,   0,   0,   0,   0,   0,   0,   0,   0,\n",
       "          0],\n",
       "       [254, 253, 213,  11,   0,   0,   0,   0,   0,   0,   0,   0,   0,\n",
       "          0],\n",
       "       [254, 236,   0,   0,   0,   0,   0,   0,   0,   0,   0,   0,   0,\n",
       "          0],\n",
       "       [239,  50,   0,   0,   0,   0,   0,   0,   0,   0,   0,   0,   0,\n",
       "          0],\n",
       "       [  0,   0,   0,   0,   0,   0,   0,   0,   0,   0,   0,   0,   0,\n",
       "          0],\n",
       "       [  0,   0,   0,   0,   0,   0,   0,   0,   0,   0,   0,   0,   0,\n",
       "          0],\n",
       "       [  0,   0,   0,   0,   0,   0,   0,   0,   0,   0,   0,   0,   0,\n",
       "          0],\n",
       "       [  0,   0,   0,   0,   0,   0,   0,   0,   0,   0,   0,   0,   0,\n",
       "          0]], dtype=uint8)"
      ]
     },
     "execution_count": 56,
     "metadata": {},
     "output_type": "execute_result"
    }
   ],
   "source": [
    "# In general, you may select between any two indices along each tensor axis. \n",
    "# For instance, in order to select 14 × 14 pixels in the bottom-right corner for image with index 10, you do this:\n",
    "my_slice = image_train[10, 14:, 14:]\n",
    "print(my_slice.shape)\n",
    "my_slice"
   ]
  },
  {
   "cell_type": "markdown",
   "metadata": {
    "id": "PhGG9IsneAcM"
   },
   "source": [
    "The images we get were stored in an array of shape (60000, 28, 28) of type uint8 with values in the [0, 255] interval. We transform it into a float32 array of shape (60000, 28 * 28) with values between 0 and 1."
   ]
  },
  {
   "cell_type": "code",
   "execution_count": 57,
   "metadata": {
    "id": "wSQnMZ7Js0MD"
   },
   "outputs": [
    {
     "name": "stdout",
     "output_type": "stream",
     "text": [
      "Size of:\n",
      "- Training-set:\t\t(60000, 784)\n",
      "- Test-set:\t\t(10000, 784)\n"
     ]
    }
   ],
   "source": [
    "# Prepare data, flatten the input and rescale\n",
    "X_train = image_train.reshape((60000, 28*28)) # or #X_train = image_train.reshape(X_train.shape[0], -1)\n",
    "X_train = X_train.astype('float32')/255 \n",
    "X_test = image_test.reshape((10000, 28*28)) # or #X_test = image_test.reshape(X_test.shape[0], -1)\n",
    "X_test = X_test.astype('float32')/255\n",
    "\n",
    "print(\"Size of:\")\n",
    "print(\"- Training-set:\\t\\t{}\".format(X_train.shape))\n",
    "print(\"- Test-set:\\t\\t{}\".format(X_test.shape))"
   ]
  },
  {
   "cell_type": "markdown",
   "metadata": {
    "id": "XaNQwQt9s0MD"
   },
   "source": [
    "#### To build a fully connected feedforward network (aka Multilayer Perceptron (MLP))\n",
    "The first model we'll use is a simple fully connected feedforward network. This is called a Dense layer in Keras. -\n",
    "#### Dimensionality reduction with PCA\n",
    "Since fully connected layers are a bit heavy on image data (and you're probably running this on your laptop), we'll reduce the dimensionality of the data by [PCA (principal component analysis)](https://scikit-learn.org/stable/modules/generated/sklearn.decomposition.PCA.html). PCA decompose a multivariate dataset in a set of successive orthogonal components that explain a maximum amount of the variance. We will discuss topic on dimensionalilty reduction in a few weeks. "
   ]
  },
  {
   "cell_type": "code",
   "execution_count": 58,
   "metadata": {
    "id": "dyyCAPaUs0MD"
   },
   "outputs": [
    {
     "name": "stdout",
     "output_type": "stream",
     "text": [
      "(60000, 60)\n",
      "(10000, 60)\n"
     ]
    }
   ],
   "source": [
    "from sklearn.decomposition import PCA\n",
    "\n",
    "pca = PCA(n_components=60) # reduce to 60 dimensions\n",
    "pca.fit(X_train)\n",
    "\n",
    "X_train = pca.transform(X_train)\n",
    "X_test = pca.transform(X_test)\n",
    "\n",
    "print(X_train.shape) \n",
    "print(X_test.shape) # NB: none of this is Keras yet. We're just using sklearn on some numpy arrays"
   ]
  },
  {
   "cell_type": "markdown",
   "metadata": {
    "id": "qTAMootds0ME"
   },
   "source": [
    "The training labels are encoded as integers. We need these as one-hot vectors instead, so we can match them to the ten outputs of the neural network."
   ]
  },
  {
   "cell_type": "code",
   "execution_count": 59,
   "metadata": {
    "id": "Q_nB-FCns0ME"
   },
   "outputs": [
    {
     "name": "stdout",
     "output_type": "stream",
     "text": [
      "(60000,) (10000,)\n",
      "(60000, 10) (10000, 10)\n"
     ]
    }
   ],
   "source": [
    "from keras.utils import to_categorical\n",
    "\n",
    "print(label_train.shape, label_test.shape)\n",
    "\n",
    "y_train = to_categorical(label_train)\n",
    "y_test = to_categorical(label_test)\n",
    "\n",
    "print(y_train.shape, y_test.shape)"
   ]
  },
  {
   "cell_type": "markdown",
   "metadata": {
    "id": "tMyFcP_OxUrd"
   },
   "source": [
    "### Question: \n",
    "Look at the one-hot coding given by y_train[0], which digit does it represent?"
   ]
  },
  {
   "cell_type": "code",
   "execution_count": 60,
   "metadata": {
    "id": "scpTWCx6s0ME"
   },
   "outputs": [
    {
     "name": "stdout",
     "output_type": "stream",
     "text": [
      "[0. 0. 0. 0. 0. 1. 0. 0. 0. 0.]\n",
      "5\n"
     ]
    }
   ],
   "source": [
    "print(y_train[0]) # print the one-hot vector for the first example\n",
    "print(label_train[0])"
   ]
  },
  {
   "cell_type": "code",
   "execution_count": 61,
   "metadata": {},
   "outputs": [
    {
     "name": "stdout",
     "output_type": "stream",
     "text": [
      "(60,)\n"
     ]
    }
   ],
   "source": [
    "print(X_train[0].shape)"
   ]
  },
  {
   "cell_type": "markdown",
   "metadata": {
    "id": "SjTdngnUs0ME"
   },
   "source": [
    "## Keras Model\n",
    "\n",
    "The core data structure of Keras is a model, a way to organize layers. The simplest type of model is the ```Sequential``` model, a linear stack of **layers**. Before we start take some time to read the ```Sequential``` documentation:\n",
    "\n",
    "https://keras.io/getting-started/sequential-model-guide/\n",
    "\n",
    "Note: Keras has two APIs for this: the **Sequential** API and the **Model** API. The sequential API (the simplest) assumes that your model is a simple sequence of operations, usually neural network layers. The input is passed through the first layer, the result of that is passed through the second and so on. \n",
    "\n",
    "This is useful for simple NN models where you are only interested in the input and output. If your model gets more complex, you may want to use the Model API (we'll use in the next practicals)."
   ]
  },
  {
   "cell_type": "markdown",
   "metadata": {
    "id": "XtoobyAIibrs"
   },
   "source": [
    "Now, creating a Sequential model. \n",
    "\n",
    "We can create a Sequential model incrementally via the add() method."
   ]
  },
  {
   "cell_type": "code",
   "execution_count": 62,
   "metadata": {
    "id": "sGh7bopps0MF"
   },
   "outputs": [
    {
     "name": "stdout",
     "output_type": "stream",
     "text": [
      "Model: \"sequential_4\"\n",
      "_________________________________________________________________\n",
      " Layer (type)                Output Shape              Param #   \n",
      "=================================================================\n",
      " dense_10 (Dense)            (None, 32)                1952      \n",
      "                                                                 \n",
      " dense_11 (Dense)            (None, 10)                330       \n",
      "                                                                 \n",
      "=================================================================\n",
      "Total params: 2,282\n",
      "Trainable params: 2,282\n",
      "Non-trainable params: 0\n",
      "_________________________________________________________________\n"
     ]
    }
   ],
   "source": [
    "from keras.models import Sequential\n",
    "from keras import layers\n",
    "\n",
    "model = Sequential() # or specify model name: model = Sequential(name=\"my_first_model\")\n",
    "model.add(keras.Input(60)) # Input layer, input shape setup here should match with the input data when fitting or making prediction.\n",
    "model.add(layers.Dense(32, activation='relu'))#, input_shape=(60,))) # first dense layer, 32 hidden units,\n",
    "model.add(layers.Dense(10, activation='softmax'))# second dense layer, output class probabilities with softmax activation\n",
    "model.summary()"
   ]
  },
  {
   "cell_type": "code",
   "execution_count": 63,
   "metadata": {
    "id": "KrDASu5JMZ4A"
   },
   "outputs": [
    {
     "data": {
      "text/plain": [
       "[<tf.Variable 'dense_10/kernel:0' shape=(60, 32) dtype=float32, numpy=\n",
       " array([[-0.22239353,  0.20137358,  0.02500767, ...,  0.15567666,\n",
       "          0.03322047,  0.00501001],\n",
       "        [ 0.10211974,  0.25137767,  0.05001003, ..., -0.20213716,\n",
       "         -0.09187753,  0.08515877],\n",
       "        [-0.02803366,  0.16142759, -0.02694915, ...,  0.06983647,\n",
       "          0.23461318, -0.15295222],\n",
       "        ...,\n",
       "        [ 0.13117027, -0.01808478, -0.18971738, ...,  0.1206131 ,\n",
       "         -0.21601918, -0.13230169],\n",
       "        [-0.21827638,  0.11012149, -0.01431687, ..., -0.1781094 ,\n",
       "          0.01536688,  0.15383866],\n",
       "        [-0.16708308,  0.03300613, -0.17272624, ..., -0.25232258,\n",
       "          0.03080174,  0.0045276 ]], dtype=float32)>,\n",
       " <tf.Variable 'dense_10/bias:0' shape=(32,) dtype=float32, numpy=\n",
       " array([0., 0., 0., 0., 0., 0., 0., 0., 0., 0., 0., 0., 0., 0., 0., 0., 0.,\n",
       "        0., 0., 0., 0., 0., 0., 0., 0., 0., 0., 0., 0., 0., 0., 0.],\n",
       "       dtype=float32)>,\n",
       " <tf.Variable 'dense_11/kernel:0' shape=(32, 10) dtype=float32, numpy=\n",
       " array([[ 0.3052924 , -0.0198673 ,  0.1408594 ,  0.31615636,  0.27493307,\n",
       "         -0.23048458, -0.00759199,  0.01146707,  0.22665563,  0.15022317],\n",
       "        [-0.13729002,  0.18152133,  0.13765684,  0.31789353,  0.1103352 ,\n",
       "         -0.27059755,  0.0766623 ,  0.24743548, -0.18650258,  0.01511341],\n",
       "        [-0.19120246,  0.07174486, -0.33193174, -0.0451577 ,  0.03666764,\n",
       "         -0.34081012, -0.02698284, -0.188165  ,  0.03010395,  0.33102694],\n",
       "        [ 0.0056403 ,  0.27023777, -0.22146265, -0.22234432,  0.2258338 ,\n",
       "          0.24837145, -0.36598447,  0.35462698,  0.22078744, -0.15352112],\n",
       "        [-0.08944431, -0.3379628 , -0.342771  ,  0.1387867 ,  0.17088893,\n",
       "          0.31424573, -0.2920684 , -0.00696391,  0.09530422,  0.27290037],\n",
       "        [-0.1848451 , -0.06328049,  0.00529355, -0.27881187, -0.02557203,\n",
       "         -0.21026169,  0.33353272,  0.27293482, -0.30696177, -0.07694742],\n",
       "        [ 0.0408144 ,  0.17989203,  0.36735806,  0.02956587, -0.23102525,\n",
       "          0.07081428, -0.16440172,  0.2875282 , -0.15766636, -0.03094822],\n",
       "        [ 0.17511812, -0.04598638, -0.11698252,  0.21638736, -0.04993528,\n",
       "         -0.19769146, -0.0121395 , -0.19370528,  0.05763611,  0.07869527],\n",
       "        [ 0.37198344,  0.12910518, -0.24389035, -0.32175332,  0.07819316,\n",
       "         -0.00672042, -0.25338915,  0.1316444 , -0.36189502,  0.21962902],\n",
       "        [-0.00945491,  0.13225403,  0.08080474, -0.10790771, -0.32586107,\n",
       "         -0.12285513,  0.1178467 , -0.10506281,  0.01233152,  0.28310612],\n",
       "        [-0.3496401 ,  0.1360021 , -0.08169344, -0.08160233,  0.34355614,\n",
       "          0.17704502, -0.06018761,  0.35580638,  0.17990991,  0.30819544],\n",
       "        [-0.00239405, -0.17341274, -0.32164246,  0.31467578, -0.24098796,\n",
       "         -0.07007498, -0.23830996, -0.00667825, -0.02039769, -0.26675996],\n",
       "        [ 0.07300106,  0.08695877, -0.3684408 , -0.11864981, -0.0843671 ,\n",
       "         -0.28044698,  0.04719618, -0.21943663, -0.15074742,  0.15168557],\n",
       "        [ 0.12575021,  0.13271496,  0.2958459 , -0.18524359, -0.08198845,\n",
       "         -0.31953236,  0.2364156 , -0.34132385, -0.3438047 ,  0.29702476],\n",
       "        [ 0.26554605, -0.3657937 ,  0.01529536, -0.1617304 , -0.09821174,\n",
       "         -0.1557791 ,  0.31567153, -0.10245159, -0.07839239, -0.17566414],\n",
       "        [ 0.23697105,  0.15758201, -0.33343548, -0.2971115 , -0.31084478,\n",
       "         -0.14957072,  0.27055308,  0.20841965, -0.3647594 , -0.20857404],\n",
       "        [ 0.2499412 , -0.25238156, -0.07020861, -0.2456455 , -0.3763117 ,\n",
       "          0.0629915 , -0.20308593, -0.35798436, -0.19395174,  0.36120626],\n",
       "        [ 0.12304738,  0.14749613, -0.00279868, -0.15195729, -0.32585835,\n",
       "         -0.1941572 , -0.11096698, -0.12666243,  0.23636732,  0.00334916],\n",
       "        [ 0.32069972, -0.17671558,  0.28834555, -0.11119902, -0.17023109,\n",
       "          0.29137668, -0.37355566,  0.0418281 , -0.23354988,  0.17852727],\n",
       "        [-0.33841679,  0.3114644 ,  0.04805037,  0.01233512,  0.34800163,\n",
       "          0.06995359,  0.26655874, -0.2733815 ,  0.136879  , -0.3559506 ],\n",
       "        [-0.09897149,  0.04637542,  0.32238474, -0.23172544, -0.1390995 ,\n",
       "         -0.02732304, -0.12420586, -0.28115058, -0.1877438 , -0.37234715],\n",
       "        [ 0.20885143, -0.23878215, -0.33480567,  0.13993874, -0.11358514,\n",
       "         -0.2415984 ,  0.13513479,  0.23717424, -0.12837218,  0.11627585],\n",
       "        [-0.24224883, -0.37316817, -0.34913465, -0.3218794 ,  0.24238929,\n",
       "         -0.259265  ,  0.1141426 ,  0.04602975, -0.11004987,  0.01187834],\n",
       "        [ 0.23299292, -0.20302899,  0.24016961, -0.01059252, -0.08353382,\n",
       "         -0.2491811 ,  0.04718545, -0.07898533, -0.3111152 , -0.11665225],\n",
       "        [ 0.18718806, -0.27310306, -0.21847142,  0.19300845,  0.19989201,\n",
       "         -0.16381265,  0.21910426,  0.00756353, -0.16837043,  0.01537502],\n",
       "        [-0.24694556,  0.33469185, -0.27826035,  0.3387483 , -0.24896817,\n",
       "          0.28121355,  0.2667683 ,  0.25420275, -0.22277993, -0.1250048 ],\n",
       "        [ 0.27605549,  0.37379804, -0.00671339, -0.01846611, -0.17301597,\n",
       "         -0.03942496, -0.33966026, -0.01991397, -0.21835175, -0.34648648],\n",
       "        [ 0.07090816,  0.03360361,  0.14527789, -0.00390816, -0.06800768,\n",
       "         -0.14252652,  0.29577836,  0.02243453, -0.31587303,  0.14149788],\n",
       "        [ 0.11468697,  0.0861181 , -0.22185095,  0.30747053, -0.03266361,\n",
       "          0.15405908,  0.33961758, -0.09189269,  0.3418165 ,  0.13400224],\n",
       "        [ 0.14317867, -0.17849822, -0.21120429,  0.07789946,  0.06749395,\n",
       "          0.04135996, -0.32138824, -0.36896795, -0.36765447,  0.24331346],\n",
       "        [-0.01760408, -0.20024565, -0.164474  , -0.36436793,  0.22493562,\n",
       "          0.35537115,  0.15602323,  0.2773629 ,  0.19929829,  0.26082274],\n",
       "        [-0.05331075, -0.22451589, -0.23422574, -0.14780898,  0.1734753 ,\n",
       "         -0.11797404, -0.03647885, -0.23839918, -0.2047361 , -0.09188062]],\n",
       "       dtype=float32)>,\n",
       " <tf.Variable 'dense_11/bias:0' shape=(10,) dtype=float32, numpy=array([0., 0., 0., 0., 0., 0., 0., 0., 0., 0.], dtype=float32)>]"
      ]
     },
     "execution_count": 63,
     "metadata": {},
     "output_type": "execute_result"
    }
   ],
   "source": [
    "# Check model weights\n",
    "model.weights"
   ]
  },
  {
   "cell_type": "markdown",
   "metadata": {
    "id": "euz9tRwQjCfe"
   },
   "source": [
    "You can also create a Sequential model by passing a list of layers to the Sequential constructor:"
   ]
  },
  {
   "cell_type": "code",
   "execution_count": 64,
   "metadata": {
    "id": "AaBwBcsUjDv4"
   },
   "outputs": [
    {
     "name": "stdout",
     "output_type": "stream",
     "text": [
      "Model: \"sequential_5\"\n",
      "_________________________________________________________________\n",
      " Layer (type)                Output Shape              Param #   \n",
      "=================================================================\n",
      " dense_12 (Dense)            (None, 32)                1952      \n",
      "                                                                 \n",
      " dense_13 (Dense)            (None, 10)                330       \n",
      "                                                                 \n",
      "=================================================================\n",
      "Total params: 2,282\n",
      "Trainable params: 2,282\n",
      "Non-trainable params: 0\n",
      "_________________________________________________________________\n"
     ]
    },
    {
     "data": {
      "text/plain": [
       "[<keras.layers.core.dense.Dense at 0x7f1d20c783a0>,\n",
       " <keras.layers.core.dense.Dense at 0x7f1d20c782e0>]"
      ]
     },
     "execution_count": 64,
     "metadata": {},
     "output_type": "execute_result"
    }
   ],
   "source": [
    "model = Sequential(    \n",
    "    [\n",
    "     keras.Input(shape=(60)),   \n",
    "     layers.Dense(32, activation='relu'),\n",
    "     layers.Dense(10, activation='softmax')\n",
    "    ]\n",
    ")\n",
    "\n",
    "model.summary()\n",
    "\n",
    "# Get the list of layers in the model\n",
    "model.layers"
   ]
  },
  {
   "cell_type": "markdown",
   "metadata": {
    "id": "1uSOhe10jqr0"
   },
   "source": [
    "**Question**: \n",
    "1. how many hidden layers does this model have?\n",
    "- 1 hidden, 1 output\n",
    "2. how to compute the total number of parameters or weights? \n",
    "- model.summary()\n",
    "(Remeber to add the parameters for bias)\n",
    "\n",
    "\n",
    "Once create the model, you can start training and validating the model. https://keras.io/guides/training_with_built_in_methods/"
   ]
  },
  {
   "cell_type": "code",
   "execution_count": 65,
   "metadata": {
    "id": "hEl2wlGss0MF"
   },
   "outputs": [],
   "source": [
    "optimizer = keras.optimizers.SGD(learning_rate=0.01)\n",
    "#optimizer = keras.optimizers.Adam(learning_rate=0.001)\n",
    "model.compile(optimizer=optimizer, loss='categorical_crossentropy', metrics=['accuracy'])"
   ]
  },
  {
   "cell_type": "markdown",
   "metadata": {
    "id": "R5_pmbSms0MG"
   },
   "source": [
    "## Training\n",
    "\n",
    "We've also told the compiler that we'd like it to compute accuracy for us during training (since categorical cross-entropy loss is a bit hard to interpret).\n",
    "\n",
    "We're now ready to start training using the fit() method:\n",
    "- The **batch size** to use within each epoch of mini-batch gradient descent: the number of training examples considered to compute the gradients for one weight update step.\n",
    "- The number of **epochs** to train for: how many times the training loop should iterate over the data passed. "
   ]
  },
  {
   "cell_type": "markdown",
   "metadata": {
    "id": "LrbqJ2C8bt18"
   },
   "source": []
  },
  {
   "cell_type": "code",
   "execution_count": 66,
   "metadata": {
    "id": "KCLOxVQ4s0MH"
   },
   "outputs": [
    {
     "name": "stdout",
     "output_type": "stream",
     "text": [
      "Epoch 1/5\n",
      "60/60 [==============================] - 0s 2ms/step - loss: 2.2960 - accuracy: 0.1784\n",
      "Epoch 2/5\n",
      "60/60 [==============================] - 0s 2ms/step - loss: 1.8806 - accuracy: 0.3665\n",
      "Epoch 3/5\n",
      "60/60 [==============================] - 0s 3ms/step - loss: 1.6109 - accuracy: 0.5042\n",
      "Epoch 4/5\n",
      "60/60 [==============================] - 0s 3ms/step - loss: 1.4165 - accuracy: 0.5880\n",
      "Epoch 5/5\n",
      "60/60 [==============================] - 0s 3ms/step - loss: 1.2647 - accuracy: 0.6456\n"
     ]
    }
   ],
   "source": [
    "# Train the model, iterating on the data in batches of 32 samples\n",
    "history = model.fit(X_train, y_train, epochs=5, batch_size=1000);"
   ]
  },
  {
   "cell_type": "markdown",
   "metadata": {
    "id": "Cj4fU6J0gNz4"
   },
   "source": [
    "## Validating##\n",
    "A deep learning model should never be evaluated on its training data alone - it’s standard practice to use a validation set to monitor the accuracy (or other performance metric) of the model during training. Here, we randomly set apart 10% of training samples from the original training data for validation using validation_split argument in fit() method. Usually, we create a validation set separately, and set \"validation_data\" in fit(). For more details on keras model training api, check https://keras.io/api/models/model_training_apis/"
   ]
  },
  {
   "cell_type": "markdown",
   "metadata": {
    "id": "-cphMmVcc4P-"
   },
   "source": [
    "The call to fit() returns a **History** object. This object contains a history field, which is a dict mapping keys such as \"loss\" or specific metric names to the list of their per-epoch values."
   ]
  },
  {
   "cell_type": "code",
   "execution_count": 67,
   "metadata": {
    "id": "WHS9LVFrhPxp"
   },
   "outputs": [
    {
     "name": "stdout",
     "output_type": "stream",
     "text": [
      "Epoch 1/5\n",
      "54/54 [==============================] - 0s 6ms/step - loss: 1.1539 - accuracy: 0.6849 - val_loss: 1.0299 - val_accuracy: 0.7412\n",
      "Epoch 2/5\n",
      "54/54 [==============================] - 0s 2ms/step - loss: 1.0609 - accuracy: 0.7180 - val_loss: 0.9408 - val_accuracy: 0.7723\n",
      "Epoch 3/5\n",
      "54/54 [==============================] - 0s 2ms/step - loss: 0.9819 - accuracy: 0.7434 - val_loss: 0.8653 - val_accuracy: 0.7947\n",
      "Epoch 4/5\n",
      "54/54 [==============================] - 0s 3ms/step - loss: 0.9148 - accuracy: 0.7636 - val_loss: 0.8015 - val_accuracy: 0.8112\n",
      "Epoch 5/5\n",
      "54/54 [==============================] - 0s 3ms/step - loss: 0.8576 - accuracy: 0.7788 - val_loss: 0.7475 - val_accuracy: 0.8243\n"
     ]
    }
   ],
   "source": [
    "history = model.fit(X_train, y_train, validation_split=0.1, epochs=5, batch_size=1000);"
   ]
  },
  {
   "cell_type": "code",
   "execution_count": 68,
   "metadata": {
    "id": "5JfQdrvJkDFk"
   },
   "outputs": [
    {
     "name": "stdout",
     "output_type": "stream",
     "text": [
      "Epoch 1/8\n",
      "54/54 [==============================] - 0s 2ms/step - loss: 0.8089 - accuracy: 0.7901 - val_loss: 0.7015 - val_accuracy: 0.8338\n",
      "Epoch 2/8\n",
      "54/54 [==============================] - 0s 4ms/step - loss: 0.7670 - accuracy: 0.7991 - val_loss: 0.6621 - val_accuracy: 0.8392\n",
      "Epoch 3/8\n",
      "54/54 [==============================] - 0s 2ms/step - loss: 0.7309 - accuracy: 0.8070 - val_loss: 0.6282 - val_accuracy: 0.8473\n",
      "Epoch 4/8\n",
      "54/54 [==============================] - 0s 2ms/step - loss: 0.6995 - accuracy: 0.8147 - val_loss: 0.5988 - val_accuracy: 0.8545\n",
      "Epoch 5/8\n",
      "54/54 [==============================] - 0s 3ms/step - loss: 0.6720 - accuracy: 0.8210 - val_loss: 0.5730 - val_accuracy: 0.8603\n",
      "Epoch 6/8\n",
      "54/54 [==============================] - 0s 2ms/step - loss: 0.6477 - accuracy: 0.8264 - val_loss: 0.5504 - val_accuracy: 0.8652\n",
      "Epoch 7/8\n",
      "54/54 [==============================] - 0s 2ms/step - loss: 0.6262 - accuracy: 0.8309 - val_loss: 0.5303 - val_accuracy: 0.8668\n",
      "Epoch 8/8\n",
      "54/54 [==============================] - 0s 2ms/step - loss: 0.6069 - accuracy: 0.8351 - val_loss: 0.5124 - val_accuracy: 0.8688\n"
     ]
    }
   ],
   "source": [
    "# Consider increase the number of epochs if the model loss or traininng performance is not good enough or not converged\n",
    "# \n",
    "history = model.fit(X_train, y_train, validation_split=0.1, epochs=8, batch_size=1000)"
   ]
  },
  {
   "cell_type": "code",
   "execution_count": 69,
   "metadata": {
    "id": "HFtkwMFnmOBp"
   },
   "outputs": [
    {
     "data": {
      "text/plain": [
       "dict_keys(['loss', 'accuracy', 'val_loss', 'val_accuracy'])"
      ]
     },
     "execution_count": 69,
     "metadata": {},
     "output_type": "execute_result"
    }
   ],
   "source": [
    "history.history.keys()"
   ]
  },
  {
   "cell_type": "code",
   "execution_count": 70,
   "metadata": {
    "id": "ikp6yjC6c6Wz"
   },
   "outputs": [
    {
     "data": {
      "text/plain": [
       "{'loss': [0.8088750243186951,\n",
       "  0.7670384645462036,\n",
       "  0.7309027314186096,\n",
       "  0.6994727849960327,\n",
       "  0.6719745993614197,\n",
       "  0.6477213501930237,\n",
       "  0.6261749863624573,\n",
       "  0.6068903207778931],\n",
       " 'accuracy': [0.7901111245155334,\n",
       "  0.7991296052932739,\n",
       "  0.8069815039634705,\n",
       "  0.8147037029266357,\n",
       "  0.8209629654884338,\n",
       "  0.8264074325561523,\n",
       "  0.8308888673782349,\n",
       "  0.8351296186447144],\n",
       " 'val_loss': [0.7015026211738586,\n",
       "  0.6621392369270325,\n",
       "  0.6282249093055725,\n",
       "  0.5987614393234253,\n",
       "  0.5730320811271667,\n",
       "  0.5503917336463928,\n",
       "  0.5303110480308533,\n",
       "  0.5124158263206482],\n",
       " 'val_accuracy': [0.8338333368301392,\n",
       "  0.8391666412353516,\n",
       "  0.8473333120346069,\n",
       "  0.8544999957084656,\n",
       "  0.8603333234786987,\n",
       "  0.8651666641235352,\n",
       "  0.8668333292007446,\n",
       "  0.8688333630561829]}"
      ]
     },
     "execution_count": 70,
     "metadata": {},
     "output_type": "execute_result"
    }
   ],
   "source": [
    "history.history"
   ]
  },
  {
   "cell_type": "code",
   "execution_count": 71,
   "metadata": {
    "id": "OQiTm4UOkcUC"
   },
   "outputs": [
    {
     "data": {
      "image/png": "[encoded data removed]",
      "text/plain": [
       "<Figure size 432x288 with 1 Axes>"
      ]
     },
     "metadata": {
      "needs_background": "light"
     },
     "output_type": "display_data"
    }
   ],
   "source": [
    "# Plotting the training and validation loss\n",
    "import matplotlib.pyplot as plt\n",
    "history_dict = history.history\n",
    "loss_values = history_dict[\"loss\"]\n",
    "val_loss_values = history_dict[\"val_loss\"]\n",
    "epochs = range(1, len(loss_values) + 1)\n",
    "plt.plot(epochs, loss_values, \"bo\", label=\"Training loss\")\n",
    "plt.plot(epochs, val_loss_values, \"b\", label=\"Validation loss\")\n",
    "plt.title(\"Training and validation loss\")\n",
    "plt.xlabel(\"Epochs\")\n",
    "plt.ylabel(\"Loss\")\n",
    "plt.legend()\n",
    "plt.show()"
   ]
  },
  {
   "cell_type": "code",
   "execution_count": 72,
   "metadata": {
    "id": "4viP9LZTm2NZ"
   },
   "outputs": [
    {
     "data": {
      "image/png": "[encoded data removed]",
      "text/plain": [
       "<Figure size 432x288 with 1 Axes>"
      ]
     },
     "metadata": {
      "needs_background": "light"
     },
     "output_type": "display_data"
    }
   ],
   "source": [
    "# Plotting the training and validation accuracy\n",
    "# Your code here:\n",
    "hist = history.history\n",
    "train_accuracy = hist['accuracy']\n",
    "val_accuracy = hist['val_accuracy']\n",
    "epochs = range(1, len(val_accuracy)+1)\n",
    "plt.plot(epochs, train_accuracy, 'bo', label='train accuracy')\n",
    "plt.plot(epochs, val_accuracy, 'b', label='validation accuracy')\n",
    "plt.title('Training and validation accuracy')\n",
    "plt.xlabel('Epochs')\n",
    "plt.ylabel('Accuracy')\n",
    "plt.legend(loc='best')\n",
    "plt.show()"
   ]
  },
  {
   "cell_type": "code",
   "execution_count": 73,
   "metadata": {
    "id": "UWqDHBapkRxu"
   },
   "outputs": [
    {
     "name": "stdout",
     "output_type": "stream",
     "text": [
      "313/313 [==============================] - 0s 1ms/step - loss: 0.5595 - accuracy: 0.8527\n",
      "test loss, test acc: [0.5594953894615173, 0.8526999950408936]\n",
      "313/313 [==============================] - 0s 1ms/step - loss: 0.5595 - accuracy: 0.8527\n",
      "Accuracy: 85.27\n"
     ]
    }
   ],
   "source": [
    "# After the model training is complete\n",
    "# evaluate the model \n",
    "results = model.evaluate(X_test, y_test)\n",
    "print(\"test loss, test acc:\", results)\n",
    "\n",
    "_, accuracy = model.evaluate(X_test, y_test)\n",
    "print('Accuracy: %.2f' % (accuracy*100))"
   ]
  },
  {
   "cell_type": "markdown",
   "metadata": {
    "id": "3WgFgXDgd__W"
   },
   "source": [
    "##Inference##\n",
    "To make predictions using a trained model "
   ]
  },
  {
   "cell_type": "code",
   "execution_count": 74,
   "metadata": {
    "id": "VwaE0ysss0MH"
   },
   "outputs": [
    {
     "name": "stdout",
     "output_type": "stream",
     "text": [
      "313/313 [==============================] - 0s 669us/step\n",
      "[4.8914924e-04 2.1802855e-04 2.3976783e-04 3.6582884e-03 7.9814036e-04\n",
      " 3.7179487e-03 8.8896617e-05 9.7924596e-01 1.3872134e-04 1.1405151e-02]\n",
      "\n",
      "Confusion matrix: \n",
      "[[ 930    0    2    8    1   14   16    5    3    1]\n",
      " [   0 1096    6    2    3    1    4    1   22    0]\n",
      " [  26   37  832   15   30    6   17   26   40    3]\n",
      " [   6   11   30  838    1   25   13   26   47   13]\n",
      " [   0    9    3    0  832    2   40    8   11   77]\n",
      " [  25   26   11   49    7  663   34   26   36   15]\n",
      " [  17    7   12    2   35   13  857    3   10    2]\n",
      " [   3   28   29    5    9    1    1  894    6   52]\n",
      " [  19   28   16   51   13   20   11   15  771   30]\n",
      " [  12    8    8   10   81   12    5   42   17  814]]\n",
      "\n",
      "Classification report: \n",
      "              precision    recall  f1-score   support\n",
      "\n",
      "           0       0.90      0.95      0.92       980\n",
      "           1       0.88      0.97      0.92      1135\n",
      "           2       0.88      0.81      0.84      1032\n",
      "           3       0.86      0.83      0.84      1010\n",
      "           4       0.82      0.85      0.83       982\n",
      "           5       0.88      0.74      0.80       892\n",
      "           6       0.86      0.89      0.88       958\n",
      "           7       0.85      0.87      0.86      1028\n",
      "           8       0.80      0.79      0.80       974\n",
      "           9       0.81      0.81      0.81      1009\n",
      "\n",
      "    accuracy                           0.85     10000\n",
      "   macro avg       0.85      0.85      0.85     10000\n",
      "weighted avg       0.85      0.85      0.85     10000\n",
      "\n"
     ]
    }
   ],
   "source": [
    "# To make predictions and get the confusion matrix\n",
    "# model.predict will generate probability for all 10 digits, \n",
    "#    so we use argmax to pick the class with the highest probability\n",
    "from sklearn import metrics\n",
    "y_pred = model.predict(X_test)\n",
    "print(y_pred[0]) # print the prediction for first image\n",
    "\n",
    "print('\\nConfusion matrix: ')\n",
    "matrix = metrics.confusion_matrix(y_test.argmax(axis=1), y_pred.argmax(axis=1))\n",
    "print(matrix)\n",
    "\n",
    "print('\\nClassification report: ')\n",
    "print(metrics.classification_report(y_test.argmax(axis=1), y_pred.argmax(axis=1)))"
   ]
  },
  {
   "cell_type": "markdown",
   "metadata": {
    "id": "rBdSC5gDs0MI"
   },
   "source": [
    "### Tasks\n",
    "\n",
    "As you now have a model to play with (in no particular order):\n",
    "\n",
    "1. Change the `learning-rate` for the optimiser.\n",
    "2. Change the ```batch_size``` to e.g. 1 or 1000 (and see how learning rate deals with larger/smaller batch sizes).\n",
    "3. Change the optimiser: from SGD to Adam\n",
    "4. Add complexity to the model, being mindful of how \"powerful\" your computers are.\n",
    "\n",
    "7. Try and find a sweet-spot between the size and performance of the model, take into account things like the number of iterations/epochs required to train the model in these assumptions.\n",
    "\n",
    "6. Do you get the exact same results if you run the Notebook multiple times without changing any parameters? Why or why not?\n",
    "\n",
    "5. Do you think these changes will have the same effect (if any) on other classifiers?\n",
    "\n",
    "8. Investigate **effect of dimensionality reduction** (with PCA, e.g. you may try to build the model without PCA and compare ...)\n",
    "\n",
    "9. Try out some **other ML classifiers** that have been discussed in the class, e.g. kNN (with scikit-learn) "
   ]
  },
  {
   "cell_type": "code",
   "execution_count": 75,
   "metadata": {
    "id": "La9Ah0Qms0MI"
   },
   "outputs": [
    {
     "name": "stdout",
     "output_type": "stream",
     "text": [
      "Model: \"sequential_6\"\n",
      "_________________________________________________________________\n",
      " Layer (type)                Output Shape              Param #   \n",
      "=================================================================\n",
      " dense_14 (Dense)            (None, 10)                610       \n",
      "                                                                 \n",
      " dense_15 (Dense)            (None, 10)                110       \n",
      "                                                                 \n",
      " dense_16 (Dense)            (None, 10)                110       \n",
      "                                                                 \n",
      " dense_17 (Dense)            (None, 10)                110       \n",
      "                                                                 \n",
      "=================================================================\n",
      "Total params: 940\n",
      "Trainable params: 940\n",
      "Non-trainable params: 0\n",
      "_________________________________________________________________\n"
     ]
    },
    {
     "data": {
      "text/plain": [
       "[<keras.layers.core.dense.Dense at 0x7f1d11e60460>,\n",
       " <keras.layers.core.dense.Dense at 0x7f1d11e601c0>,\n",
       " <keras.layers.core.dense.Dense at 0x7f1d11d65e50>,\n",
       " <keras.layers.core.dense.Dense at 0x7f1d11cec0d0>]"
      ]
     },
     "execution_count": 75,
     "metadata": {},
     "output_type": "execute_result"
    }
   ],
   "source": [
    "# Your code\n",
    "#\n",
    "#\n",
    "import tensorflow as tf\n",
    "from tensorflow import keras\n",
    "from keras.models import Sequential\n",
    "from keras import layers\n",
    "\n",
    "#create sequential model\n",
    "model2 = Sequential(    \n",
    "    [\n",
    "         keras.Input(shape=(60)),   \n",
    "         layers.Dense(10, activation='relu'),\n",
    "         layers.Dense(10, activation='relu'),\n",
    "         layers.Dense(10, activation='relu'),\n",
    "         layers.Dense(10, activation='softmax'),\n",
    "    ]\n",
    ")\n",
    "\n",
    "model2.summary()\n",
    "\n",
    "# Get the list of layers in the model\n",
    "model2.layers"
   ]
  },
  {
   "cell_type": "code",
   "execution_count": 76,
   "metadata": {},
   "outputs": [],
   "source": [
    "optimizer = keras.optimizers.Adam(learning_rate=0.001)\n",
    "model2.compile(optimizer=optimizer, loss='categorical_crossentropy', metrics=['accuracy'])"
   ]
  },
  {
   "cell_type": "code",
   "execution_count": 77,
   "metadata": {
    "scrolled": true
   },
   "outputs": [
    {
     "name": "stdout",
     "output_type": "stream",
     "text": [
      "Epoch 1/15\n",
      "54/54 [==============================] - 1s 4ms/step - loss: 2.1775 - accuracy: 0.1960 - val_loss: 2.0286 - val_accuracy: 0.2572\n",
      "Epoch 2/15\n",
      "54/54 [==============================] - 0s 2ms/step - loss: 1.8762 - accuracy: 0.2979 - val_loss: 1.7044 - val_accuracy: 0.3730\n",
      "Epoch 3/15\n",
      "54/54 [==============================] - 0s 2ms/step - loss: 1.5628 - accuracy: 0.4464 - val_loss: 1.3523 - val_accuracy: 0.5508\n",
      "Epoch 4/15\n",
      "54/54 [==============================] - 0s 2ms/step - loss: 1.2484 - accuracy: 0.5826 - val_loss: 1.0408 - val_accuracy: 0.6538\n",
      "Epoch 5/15\n",
      "54/54 [==============================] - 0s 4ms/step - loss: 0.9975 - accuracy: 0.6714 - val_loss: 0.8333 - val_accuracy: 0.7313\n",
      "Epoch 6/15\n",
      "54/54 [==============================] - 0s 3ms/step - loss: 0.8337 - accuracy: 0.7298 - val_loss: 0.6998 - val_accuracy: 0.7803\n",
      "Epoch 7/15\n",
      "54/54 [==============================] - 0s 2ms/step - loss: 0.7211 - accuracy: 0.7636 - val_loss: 0.6102 - val_accuracy: 0.8063\n",
      "Epoch 8/15\n",
      "54/54 [==============================] - 0s 2ms/step - loss: 0.6386 - accuracy: 0.7896 - val_loss: 0.5398 - val_accuracy: 0.8330\n",
      "Epoch 9/15\n",
      "54/54 [==============================] - 0s 2ms/step - loss: 0.5712 - accuracy: 0.8186 - val_loss: 0.4807 - val_accuracy: 0.8610\n",
      "Epoch 10/15\n",
      "54/54 [==============================] - 0s 4ms/step - loss: 0.5124 - accuracy: 0.8440 - val_loss: 0.4265 - val_accuracy: 0.8838\n",
      "Epoch 11/15\n",
      "54/54 [==============================] - 0s 2ms/step - loss: 0.4609 - accuracy: 0.8619 - val_loss: 0.3824 - val_accuracy: 0.8935\n",
      "Epoch 12/15\n",
      "54/54 [==============================] - 0s 2ms/step - loss: 0.4217 - accuracy: 0.8731 - val_loss: 0.3487 - val_accuracy: 0.9005\n",
      "Epoch 13/15\n",
      "54/54 [==============================] - 0s 2ms/step - loss: 0.3926 - accuracy: 0.8829 - val_loss: 0.3271 - val_accuracy: 0.9052\n",
      "Epoch 14/15\n",
      "54/54 [==============================] - 0s 2ms/step - loss: 0.3717 - accuracy: 0.8889 - val_loss: 0.3098 - val_accuracy: 0.9118\n",
      "Epoch 15/15\n",
      "54/54 [==============================] - 0s 2ms/step - loss: 0.3561 - accuracy: 0.8948 - val_loss: 0.2975 - val_accuracy: 0.9160\n"
     ]
    }
   ],
   "source": [
    "history2 = model2.fit(X_train, y_train, validation_split=0.1, epochs=15, batch_size=1000)"
   ]
  },
  {
   "cell_type": "code",
   "execution_count": 78,
   "metadata": {
    "scrolled": true
   },
   "outputs": [
    {
     "data": {
      "text/plain": [
       "{'loss': [2.1774544715881348,\n",
       "  1.8761857748031616,\n",
       "  1.562775731086731,\n",
       "  1.2484301328659058,\n",
       "  0.9975413084030151,\n",
       "  0.833742618560791,\n",
       "  0.7210901379585266,\n",
       "  0.6386058330535889,\n",
       "  0.5712273716926575,\n",
       "  0.5123770833015442,\n",
       "  0.4609481394290924,\n",
       "  0.42170485854148865,\n",
       "  0.39264413714408875,\n",
       "  0.37171295285224915,\n",
       "  0.356122761964798],\n",
       " 'accuracy': [0.19596296548843384,\n",
       "  0.2978888750076294,\n",
       "  0.44637036323547363,\n",
       "  0.5825555324554443,\n",
       "  0.6713703870773315,\n",
       "  0.7298148274421692,\n",
       "  0.7635555267333984,\n",
       "  0.7896296381950378,\n",
       "  0.8185555338859558,\n",
       "  0.8440370559692383,\n",
       "  0.8618888854980469,\n",
       "  0.8731296062469482,\n",
       "  0.8829073905944824,\n",
       "  0.8888888955116272,\n",
       "  0.894777774810791],\n",
       " 'val_loss': [2.0285892486572266,\n",
       "  1.7043688297271729,\n",
       "  1.3523385524749756,\n",
       "  1.0407589673995972,\n",
       "  0.833284854888916,\n",
       "  0.6997577548027039,\n",
       "  0.6101773381233215,\n",
       "  0.5397523641586304,\n",
       "  0.4807480573654175,\n",
       "  0.4265469014644623,\n",
       "  0.38242992758750916,\n",
       "  0.34867537021636963,\n",
       "  0.3270862102508545,\n",
       "  0.3098369240760803,\n",
       "  0.29745614528656006],\n",
       " 'val_accuracy': [0.25716665387153625,\n",
       "  0.37299999594688416,\n",
       "  0.5508333444595337,\n",
       "  0.6538333296775818,\n",
       "  0.731333315372467,\n",
       "  0.7803333401679993,\n",
       "  0.8063333630561829,\n",
       "  0.8330000042915344,\n",
       "  0.8610000014305115,\n",
       "  0.8838333487510681,\n",
       "  0.8934999704360962,\n",
       "  0.9004999995231628,\n",
       "  0.9051666855812073,\n",
       "  0.9118333458900452,\n",
       "  0.9160000085830688]}"
      ]
     },
     "execution_count": 78,
     "metadata": {},
     "output_type": "execute_result"
    }
   ],
   "source": [
    "history2.history"
   ]
  },
  {
   "cell_type": "code",
   "execution_count": 79,
   "metadata": {
    "scrolled": true
   },
   "outputs": [
    {
     "data": {
      "image/png": "[encoded data removed]",
      "text/plain": [
       "<Figure size 432x288 with 1 Axes>"
      ]
     },
     "metadata": {
      "needs_background": "light"
     },
     "output_type": "display_data"
    }
   ],
   "source": [
    "hist = history2.history\n",
    "train_accuracy = hist['accuracy']\n",
    "val_accuracy = hist['val_accuracy']\n",
    "epochs = range(1, len(val_accuracy)+1)\n",
    "plt.plot(epochs, train_accuracy, 'bo', label='train accuracy')\n",
    "plt.plot(epochs, val_accuracy, 'b', label='validation accuracy')\n",
    "plt.title('Training and validation accuracy')\n",
    "plt.xlabel('Epochs')\n",
    "plt.ylabel('Accuracy')\n",
    "plt.legend(loc='best')\n",
    "plt.show()"
   ]
  },
  {
   "cell_type": "code",
   "execution_count": 80,
   "metadata": {
    "scrolled": true
   },
   "outputs": [
    {
     "name": "stdout",
     "output_type": "stream",
     "text": [
      "313/313 [==============================] - 0s 976us/step - loss: 0.3289 - accuracy: 0.9003\n",
      "test loss, test acc: [0.3288639783859253, 0.9003000259399414]\n",
      "313/313 [==============================] - 0s 801us/step - loss: 0.3289 - accuracy: 0.9003\n",
      "Accuracy: 90.03\n"
     ]
    }
   ],
   "source": [
    "#evaluation of model\n",
    "results2 = model2.evaluate(X_test, y_test)\n",
    "print(\"test loss, test acc:\", results2)\n",
    "\n",
    "_, accuracy2 = model2.evaluate(X_test, y_test)\n",
    "print('Accuracy: %.2f' % (accuracy2*100))"
   ]
  },
  {
   "cell_type": "code",
   "execution_count": 81,
   "metadata": {},
   "outputs": [
    {
     "name": "stdout",
     "output_type": "stream",
     "text": [
      "Size of:\n",
      "- Training-set:\t\t(60000, 60)\n",
      "- Test-set:\t\t(10000, 60)\n"
     ]
    }
   ],
   "source": [
    "#without PCA \n",
    "X_train_noPCA = image_train.reshape((60000, 28*28)) # or #X_train = image_train.reshape(X_train.shape[0], -1)\n",
    "X_train_noPCA = X_train.astype('float32')/255 \n",
    "X_test_noPCA = image_test.reshape((10000, 28*28)) # or #X_test = image_test.reshape(X_test.shape[0], -1)\n",
    "X_test_noPCA = X_test.astype('float32')/255\n",
    "\n",
    "print(\"Size of:\")\n",
    "print(\"- Training-set:\\t\\t{}\".format(X_train_noPCA.shape))\n",
    "print(\"- Test-set:\\t\\t{}\".format(X_test_noPCA.shape))"
   ]
  },
  {
   "cell_type": "code",
   "execution_count": 82,
   "metadata": {},
   "outputs": [],
   "source": [
    "model_noPCA = Sequential([\n",
    "     keras.Input(shape=(60)),   \n",
    "     layers.Dense(32, activation='relu'),\n",
    "     layers.Dense(10, activation='softmax')\n",
    "])"
   ]
  },
  {
   "cell_type": "code",
   "execution_count": 83,
   "metadata": {},
   "outputs": [
    {
     "name": "stdout",
     "output_type": "stream",
     "text": [
      "Epoch 1/100\n",
      "11/11 [==============================] - 1s 17ms/step - loss: 2.3000 - accuracy: 0.1797 - val_loss: 2.2984 - val_accuracy: 0.1303\n",
      "Epoch 2/100\n",
      "11/11 [==============================] - 0s 5ms/step - loss: 2.2979 - accuracy: 0.1215 - val_loss: 2.2970 - val_accuracy: 0.1055\n",
      "Epoch 3/100\n",
      "11/11 [==============================] - 0s 5ms/step - loss: 2.2964 - accuracy: 0.1133 - val_loss: 2.2955 - val_accuracy: 0.1050\n",
      "Epoch 4/100\n",
      "11/11 [==============================] - 0s 5ms/step - loss: 2.2949 - accuracy: 0.1132 - val_loss: 2.2941 - val_accuracy: 0.1050\n",
      "Epoch 5/100\n",
      "11/11 [==============================] - 0s 9ms/step - loss: 2.2934 - accuracy: 0.1132 - val_loss: 2.2925 - val_accuracy: 0.1050\n",
      "Epoch 6/100\n",
      "11/11 [==============================] - 0s 11ms/step - loss: 2.2918 - accuracy: 0.1132 - val_loss: 2.2910 - val_accuracy: 0.1050\n",
      "Epoch 7/100\n",
      "11/11 [==============================] - 0s 8ms/step - loss: 2.2901 - accuracy: 0.1132 - val_loss: 2.2893 - val_accuracy: 0.1050\n",
      "Epoch 8/100\n",
      "11/11 [==============================] - 0s 7ms/step - loss: 2.2883 - accuracy: 0.1132 - val_loss: 2.2875 - val_accuracy: 0.1050\n",
      "Epoch 9/100\n",
      "11/11 [==============================] - 0s 6ms/step - loss: 2.2865 - accuracy: 0.1132 - val_loss: 2.2855 - val_accuracy: 0.1050\n",
      "Epoch 10/100\n",
      "11/11 [==============================] - 0s 6ms/step - loss: 2.2845 - accuracy: 0.1132 - val_loss: 2.2834 - val_accuracy: 0.1050\n",
      "Epoch 11/100\n",
      "11/11 [==============================] - 0s 7ms/step - loss: 2.2824 - accuracy: 0.1132 - val_loss: 2.2812 - val_accuracy: 0.1050\n",
      "Epoch 12/100\n",
      "11/11 [==============================] - 0s 8ms/step - loss: 2.2801 - accuracy: 0.1132 - val_loss: 2.2788 - val_accuracy: 0.1050\n",
      "Epoch 13/100\n",
      "11/11 [==============================] - 0s 7ms/step - loss: 2.2777 - accuracy: 0.1132 - val_loss: 2.2762 - val_accuracy: 0.1052\n",
      "Epoch 14/100\n",
      "11/11 [==============================] - 0s 6ms/step - loss: 2.2751 - accuracy: 0.1134 - val_loss: 2.2735 - val_accuracy: 0.1055\n",
      "Epoch 15/100\n",
      "11/11 [==============================] - 0s 6ms/step - loss: 2.2724 - accuracy: 0.1139 - val_loss: 2.2706 - val_accuracy: 0.1062\n",
      "Epoch 16/100\n",
      "11/11 [==============================] - 0s 6ms/step - loss: 2.2695 - accuracy: 0.1173 - val_loss: 2.2675 - val_accuracy: 0.1112\n",
      "Epoch 17/100\n",
      "11/11 [==============================] - 0s 6ms/step - loss: 2.2665 - accuracy: 0.1207 - val_loss: 2.2642 - val_accuracy: 0.1152\n",
      "Epoch 18/100\n",
      "11/11 [==============================] - 0s 6ms/step - loss: 2.2632 - accuracy: 0.1295 - val_loss: 2.2608 - val_accuracy: 0.1297\n",
      "Epoch 19/100\n",
      "11/11 [==============================] - 0s 6ms/step - loss: 2.2598 - accuracy: 0.1373 - val_loss: 2.2572 - val_accuracy: 0.1388\n",
      "Epoch 20/100\n",
      "11/11 [==============================] - 0s 6ms/step - loss: 2.2562 - accuracy: 0.1608 - val_loss: 2.2533 - val_accuracy: 0.1625\n",
      "Epoch 21/100\n",
      "11/11 [==============================] - 0s 6ms/step - loss: 2.2523 - accuracy: 0.1612 - val_loss: 2.2492 - val_accuracy: 0.1585\n",
      "Epoch 22/100\n",
      "11/11 [==============================] - 0s 6ms/step - loss: 2.2482 - accuracy: 0.1794 - val_loss: 2.2448 - val_accuracy: 0.1955\n",
      "Epoch 23/100\n",
      "11/11 [==============================] - 0s 6ms/step - loss: 2.2439 - accuracy: 0.2074 - val_loss: 2.2403 - val_accuracy: 0.2117\n",
      "Epoch 24/100\n",
      "11/11 [==============================] - 0s 6ms/step - loss: 2.2394 - accuracy: 0.2125 - val_loss: 2.2355 - val_accuracy: 0.2162\n",
      "Epoch 25/100\n",
      "11/11 [==============================] - 0s 6ms/step - loss: 2.2348 - accuracy: 0.2223 - val_loss: 2.2306 - val_accuracy: 0.2280\n",
      "Epoch 26/100\n",
      "11/11 [==============================] - 0s 7ms/step - loss: 2.2298 - accuracy: 0.2293 - val_loss: 2.2255 - val_accuracy: 0.2425\n",
      "Epoch 27/100\n",
      "11/11 [==============================] - 0s 8ms/step - loss: 2.2248 - accuracy: 0.2623 - val_loss: 2.2200 - val_accuracy: 0.2892\n",
      "Epoch 28/100\n",
      "11/11 [==============================] - 0s 8ms/step - loss: 2.2194 - accuracy: 0.2861 - val_loss: 2.2145 - val_accuracy: 0.2930\n",
      "Epoch 29/100\n",
      "11/11 [==============================] - 0s 8ms/step - loss: 2.2139 - accuracy: 0.3028 - val_loss: 2.2087 - val_accuracy: 0.3287\n",
      "Epoch 30/100\n",
      "11/11 [==============================] - 0s 6ms/step - loss: 2.2082 - accuracy: 0.3234 - val_loss: 2.2028 - val_accuracy: 0.3370\n",
      "Epoch 31/100\n",
      "11/11 [==============================] - 0s 7ms/step - loss: 2.2024 - accuracy: 0.3301 - val_loss: 2.1966 - val_accuracy: 0.3682\n",
      "Epoch 32/100\n",
      "11/11 [==============================] - 0s 8ms/step - loss: 2.1963 - accuracy: 0.3729 - val_loss: 2.1902 - val_accuracy: 0.4118\n",
      "Epoch 33/100\n",
      "11/11 [==============================] - 0s 8ms/step - loss: 2.1900 - accuracy: 0.3903 - val_loss: 2.1838 - val_accuracy: 0.4108\n",
      "Epoch 34/100\n",
      "11/11 [==============================] - 0s 7ms/step - loss: 2.1835 - accuracy: 0.4013 - val_loss: 2.1768 - val_accuracy: 0.4408\n",
      "Epoch 35/100\n",
      "11/11 [==============================] - 0s 11ms/step - loss: 2.1768 - accuracy: 0.4565 - val_loss: 2.1700 - val_accuracy: 0.5057\n",
      "Epoch 36/100\n",
      "11/11 [==============================] - 0s 9ms/step - loss: 2.1700 - accuracy: 0.4814 - val_loss: 2.1628 - val_accuracy: 0.4908\n",
      "Epoch 37/100\n",
      "11/11 [==============================] - 0s 6ms/step - loss: 2.1630 - accuracy: 0.4780 - val_loss: 2.1555 - val_accuracy: 0.5288\n",
      "Epoch 38/100\n",
      "11/11 [==============================] - 0s 6ms/step - loss: 2.1558 - accuracy: 0.4990 - val_loss: 2.1479 - val_accuracy: 0.5440\n",
      "Epoch 39/100\n",
      "11/11 [==============================] - 0s 6ms/step - loss: 2.1484 - accuracy: 0.5520 - val_loss: 2.1401 - val_accuracy: 0.6040\n",
      "Epoch 40/100\n",
      "11/11 [==============================] - 0s 6ms/step - loss: 2.1408 - accuracy: 0.5545 - val_loss: 2.1325 - val_accuracy: 0.5593\n",
      "Epoch 41/100\n",
      "11/11 [==============================] - 0s 7ms/step - loss: 2.1330 - accuracy: 0.5519 - val_loss: 2.1243 - val_accuracy: 0.6015\n",
      "Epoch 42/100\n",
      "11/11 [==============================] - 0s 8ms/step - loss: 2.1251 - accuracy: 0.5997 - val_loss: 2.1160 - val_accuracy: 0.6390\n",
      "Epoch 43/100\n",
      "11/11 [==============================] - 0s 13ms/step - loss: 2.1171 - accuracy: 0.6059 - val_loss: 2.1077 - val_accuracy: 0.6365\n",
      "Epoch 44/100\n",
      "11/11 [==============================] - 0s 6ms/step - loss: 2.1088 - accuracy: 0.6249 - val_loss: 2.0990 - val_accuracy: 0.6687\n",
      "Epoch 45/100\n",
      "11/11 [==============================] - 0s 5ms/step - loss: 2.1004 - accuracy: 0.6451 - val_loss: 2.0901 - val_accuracy: 0.6758\n",
      "Epoch 46/100\n",
      "11/11 [==============================] - 0s 5ms/step - loss: 2.0916 - accuracy: 0.6425 - val_loss: 2.0811 - val_accuracy: 0.6703\n",
      "Epoch 47/100\n",
      "11/11 [==============================] - 0s 5ms/step - loss: 2.0827 - accuracy: 0.6531 - val_loss: 2.0718 - val_accuracy: 0.7057\n",
      "Epoch 48/100\n",
      "11/11 [==============================] - 0s 5ms/step - loss: 2.0736 - accuracy: 0.6893 - val_loss: 2.0623 - val_accuracy: 0.7107\n",
      "Epoch 49/100\n",
      "11/11 [==============================] - 0s 5ms/step - loss: 2.0644 - accuracy: 0.6667 - val_loss: 2.0529 - val_accuracy: 0.7075\n",
      "Epoch 50/100\n",
      "11/11 [==============================] - 0s 5ms/step - loss: 2.0550 - accuracy: 0.6907 - val_loss: 2.0430 - val_accuracy: 0.7340\n",
      "Epoch 51/100\n",
      "11/11 [==============================] - 0s 5ms/step - loss: 2.0455 - accuracy: 0.7053 - val_loss: 2.0331 - val_accuracy: 0.7387\n",
      "Epoch 52/100\n",
      "11/11 [==============================] - 0s 5ms/step - loss: 2.0358 - accuracy: 0.7034 - val_loss: 2.0231 - val_accuracy: 0.7333\n",
      "Epoch 53/100\n",
      "11/11 [==============================] - 0s 5ms/step - loss: 2.0259 - accuracy: 0.7144 - val_loss: 2.0127 - val_accuracy: 0.7583\n",
      "Epoch 54/100\n",
      "11/11 [==============================] - 0s 6ms/step - loss: 2.0160 - accuracy: 0.7309 - val_loss: 2.0025 - val_accuracy: 0.7593\n",
      "Epoch 55/100\n",
      "11/11 [==============================] - 0s 5ms/step - loss: 2.0058 - accuracy: 0.7197 - val_loss: 1.9920 - val_accuracy: 0.7627\n",
      "Epoch 56/100\n",
      "11/11 [==============================] - 0s 6ms/step - loss: 1.9956 - accuracy: 0.7248 - val_loss: 1.9815 - val_accuracy: 0.7662\n",
      "Epoch 57/100\n",
      "11/11 [==============================] - 0s 5ms/step - loss: 1.9853 - accuracy: 0.7441 - val_loss: 1.9707 - val_accuracy: 0.7822\n",
      "Epoch 58/100\n",
      "11/11 [==============================] - 0s 5ms/step - loss: 1.9749 - accuracy: 0.7405 - val_loss: 1.9597 - val_accuracy: 0.7808\n"
     ]
    },
    {
     "name": "stdout",
     "output_type": "stream",
     "text": [
      "Epoch 59/100\n",
      "11/11 [==============================] - 0s 5ms/step - loss: 1.9643 - accuracy: 0.7429 - val_loss: 1.9492 - val_accuracy: 0.7775\n",
      "Epoch 60/100\n",
      "11/11 [==============================] - 0s 5ms/step - loss: 1.9536 - accuracy: 0.7562 - val_loss: 1.9377 - val_accuracy: 0.7945\n",
      "Epoch 61/100\n",
      "11/11 [==============================] - 0s 5ms/step - loss: 1.9427 - accuracy: 0.7511 - val_loss: 1.9268 - val_accuracy: 0.7845\n",
      "Epoch 62/100\n",
      "11/11 [==============================] - 0s 5ms/step - loss: 1.9319 - accuracy: 0.7516 - val_loss: 1.9153 - val_accuracy: 0.7978\n",
      "Epoch 63/100\n",
      "11/11 [==============================] - 0s 5ms/step - loss: 1.9210 - accuracy: 0.7620 - val_loss: 1.9040 - val_accuracy: 0.8015\n",
      "Epoch 64/100\n",
      "11/11 [==============================] - 0s 5ms/step - loss: 1.9099 - accuracy: 0.7651 - val_loss: 1.8926 - val_accuracy: 0.7982\n",
      "Epoch 65/100\n",
      "11/11 [==============================] - 0s 5ms/step - loss: 1.8988 - accuracy: 0.7645 - val_loss: 1.8810 - val_accuracy: 0.8058\n",
      "Epoch 66/100\n",
      "11/11 [==============================] - 0s 5ms/step - loss: 1.8876 - accuracy: 0.7734 - val_loss: 1.8695 - val_accuracy: 0.8068\n",
      "Epoch 67/100\n",
      "11/11 [==============================] - 0s 5ms/step - loss: 1.8763 - accuracy: 0.7666 - val_loss: 1.8579 - val_accuracy: 0.8068\n",
      "Epoch 68/100\n",
      "11/11 [==============================] - 0s 5ms/step - loss: 1.8650 - accuracy: 0.7774 - val_loss: 1.8460 - val_accuracy: 0.8167\n",
      "Epoch 69/100\n",
      "11/11 [==============================] - 0s 5ms/step - loss: 1.8536 - accuracy: 0.7796 - val_loss: 1.8344 - val_accuracy: 0.8117\n",
      "Epoch 70/100\n",
      "11/11 [==============================] - 0s 5ms/step - loss: 1.8422 - accuracy: 0.7761 - val_loss: 1.8224 - val_accuracy: 0.8177\n",
      "Epoch 71/100\n",
      "11/11 [==============================] - 0s 5ms/step - loss: 1.8306 - accuracy: 0.7857 - val_loss: 1.8106 - val_accuracy: 0.8222\n",
      "Epoch 72/100\n",
      "11/11 [==============================] - 0s 9ms/step - loss: 1.8191 - accuracy: 0.7803 - val_loss: 1.7987 - val_accuracy: 0.8160\n",
      "Epoch 73/100\n",
      "11/11 [==============================] - 0s 11ms/step - loss: 1.8075 - accuracy: 0.7856 - val_loss: 1.7866 - val_accuracy: 0.8273\n",
      "Epoch 74/100\n",
      "11/11 [==============================] - 0s 6ms/step - loss: 1.7959 - accuracy: 0.7871 - val_loss: 1.7747 - val_accuracy: 0.8232\n",
      "Epoch 75/100\n",
      "11/11 [==============================] - 0s 5ms/step - loss: 1.7843 - accuracy: 0.7886 - val_loss: 1.7626 - val_accuracy: 0.8288\n",
      "Epoch 76/100\n",
      "11/11 [==============================] - 0s 5ms/step - loss: 1.7726 - accuracy: 0.7943 - val_loss: 1.7504 - val_accuracy: 0.8322\n",
      "Epoch 77/100\n",
      "11/11 [==============================] - 0s 5ms/step - loss: 1.7609 - accuracy: 0.7915 - val_loss: 1.7386 - val_accuracy: 0.8300\n",
      "Epoch 78/100\n",
      "11/11 [==============================] - 0s 5ms/step - loss: 1.7492 - accuracy: 0.7929 - val_loss: 1.7262 - val_accuracy: 0.8327\n",
      "Epoch 79/100\n",
      "11/11 [==============================] - 0s 5ms/step - loss: 1.7375 - accuracy: 0.7990 - val_loss: 1.7140 - val_accuracy: 0.8322\n",
      "Epoch 80/100\n",
      "11/11 [==============================] - 0s 5ms/step - loss: 1.7257 - accuracy: 0.7954 - val_loss: 1.7019 - val_accuracy: 0.8348\n",
      "Epoch 81/100\n",
      "11/11 [==============================] - 0s 5ms/step - loss: 1.7140 - accuracy: 0.8024 - val_loss: 1.6897 - val_accuracy: 0.8353\n",
      "Epoch 82/100\n",
      "11/11 [==============================] - 0s 5ms/step - loss: 1.7022 - accuracy: 0.7974 - val_loss: 1.6777 - val_accuracy: 0.8312\n",
      "Epoch 83/100\n",
      "11/11 [==============================] - 0s 5ms/step - loss: 1.6904 - accuracy: 0.8011 - val_loss: 1.6653 - val_accuracy: 0.8382\n",
      "Epoch 84/100\n",
      "11/11 [==============================] - 0s 5ms/step - loss: 1.6787 - accuracy: 0.8042 - val_loss: 1.6532 - val_accuracy: 0.8358\n",
      "Epoch 85/100\n",
      "11/11 [==============================] - 0s 5ms/step - loss: 1.6667 - accuracy: 0.8041 - val_loss: 1.6406 - val_accuracy: 0.8403\n",
      "Epoch 86/100\n",
      "11/11 [==============================] - 0s 5ms/step - loss: 1.6547 - accuracy: 0.8100 - val_loss: 1.6285 - val_accuracy: 0.8362\n",
      "Epoch 87/100\n",
      "11/11 [==============================] - 0s 5ms/step - loss: 1.6427 - accuracy: 0.8041 - val_loss: 1.6157 - val_accuracy: 0.8408\n",
      "Epoch 88/100\n",
      "11/11 [==============================] - 0s 5ms/step - loss: 1.6306 - accuracy: 0.8093 - val_loss: 1.6031 - val_accuracy: 0.8413\n",
      "Epoch 89/100\n",
      "11/11 [==============================] - 0s 5ms/step - loss: 1.6186 - accuracy: 0.8083 - val_loss: 1.5907 - val_accuracy: 0.8418\n",
      "Epoch 90/100\n",
      "11/11 [==============================] - 0s 5ms/step - loss: 1.6065 - accuracy: 0.8125 - val_loss: 1.5781 - val_accuracy: 0.8410\n",
      "Epoch 91/100\n",
      "11/11 [==============================] - 0s 5ms/step - loss: 1.5945 - accuracy: 0.8126 - val_loss: 1.5655 - val_accuracy: 0.8432\n",
      "Epoch 92/100\n",
      "11/11 [==============================] - 0s 5ms/step - loss: 1.5824 - accuracy: 0.8134 - val_loss: 1.5532 - val_accuracy: 0.8442\n",
      "Epoch 93/100\n",
      "11/11 [==============================] - 0s 5ms/step - loss: 1.5703 - accuracy: 0.8132 - val_loss: 1.5407 - val_accuracy: 0.8450\n",
      "Epoch 94/100\n",
      "11/11 [==============================] - 0s 5ms/step - loss: 1.5583 - accuracy: 0.8162 - val_loss: 1.5281 - val_accuracy: 0.8473\n",
      "Epoch 95/100\n",
      "11/11 [==============================] - 0s 5ms/step - loss: 1.5464 - accuracy: 0.8164 - val_loss: 1.5159 - val_accuracy: 0.8463\n",
      "Epoch 96/100\n",
      "11/11 [==============================] - 0s 5ms/step - loss: 1.5345 - accuracy: 0.8171 - val_loss: 1.5033 - val_accuracy: 0.8468\n",
      "Epoch 97/100\n",
      "11/11 [==============================] - 0s 5ms/step - loss: 1.5225 - accuracy: 0.8170 - val_loss: 1.4910 - val_accuracy: 0.8477\n",
      "Epoch 98/100\n",
      "11/11 [==============================] - 0s 5ms/step - loss: 1.5107 - accuracy: 0.8199 - val_loss: 1.4787 - val_accuracy: 0.8493\n",
      "Epoch 99/100\n",
      "11/11 [==============================] - 0s 5ms/step - loss: 1.4989 - accuracy: 0.8207 - val_loss: 1.4665 - val_accuracy: 0.8498\n",
      "Epoch 100/100\n",
      "11/11 [==============================] - 0s 5ms/step - loss: 1.4872 - accuracy: 0.8209 - val_loss: 1.4542 - val_accuracy: 0.8508\n"
     ]
    }
   ],
   "source": [
    "optimizer = keras.optimizers.Adam(learning_rate=0.001)\n",
    "model_noPCA.compile(optimizer=optimizer, loss='categorical_crossentropy', metrics=['accuracy'])\n",
    "\n",
    "history_noPCA = model_noPCA.fit(X_train_noPCA, y_train,validation_split=0.1, epochs=100, batch_size=5000 )"
   ]
  },
  {
   "cell_type": "code",
   "execution_count": 84,
   "metadata": {},
   "outputs": [
    {
     "data": {
      "text/plain": [
       "{'loss': [2.300001382827759,\n",
       "  2.297908306121826,\n",
       "  2.296386241912842,\n",
       "  2.2948851585388184,\n",
       "  2.2933523654937744,\n",
       "  2.2917613983154297,\n",
       "  2.290086269378662,\n",
       "  2.2883365154266357,\n",
       "  2.2864718437194824,\n",
       "  2.284482955932617,\n",
       "  2.2823753356933594,\n",
       "  2.280111789703369,\n",
       "  2.2777137756347656,\n",
       "  2.27514910697937,\n",
       "  2.2724294662475586,\n",
       "  2.2695369720458984,\n",
       "  2.266465663909912,\n",
       "  2.2632415294647217,\n",
       "  2.2598345279693604,\n",
       "  2.2562174797058105,\n",
       "  2.252336025238037,\n",
       "  2.248220443725586,\n",
       "  2.2439229488372803,\n",
       "  2.239436388015747,\n",
       "  2.234750986099243,\n",
       "  2.229813814163208,\n",
       "  2.2247540950775146,\n",
       "  2.2194113731384277,\n",
       "  2.213942766189575,\n",
       "  2.208233594894409,\n",
       "  2.202374219894409,\n",
       "  2.196260929107666,\n",
       "  2.190002202987671,\n",
       "  2.1835408210754395,\n",
       "  2.1768314838409424,\n",
       "  2.1700193881988525,\n",
       "  2.162982940673828,\n",
       "  2.1557652950286865,\n",
       "  2.148427724838257,\n",
       "  2.140786647796631,\n",
       "  2.133042335510254,\n",
       "  2.1251344680786133,\n",
       "  2.1171085834503174,\n",
       "  2.1088383197784424,\n",
       "  2.1003577709198,\n",
       "  2.0915591716766357,\n",
       "  2.0826807022094727,\n",
       "  2.073627471923828,\n",
       "  2.0644264221191406,\n",
       "  2.0550310611724854,\n",
       "  2.045454502105713,\n",
       "  2.035792112350464,\n",
       "  2.0259265899658203,\n",
       "  2.0159504413604736,\n",
       "  2.00583815574646,\n",
       "  1.9956024885177612,\n",
       "  1.9853439331054688,\n",
       "  1.9748550653457642,\n",
       "  1.964331865310669,\n",
       "  1.9536031484603882,\n",
       "  1.9427263736724854,\n",
       "  1.931873083114624,\n",
       "  1.9209513664245605,\n",
       "  1.9099200963974,\n",
       "  1.8988004922866821,\n",
       "  1.8876240253448486,\n",
       "  1.876306414604187,\n",
       "  1.8649650812149048,\n",
       "  1.853622555732727,\n",
       "  1.8421809673309326,\n",
       "  1.830641508102417,\n",
       "  1.8191442489624023,\n",
       "  1.8075298070907593,\n",
       "  1.7959487438201904,\n",
       "  1.7843321561813354,\n",
       "  1.7726188898086548,\n",
       "  1.7609411478042603,\n",
       "  1.7491644620895386,\n",
       "  1.737471103668213,\n",
       "  1.7256789207458496,\n",
       "  1.7139679193496704,\n",
       "  1.7022193670272827,\n",
       "  1.6903821229934692,\n",
       "  1.6786837577819824,\n",
       "  1.6667165756225586,\n",
       "  1.6547030210494995,\n",
       "  1.642728567123413,\n",
       "  1.6305938959121704,\n",
       "  1.6185699701309204,\n",
       "  1.6064519882202148,\n",
       "  1.5944931507110596,\n",
       "  1.582371711730957,\n",
       "  1.5703233480453491,\n",
       "  1.5583423376083374,\n",
       "  1.5464383363723755,\n",
       "  1.5344748497009277,\n",
       "  1.5225496292114258,\n",
       "  1.5107359886169434,\n",
       "  1.4989285469055176,\n",
       "  1.4871654510498047],\n",
       " 'accuracy': [0.17974074184894562,\n",
       "  0.12151851505041122,\n",
       "  0.11327777802944183,\n",
       "  0.11318518221378326,\n",
       "  0.11318518221378326,\n",
       "  0.11318518221378326,\n",
       "  0.11318518221378326,\n",
       "  0.11318518221378326,\n",
       "  0.11318518221378326,\n",
       "  0.11318518221378326,\n",
       "  0.11318518221378326,\n",
       "  0.11318518221378326,\n",
       "  0.11320370435714722,\n",
       "  0.11335185170173645,\n",
       "  0.11392592638731003,\n",
       "  0.11725925654172897,\n",
       "  0.12066666781902313,\n",
       "  0.129518523812294,\n",
       "  0.1372777819633484,\n",
       "  0.1608148217201233,\n",
       "  0.16120369732379913,\n",
       "  0.17935185134410858,\n",
       "  0.20742592215538025,\n",
       "  0.21246296167373657,\n",
       "  0.22231481969356537,\n",
       "  0.2293333262205124,\n",
       "  0.26225924491882324,\n",
       "  0.28614816069602966,\n",
       "  0.30279630422592163,\n",
       "  0.32342591881752014,\n",
       "  0.33012962341308594,\n",
       "  0.3728888928890228,\n",
       "  0.3902592658996582,\n",
       "  0.40125927329063416,\n",
       "  0.45646294951438904,\n",
       "  0.4814259111881256,\n",
       "  0.47801852226257324,\n",
       "  0.4989814758300781,\n",
       "  0.5520185232162476,\n",
       "  0.5544999837875366,\n",
       "  0.5518703460693359,\n",
       "  0.5996666550636292,\n",
       "  0.6058703660964966,\n",
       "  0.6248518228530884,\n",
       "  0.6451296210289001,\n",
       "  0.6425185203552246,\n",
       "  0.6530740857124329,\n",
       "  0.6893148422241211,\n",
       "  0.666685163974762,\n",
       "  0.6907222270965576,\n",
       "  0.7053148150444031,\n",
       "  0.7034444212913513,\n",
       "  0.714388906955719,\n",
       "  0.7309073805809021,\n",
       "  0.7197036743164062,\n",
       "  0.7247962951660156,\n",
       "  0.7441481351852417,\n",
       "  0.7404629588127136,\n",
       "  0.7429074048995972,\n",
       "  0.7562222480773926,\n",
       "  0.7511110901832581,\n",
       "  0.7515555620193481,\n",
       "  0.7620185017585754,\n",
       "  0.7651296257972717,\n",
       "  0.7645184993743896,\n",
       "  0.7733888626098633,\n",
       "  0.7666296362876892,\n",
       "  0.7774259448051453,\n",
       "  0.7795740962028503,\n",
       "  0.7761296033859253,\n",
       "  0.785703718662262,\n",
       "  0.7803333401679993,\n",
       "  0.7855555415153503,\n",
       "  0.787074089050293,\n",
       "  0.788611114025116,\n",
       "  0.7943148016929626,\n",
       "  0.7914999723434448,\n",
       "  0.7928703427314758,\n",
       "  0.7990000247955322,\n",
       "  0.7954444289207458,\n",
       "  0.8024259209632874,\n",
       "  0.7974073886871338,\n",
       "  0.801111102104187,\n",
       "  0.8042036890983582,\n",
       "  0.804111123085022,\n",
       "  0.8100370168685913,\n",
       "  0.8041296005249023,\n",
       "  0.8092963099479675,\n",
       "  0.8083333373069763,\n",
       "  0.8124629855155945,\n",
       "  0.8125555515289307,\n",
       "  0.8134444355964661,\n",
       "  0.8131851553916931,\n",
       "  0.8162222504615784,\n",
       "  0.816444456577301,\n",
       "  0.8171111345291138,\n",
       "  0.8169999718666077,\n",
       "  0.819944441318512,\n",
       "  0.8207036852836609,\n",
       "  0.8208518624305725],\n",
       " 'val_loss': [2.298419237136841,\n",
       "  2.2969648838043213,\n",
       "  2.2955141067504883,\n",
       "  2.294060468673706,\n",
       "  2.2925357818603516,\n",
       "  2.290969133377075,\n",
       "  2.2892541885375977,\n",
       "  2.2874767780303955,\n",
       "  2.285458564758301,\n",
       "  2.2833967208862305,\n",
       "  2.2812001705169678,\n",
       "  2.278782606124878,\n",
       "  2.2761802673339844,\n",
       "  2.2735044956207275,\n",
       "  2.270603895187378,\n",
       "  2.2675044536590576,\n",
       "  2.2642343044281006,\n",
       "  2.2607815265655518,\n",
       "  2.25722074508667,\n",
       "  2.2533273696899414,\n",
       "  2.2491960525512695,\n",
       "  2.244788646697998,\n",
       "  2.240257978439331,\n",
       "  2.2355308532714844,\n",
       "  2.2305800914764404,\n",
       "  2.225475549697876,\n",
       "  2.21998929977417,\n",
       "  2.214465379714966,\n",
       "  2.2087340354919434,\n",
       "  2.202756881713867,\n",
       "  2.1965909004211426,\n",
       "  2.190178155899048,\n",
       "  2.183760166168213,\n",
       "  2.1768152713775635,\n",
       "  2.169994831085205,\n",
       "  2.1627695560455322,\n",
       "  2.155456066131592,\n",
       "  2.1479318141937256,\n",
       "  2.1400821208953857,\n",
       "  2.1324989795684814,\n",
       "  2.1242709159851074,\n",
       "  2.1160199642181396,\n",
       "  2.1076760292053223,\n",
       "  2.099006414413452,\n",
       "  2.0901310443878174,\n",
       "  2.081127882003784,\n",
       "  2.0717740058898926,\n",
       "  2.0623109340667725,\n",
       "  2.052863121032715,\n",
       "  2.0430166721343994,\n",
       "  2.0331428050994873,\n",
       "  2.0231425762176514,\n",
       "  2.0127084255218506,\n",
       "  2.0024826526641846,\n",
       "  1.992046594619751,\n",
       "  1.9815014600753784,\n",
       "  1.9706693887710571,\n",
       "  1.9597282409667969,\n",
       "  1.9492483139038086,\n",
       "  1.9376676082611084,\n",
       "  1.926776647567749,\n",
       "  1.9152659177780151,\n",
       "  1.9040411710739136,\n",
       "  1.8926249742507935,\n",
       "  1.8810118436813354,\n",
       "  1.869509220123291,\n",
       "  1.8579394817352295,\n",
       "  1.8460136651992798,\n",
       "  1.834384560585022,\n",
       "  1.8224188089370728,\n",
       "  1.8105967044830322,\n",
       "  1.7987104654312134,\n",
       "  1.786641240119934,\n",
       "  1.7746938467025757,\n",
       "  1.7625927925109863,\n",
       "  1.7503666877746582,\n",
       "  1.7386083602905273,\n",
       "  1.726176381111145,\n",
       "  1.7140132188796997,\n",
       "  1.7019100189208984,\n",
       "  1.6896668672561646,\n",
       "  1.6777257919311523,\n",
       "  1.6653164625167847,\n",
       "  1.6531929969787598,\n",
       "  1.6405506134033203,\n",
       "  1.6285089254379272,\n",
       "  1.6156656742095947,\n",
       "  1.6030830144882202,\n",
       "  1.5906736850738525,\n",
       "  1.5780794620513916,\n",
       "  1.5654951333999634,\n",
       "  1.5532076358795166,\n",
       "  1.5407397747039795,\n",
       "  1.5280954837799072,\n",
       "  1.515934944152832,\n",
       "  1.5033245086669922,\n",
       "  1.4910335540771484,\n",
       "  1.4786747694015503,\n",
       "  1.4664723873138428,\n",
       "  1.4542181491851807],\n",
       " 'val_accuracy': [0.1303333342075348,\n",
       "  0.1054999977350235,\n",
       "  0.10499999672174454,\n",
       "  0.10499999672174454,\n",
       "  0.10499999672174454,\n",
       "  0.10499999672174454,\n",
       "  0.10499999672174454,\n",
       "  0.10499999672174454,\n",
       "  0.10499999672174454,\n",
       "  0.10499999672174454,\n",
       "  0.10499999672174454,\n",
       "  0.10499999672174454,\n",
       "  0.10516666620969772,\n",
       "  0.1054999977350235,\n",
       "  0.10616666823625565,\n",
       "  0.11116666346788406,\n",
       "  0.11516666412353516,\n",
       "  0.12966667115688324,\n",
       "  0.13883332908153534,\n",
       "  0.16249999403953552,\n",
       "  0.15850000083446503,\n",
       "  0.19550000131130219,\n",
       "  0.21166667342185974,\n",
       "  0.2161666601896286,\n",
       "  0.2280000001192093,\n",
       "  0.24250000715255737,\n",
       "  0.289166659116745,\n",
       "  0.2930000126361847,\n",
       "  0.32866665720939636,\n",
       "  0.3370000123977661,\n",
       "  0.36816665530204773,\n",
       "  0.41183334589004517,\n",
       "  0.41083332896232605,\n",
       "  0.44083333015441895,\n",
       "  0.5056666731834412,\n",
       "  0.4908333420753479,\n",
       "  0.5288333296775818,\n",
       "  0.5440000295639038,\n",
       "  0.6039999723434448,\n",
       "  0.559333324432373,\n",
       "  0.6014999747276306,\n",
       "  0.6389999985694885,\n",
       "  0.6365000009536743,\n",
       "  0.668666660785675,\n",
       "  0.6758333444595337,\n",
       "  0.6703333258628845,\n",
       "  0.7056666612625122,\n",
       "  0.7106666564941406,\n",
       "  0.7074999809265137,\n",
       "  0.734000027179718,\n",
       "  0.7386666536331177,\n",
       "  0.7333333492279053,\n",
       "  0.7583333253860474,\n",
       "  0.7593333125114441,\n",
       "  0.762666642665863,\n",
       "  0.7661666870117188,\n",
       "  0.7821666598320007,\n",
       "  0.7808333039283752,\n",
       "  0.7774999737739563,\n",
       "  0.7944999933242798,\n",
       "  0.784500002861023,\n",
       "  0.7978333234786987,\n",
       "  0.8015000224113464,\n",
       "  0.7981666922569275,\n",
       "  0.8058333396911621,\n",
       "  0.8068333268165588,\n",
       "  0.8068333268165588,\n",
       "  0.8166666626930237,\n",
       "  0.8116666674613953,\n",
       "  0.8176666498184204,\n",
       "  0.8221666812896729,\n",
       "  0.8159999847412109,\n",
       "  0.8273333311080933,\n",
       "  0.8231666684150696,\n",
       "  0.8288333415985107,\n",
       "  0.8321666717529297,\n",
       "  0.8299999833106995,\n",
       "  0.8326666951179504,\n",
       "  0.8321666717529297,\n",
       "  0.8348333239555359,\n",
       "  0.8353333473205566,\n",
       "  0.831166684627533,\n",
       "  0.8381666541099548,\n",
       "  0.8358333110809326,\n",
       "  0.8403333425521851,\n",
       "  0.8361666798591614,\n",
       "  0.840833306312561,\n",
       "  0.8413333296775818,\n",
       "  0.8418333530426025,\n",
       "  0.8410000205039978,\n",
       "  0.8431666493415833,\n",
       "  0.8441666960716248,\n",
       "  0.8450000286102295,\n",
       "  0.8473333120346069,\n",
       "  0.8463333249092102,\n",
       "  0.846833348274231,\n",
       "  0.8476666808128357,\n",
       "  0.8493333458900452,\n",
       "  0.8498333096504211,\n",
       "  0.8508333563804626]}"
      ]
     },
     "execution_count": 84,
     "metadata": {},
     "output_type": "execute_result"
    }
   ],
   "source": [
    "history_noPCA.history"
   ]
  },
  {
   "cell_type": "code",
   "execution_count": 85,
   "metadata": {
    "scrolled": true
   },
   "outputs": [
    {
     "data": {
      "image/png": "[encoded data removed]",
      "text/plain": [
       "<Figure size 432x288 with 1 Axes>"
      ]
     },
     "metadata": {
      "needs_background": "light"
     },
     "output_type": "display_data"
    }
   ],
   "source": [
    "hist = history_noPCA.history\n",
    "train_accuracy = hist['accuracy']\n",
    "val_accuracy = hist['val_accuracy']\n",
    "epochs = range(1, len(val_accuracy)+1)\n",
    "plt.plot(epochs, train_accuracy, 'bo', label='train accuracy')\n",
    "plt.plot(epochs, val_accuracy, 'b', label='validation accuracy')\n",
    "plt.title('Training and validation accuracy')\n",
    "plt.xlabel('Epochs')\n",
    "plt.ylabel('Accuracy')\n",
    "plt.legend(loc='best')\n",
    "plt.show()"
   ]
  },
  {
   "cell_type": "code",
   "execution_count": 86,
   "metadata": {
    "scrolled": true
   },
   "outputs": [
    {
     "name": "stdout",
     "output_type": "stream",
     "text": [
      "313/313 [==============================] - 0s 918us/step - loss: 1.4605 - accuracy: 0.8363\n",
      "test loss, test acc: [1.4604612588882446, 0.8363000154495239]\n",
      "313/313 [==============================] - 0s 854us/step - loss: 3.2510 - accuracy: 0.1010\n",
      "Accuracy: 10.10\n"
     ]
    }
   ],
   "source": [
    "#evaluation of model\n",
    "results_noPCA = model_noPCA.evaluate(X_test_noPCA, y_test)\n",
    "print(\"test loss, test acc:\", results_noPCA)\n",
    "                                                             \n",
    "_, accuracy_noPCA = model2.evaluate(X_test_noPCA, y_test)\n",
    "print('Accuracy: %.2f' % (accuracy_noPCA*100))"
   ]
  },
  {
   "cell_type": "code",
   "execution_count": 92,
   "metadata": {},
   "outputs": [
    {
     "name": "stdout",
     "output_type": "stream",
     "text": [
      "Accuracy of knn with k=1: 0.98\n"
     ]
    }
   ],
   "source": [
    "from sklearn.neighbors import KNeighborsClassifier\n",
    "kmod = KNeighborsClassifier(n_neighbors=3).fit(X_train, label_train)\n",
    "score = kmod.score(X_test, label_test)\n",
    "print(\"Accuracy of knn with k=1: %.2f\"%(score))"
   ]
  }
 ],
 "metadata": {
  "colab": {
   "provenance": []
  },
  "kernelspec": {
   "display_name": "Python 3 (ipykernel)",
   "language": "python",
   "name": "python3"
  },
  "language_info": {
   "codemirror_mode": {
    "name": "ipython",
    "version": 3
   },
   "file_extension": ".py",
   "mimetype": "text/x-python",
   "name": "python",
   "nbconvert_exporter": "python",
   "pygments_lexer": "ipython3",
   "version": "3.10.0"
  }
 },
 "nbformat": 4,
 "nbformat_minor": 1
}
