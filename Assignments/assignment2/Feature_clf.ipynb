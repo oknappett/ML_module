{
 "cells": [
  {
   "cell_type": "markdown",
   "id": "8079dbcf",
   "metadata": {},
   "source": [
    "# Feature based approach\n"
   ]
  },
  {
   "cell_type": "code",
   "execution_count": 2,
   "id": "85c8dcdc",
   "metadata": {},
   "outputs": [],
   "source": [
    "#import libraries needed\n",
    "import pandas as pd\n",
    "import numpy as np\n",
    "import sklearn \n",
    "import matplotlib.pyplot as plt\n",
    "%matplotlib inline"
   ]
  },
  {
   "cell_type": "markdown",
   "id": "be1a3d4c",
   "metadata": {},
   "source": [
    "### Data exploration"
   ]
  },
  {
   "cell_type": "code",
   "execution_count": 3,
   "id": "23fc167c",
   "metadata": {},
   "outputs": [
    {
     "name": "stdout",
     "output_type": "stream",
     "text": [
      "<class 'pandas.core.frame.DataFrame'>\n",
      "RangeIndex: 13062 entries, 0 to 13061\n",
      "Columns: 190 entries, ID to F187\n",
      "dtypes: float64(188), object(2)\n",
      "memory usage: 18.9+ MB\n",
      "Training Data: None                  F0            F1            F2            F3            F4  \\\n",
      "count  13062.000000  13062.000000  13062.000000  13062.000000  13062.000000   \n",
      "mean      -5.010642      9.290002      4.520671      0.120655      0.573725   \n",
      "std       13.191543      8.316621      7.053515      0.882754      1.890958   \n",
      "min      -55.000000      0.000000      0.000000     -3.000000      0.000000   \n",
      "25%      -14.000000      2.000000      0.000000      0.000000      0.000000   \n",
      "50%       -6.000000      7.000000      1.000000      0.000000      0.000000   \n",
      "75%        2.000000     15.000000      6.000000      0.000000      0.000000   \n",
      "max       48.000000     55.000000     46.000000     24.000000     29.000000   \n",
      "\n",
      "                 F5            F6            F7            F8            F9  \\\n",
      "count  13062.000000  13062.000000  13062.000000  13062.000000  13062.000000   \n",
      "mean       2.300031      0.096836      0.126552      0.132732      0.064016   \n",
      "std        3.865684      0.112028      0.169311      0.186497      0.095972   \n",
      "min        0.000000      0.000000      0.000000      0.000000      0.000000   \n",
      "25%        0.000000      0.022209      0.019392      0.023584      0.008272   \n",
      "50%        1.000000      0.050370      0.042847      0.048759      0.018907   \n",
      "75%        3.000000      0.145311      0.193612      0.163994      0.106128   \n",
      "max       38.000000      1.352993      2.061968      2.236467      4.371038   \n",
      "\n",
      "       ...          F178          F179          F180          F181  \\\n",
      "count  ...  13062.000000  13062.000000  13062.000000  13062.000000   \n",
      "mean   ...      0.196174     13.582726      1.201046      2.134283   \n",
      "std    ...      0.161510     13.577910      2.148005      4.441734   \n",
      "min    ...      0.000382      1.388939    -15.563153      0.000000   \n",
      "25%    ...      0.067952      7.162740     -0.035668      0.000000   \n",
      "50%    ...      0.150030     11.113988      1.413245      0.000000   \n",
      "75%    ...      0.286833     16.658501      2.757871      2.000000   \n",
      "max    ...      0.861817    357.190570     14.984042     57.000000   \n",
      "\n",
      "               F182          F183          F184          F185          F186  \\\n",
      "count  13062.000000  13062.000000  13062.000000  13062.000000  13062.000000   \n",
      "mean       0.073343     69.890977      1.269331     74.272472    103.665849   \n",
      "std        0.572695     15.640697      5.676274     25.343729     41.176101   \n",
      "min        0.000000      0.000000      0.000000      0.000000      0.000000   \n",
      "25%        0.000000     59.760956      0.000000     63.770430     72.815534   \n",
      "50%        0.000000     67.567568      0.000000     73.126143     88.235294   \n",
      "75%        0.000000     77.120823      0.000000     84.865629    125.000000   \n",
      "max       14.000000    184.049080     63.000000    201.342282    202.702703   \n",
      "\n",
      "               F187  \n",
      "count  13062.000000  \n",
      "mean       0.982629  \n",
      "std        0.241950  \n",
      "min        0.000000  \n",
      "25%        0.832000  \n",
      "50%        0.952000  \n",
      "75%        1.104000  \n",
      "max        7.984000  \n",
      "\n",
      "[8 rows x 188 columns]\n",
      "       ID Type    F0   F1    F2   F3   F4   F5        F6        F7  ...  \\\n",
      "0  B00000    N  -5.0  8.0   3.0  0.0  0.0  3.0  0.077445  0.041760  ...   \n",
      "1  B00001    N  -8.0  8.0   0.0  0.0  0.0  0.0  0.015513  0.017613  ...   \n",
      "2  B00002    N  -8.0  8.0   0.0  0.0  0.0  0.0  0.011311  0.017416  ...   \n",
      "3  B00003    ~  25.0  1.0  26.0  0.0  0.0  7.0  0.517033  0.627826  ...   \n",
      "4  B00004    ~  17.0  1.0  20.0  1.0  1.0  2.0  0.577912  0.803246  ...   \n",
      "\n",
      "       F178       F179      F180  F181  F182       F183  F184        F185  \\\n",
      "0  0.153967  14.645908  2.897634   0.0   0.0  65.789474   0.0   73.619632   \n",
      "1  0.424268   9.350336  0.004927   0.0   0.0  58.365759   0.0   61.791967   \n",
      "2  0.188311  14.725601  2.380945   0.0   0.0  61.983471   0.0   62.860136   \n",
      "3  0.117397   3.525680 -0.580148  29.0   0.0  66.225166   9.0  117.416830   \n",
      "4  0.056104   4.242599 -1.011361   7.0   0.0  92.024540   6.0  124.223602   \n",
      "\n",
      "         F186   F187  \n",
      "0   85.227273  0.920  \n",
      "1   64.102564  1.168  \n",
      "2   64.655172  0.984  \n",
      "3  197.368421  1.256  \n",
      "4  202.702703  1.096  \n",
      "\n",
      "[5 rows x 190 columns]\n"
     ]
    }
   ],
   "source": [
    "#training data for feature based approach\n",
    "train = pd.read_csv(\"ecg23/train_feat.csv\")\n",
    "#test data\n",
    "test = pd.read_csv(\"ecg23/test_feat.csv\")\n",
    "\n",
    "print(f\"Training Data: {train.info()} {train.describe()}\")\n",
    "print(train.head())"
   ]
  },
  {
   "cell_type": "code",
   "execution_count": 12,
   "id": "fdda7c4f",
   "metadata": {},
   "outputs": [
    {
     "name": "stdout",
     "output_type": "stream",
     "text": [
      "[0 1 2 3]\n",
      "['A' 'N' 'O' '~']\n"
     ]
    }
   ],
   "source": [
    "# x and y train data\n",
    "from sklearn import preprocessing\n",
    "\n",
    "#extract features and labels\n",
    "X_train = train.iloc[:, 2:]\n",
    "labels = train['Type']\n",
    "\n",
    "#encode labels to 0, 1, 2, 3\n",
    "label_encoder = preprocessing.LabelEncoder()\n",
    "y_train = label_encoder.fit_transform(labels)\n",
    "print(np.unique(y_train))\n",
    "print(label_encoder.inverse_transform(np.unique(y_train)))"
   ]
  },
  {
   "cell_type": "code",
   "execution_count": 22,
   "id": "0ca9e1bc",
   "metadata": {},
   "outputs": [
    {
     "name": "stdout",
     "output_type": "stream",
     "text": [
      "N    7721\n",
      "O    3857\n",
      "A    1160\n",
      "~     324\n",
      "Name: Type, dtype: int64\n"
     ]
    },
    {
     "data": {
      "text/plain": [
       "(array([1160.,    0.,    0., 7721.,    0.,    0., 3857.,    0.,    0.,\n",
       "         324.]),\n",
       " array([0. , 0.3, 0.6, 0.9, 1.2, 1.5, 1.8, 2.1, 2.4, 2.7, 3. ]),\n",
       " <BarContainer object of 10 artists>)"
      ]
     },
     "execution_count": 22,
     "metadata": {},
     "output_type": "execute_result"
    },
    {
     "data": {
      "image/png": "[encoded data removed]",
      "text/plain": [
       "<Figure size 640x480 with 1 Axes>"
      ]
     },
     "metadata": {},
     "output_type": "display_data"
    }
   ],
   "source": [
    "#visualise distribution of class labels\n",
    "\n",
    "print(train.Type.value_counts())\n",
    "plt.hist(y_train)"
   ]
  }
 ],
 "metadata": {
  "kernelspec": {
   "display_name": "Python 3 (ipykernel)",
   "language": "python",
   "name": "python3"
  },
  "language_info": {
   "codemirror_mode": {
    "name": "ipython",
    "version": 3
   },
   "file_extension": ".py",
   "mimetype": "text/x-python",
   "name": "python",
   "nbconvert_exporter": "python",
   "pygments_lexer": "ipython3",
   "version": "3.10.0"
  }
 },
 "nbformat": 4,
 "nbformat_minor": 5
}
